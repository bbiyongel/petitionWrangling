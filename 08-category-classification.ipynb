{
 "cells": [
  {
   "cell_type": "markdown",
   "metadata": {},
   "source": [
    "# 국민청원 데이터로 청원 카테고리 분류하기\n",
    "* 청와대 국민청원 : https://www1.president.go.kr/petitions\n",
    "\n",
    "> 학습세트의 카테고리를 바탕으로 테스트 세트의 청원 카테고리를 분류해 봅니다."
   ]
  },
  {
   "cell_type": "markdown",
   "metadata": {},
   "source": [
    "1. 학습세트와 테스트세트를 7:3으로 임의로 나누기\n",
    "1. 데이터 전처리\n",
    "1. 단어 벡터화(BOW, TF-IDF)\n",
    "1. 분류기 설정하기(Random Forest)\n",
    "1. 분류기로 학습시키기\n",
    "1. 학습의 정확도 보기\n",
    "1. 테스트 데이터 예측하기\n",
    "1. 실제 데이터와 예측결과의 차이를 보기"
   ]
  },
  {
   "cell_type": "code",
   "execution_count": 1,
   "metadata": {},
   "outputs": [
    {
     "name": "stdout",
     "output_type": "stream",
     "text": [
      "0.21.0\n",
      "1.14.0\n"
     ]
    }
   ],
   "source": [
    "import pandas as pd\n",
    "import numpy as np\n",
    "import re\n",
    "print(pd.__version__)\n",
    "print(np.__version__)"
   ]
  },
  {
   "cell_type": "markdown",
   "metadata": {},
   "source": [
    "# 데이터 로드하기"
   ]
  },
  {
   "cell_type": "code",
   "execution_count": 2,
   "metadata": {},
   "outputs": [
    {
     "data": {
      "text/plain": [
       "(377756, 8)"
      ]
     },
     "execution_count": 2,
     "metadata": {},
     "output_type": "execute_result"
    }
   ],
   "source": [
    "# 크롤링해 온 국민청원 데이터를 판다스를 통해 읽어옵니다.\n",
    "petitions = pd.read_csv('data/petition.csv', parse_dates=['start', 'end'])\n",
    "# 데이터의 크기가 어느정도인지 봅니다.\n",
    "petitions.shape"
   ]
  },
  {
   "cell_type": "code",
   "execution_count": 3,
   "metadata": {},
   "outputs": [
    {
     "data": {
      "text/html": [
       "<div>\n",
       "<style scoped>\n",
       "    .dataframe tbody tr th:only-of-type {\n",
       "        vertical-align: middle;\n",
       "    }\n",
       "\n",
       "    .dataframe tbody tr th {\n",
       "        vertical-align: top;\n",
       "    }\n",
       "\n",
       "    .dataframe thead th {\n",
       "        text-align: right;\n",
       "    }\n",
       "</style>\n",
       "<table border=\"1\" class=\"dataframe\">\n",
       "  <thead>\n",
       "    <tr style=\"text-align: right;\">\n",
       "      <th></th>\n",
       "      <th>article_id</th>\n",
       "      <th>answered</th>\n",
       "      <th>votes</th>\n",
       "    </tr>\n",
       "  </thead>\n",
       "  <tbody>\n",
       "    <tr>\n",
       "      <th>count</th>\n",
       "      <td>377756.000000</td>\n",
       "      <td>377756.000000</td>\n",
       "      <td>3.777560e+05</td>\n",
       "    </tr>\n",
       "    <tr>\n",
       "      <th>mean</th>\n",
       "      <td>239703.455924</td>\n",
       "      <td>0.000077</td>\n",
       "      <td>1.514069e+02</td>\n",
       "    </tr>\n",
       "    <tr>\n",
       "      <th>std</th>\n",
       "      <td>146382.863480</td>\n",
       "      <td>0.008761</td>\n",
       "      <td>4.842551e+03</td>\n",
       "    </tr>\n",
       "    <tr>\n",
       "      <th>min</th>\n",
       "      <td>21.000000</td>\n",
       "      <td>0.000000</td>\n",
       "      <td>0.000000e+00</td>\n",
       "    </tr>\n",
       "    <tr>\n",
       "      <th>25%</th>\n",
       "      <td>108933.750000</td>\n",
       "      <td>0.000000</td>\n",
       "      <td>1.000000e+00</td>\n",
       "    </tr>\n",
       "    <tr>\n",
       "      <th>50%</th>\n",
       "      <td>237637.000000</td>\n",
       "      <td>0.000000</td>\n",
       "      <td>5.000000e+00</td>\n",
       "    </tr>\n",
       "    <tr>\n",
       "      <th>75%</th>\n",
       "      <td>367937.250000</td>\n",
       "      <td>0.000000</td>\n",
       "      <td>1.500000e+01</td>\n",
       "    </tr>\n",
       "    <tr>\n",
       "      <th>max</th>\n",
       "      <td>492043.000000</td>\n",
       "      <td>1.000000</td>\n",
       "      <td>1.192049e+06</td>\n",
       "    </tr>\n",
       "  </tbody>\n",
       "</table>\n",
       "</div>"
      ],
      "text/plain": [
       "          article_id       answered         votes\n",
       "count  377756.000000  377756.000000  3.777560e+05\n",
       "mean   239703.455924       0.000077  1.514069e+02\n",
       "std    146382.863480       0.008761  4.842551e+03\n",
       "min        21.000000       0.000000  0.000000e+00\n",
       "25%    108933.750000       0.000000  1.000000e+00\n",
       "50%    237637.000000       0.000000  5.000000e+00\n",
       "75%    367937.250000       0.000000  1.500000e+01\n",
       "max    492043.000000       1.000000  1.192049e+06"
      ]
     },
     "execution_count": 3,
     "metadata": {},
     "output_type": "execute_result"
    }
   ],
   "source": [
    "petitions.describe()"
   ]
  },
  {
   "cell_type": "code",
   "execution_count": 4,
   "metadata": {},
   "outputs": [
    {
     "data": {
      "text/plain": [
       "(17709, 8)"
      ]
     },
     "execution_count": 4,
     "metadata": {},
     "output_type": "execute_result"
    }
   ],
   "source": [
    "# 전체 데이터 중 투표가 100건 이상인 데이터를 기준으로 가져옵니다.\n",
    "df = petitions.loc[(petitions['votes'] > 100)].copy()\n",
    "df.shape"
   ]
  },
  {
   "cell_type": "code",
   "execution_count": 5,
   "metadata": {},
   "outputs": [
    {
     "data": {
      "text/html": [
       "<div>\n",
       "<style scoped>\n",
       "    .dataframe tbody tr th:only-of-type {\n",
       "        vertical-align: middle;\n",
       "    }\n",
       "\n",
       "    .dataframe tbody tr th {\n",
       "        vertical-align: top;\n",
       "    }\n",
       "\n",
       "    .dataframe thead th {\n",
       "        text-align: right;\n",
       "    }\n",
       "</style>\n",
       "<table border=\"1\" class=\"dataframe\">\n",
       "  <thead>\n",
       "    <tr style=\"text-align: right;\">\n",
       "      <th></th>\n",
       "      <th>article_id</th>\n",
       "      <th>answered</th>\n",
       "      <th>votes</th>\n",
       "    </tr>\n",
       "  </thead>\n",
       "  <tbody>\n",
       "    <tr>\n",
       "      <th>count</th>\n",
       "      <td>17709.000000</td>\n",
       "      <td>17709.000000</td>\n",
       "      <td>1.770900e+04</td>\n",
       "    </tr>\n",
       "    <tr>\n",
       "      <th>mean</th>\n",
       "      <td>263551.931278</td>\n",
       "      <td>0.001638</td>\n",
       "      <td>3.008568e+03</td>\n",
       "    </tr>\n",
       "    <tr>\n",
       "      <th>std</th>\n",
       "      <td>130538.656063</td>\n",
       "      <td>0.040435</td>\n",
       "      <td>2.217389e+04</td>\n",
       "    </tr>\n",
       "    <tr>\n",
       "      <th>min</th>\n",
       "      <td>28.000000</td>\n",
       "      <td>0.000000</td>\n",
       "      <td>1.010000e+02</td>\n",
       "    </tr>\n",
       "    <tr>\n",
       "      <th>25%</th>\n",
       "      <td>168398.000000</td>\n",
       "      <td>0.000000</td>\n",
       "      <td>1.440000e+02</td>\n",
       "    </tr>\n",
       "    <tr>\n",
       "      <th>50%</th>\n",
       "      <td>258392.000000</td>\n",
       "      <td>0.000000</td>\n",
       "      <td>2.400000e+02</td>\n",
       "    </tr>\n",
       "    <tr>\n",
       "      <th>75%</th>\n",
       "      <td>382174.000000</td>\n",
       "      <td>0.000000</td>\n",
       "      <td>6.440000e+02</td>\n",
       "    </tr>\n",
       "    <tr>\n",
       "      <th>max</th>\n",
       "      <td>492036.000000</td>\n",
       "      <td>1.000000</td>\n",
       "      <td>1.192049e+06</td>\n",
       "    </tr>\n",
       "  </tbody>\n",
       "</table>\n",
       "</div>"
      ],
      "text/plain": [
       "          article_id      answered         votes\n",
       "count   17709.000000  17709.000000  1.770900e+04\n",
       "mean   263551.931278      0.001638  3.008568e+03\n",
       "std    130538.656063      0.040435  2.217389e+04\n",
       "min        28.000000      0.000000  1.010000e+02\n",
       "25%    168398.000000      0.000000  1.440000e+02\n",
       "50%    258392.000000      0.000000  2.400000e+02\n",
       "75%    382174.000000      0.000000  6.440000e+02\n",
       "max    492036.000000      1.000000  1.192049e+06"
      ]
     },
     "execution_count": 5,
     "metadata": {},
     "output_type": "execute_result"
    }
   ],
   "source": [
    "df.describe()"
   ]
  },
  {
   "cell_type": "code",
   "execution_count": 6,
   "metadata": {},
   "outputs": [
    {
     "data": {
      "text/plain": [
       "정치개혁           2452\n",
       "인권/성평등         2217\n",
       "육아/교육          1772\n",
       "기타             1730\n",
       "안전/환경          1553\n",
       "보건복지           1336\n",
       "교통/건축/국토       1313\n",
       "문화/예술/체육/언론    1041\n",
       "외교/통일/국방        880\n",
       "행정              847\n",
       "경제민주화           745\n",
       "일자리             654\n",
       "반려동물            395\n",
       "미래              389\n",
       "저출산/고령화대책       178\n",
       "성장동력            132\n",
       "농산어촌             75\n",
       "Name: category, dtype: int64"
      ]
     },
     "execution_count": 6,
     "metadata": {},
     "output_type": "execute_result"
    }
   ],
   "source": [
    "category_count = df['category'].value_counts()\n",
    "category_count"
   ]
  },
  {
   "cell_type": "code",
   "execution_count": 7,
   "metadata": {},
   "outputs": [
    {
     "data": {
      "text/plain": [
       "17"
      ]
     },
     "execution_count": 7,
     "metadata": {},
     "output_type": "execute_result"
    }
   ],
   "source": [
    "len(df['category'].unique())"
   ]
  },
  {
   "cell_type": "code",
   "execution_count": 8,
   "metadata": {},
   "outputs": [
    {
     "data": {
      "text/plain": [
       "<matplotlib.axes._subplots.AxesSubplot at 0x1118e8898>"
      ]
     },
     "execution_count": 8,
     "metadata": {},
     "output_type": "execute_result"
    },
    {
     "data": {
      "image/png": "[encoded data removed]",
      "text/plain": [
       "<matplotlib.figure.Figure at 0x102a78b70>"
      ]
     },
     "metadata": {},
     "output_type": "display_data"
    }
   ],
   "source": [
    "%matplotlib inline \n",
    "import matplotlib.pyplot as plt\n",
    "\n",
    "# 나눔 바른고딕이 설치되어 있어야 합니다.\n",
    "# 해당 폰트가 없다면 설치된 폰트명으로 지정해 주어야 합니다.\n",
    "plt.rcParams[\"font.family\"] = 'NanumBarunGothic'\n",
    "category_count.plot(kind='bar')"
   ]
  },
  {
   "cell_type": "code",
   "execution_count": 9,
   "metadata": {},
   "outputs": [
    {
     "data": {
      "text/plain": [
       "<matplotlib.axes._subplots.AxesSubplot at 0x111900080>"
      ]
     },
     "execution_count": 9,
     "metadata": {},
     "output_type": "execute_result"
    },
    {
     "data": {
      "image/png": "[encoded data removed]",
      "text/plain": [
       "<matplotlib.figure.Figure at 0x111924668>"
      ]
     },
     "metadata": {},
     "output_type": "display_data"
    }
   ],
   "source": [
    "df = df[(df['category'] == '인권/성평등') | (df['category'] == '육아/교육') | (df['category'] == '안전/환경')]\n",
    "category_count = df['category'].value_counts()\n",
    "category_count\n",
    "category_count.plot(kind='bar')"
   ]
  },
  {
   "cell_type": "code",
   "execution_count": 10,
   "metadata": {},
   "outputs": [],
   "source": [
    "# 예측값과 실제값 비교를 위해 컬럼을 하나 더 생성합니다.\n",
    "df['category_pred'] = df['category'].copy()"
   ]
  },
  {
   "cell_type": "code",
   "execution_count": 11,
   "metadata": {},
   "outputs": [
    {
     "data": {
      "text/html": [
       "<div>\n",
       "<style scoped>\n",
       "    .dataframe tbody tr th:only-of-type {\n",
       "        vertical-align: middle;\n",
       "    }\n",
       "\n",
       "    .dataframe tbody tr th {\n",
       "        vertical-align: top;\n",
       "    }\n",
       "\n",
       "    .dataframe thead th {\n",
       "        text-align: right;\n",
       "    }\n",
       "</style>\n",
       "<table border=\"1\" class=\"dataframe\">\n",
       "  <thead>\n",
       "    <tr style=\"text-align: right;\">\n",
       "      <th></th>\n",
       "      <th>article_id</th>\n",
       "      <th>start</th>\n",
       "      <th>end</th>\n",
       "      <th>answered</th>\n",
       "      <th>votes</th>\n",
       "      <th>category</th>\n",
       "      <th>title</th>\n",
       "      <th>content</th>\n",
       "      <th>category_pred</th>\n",
       "    </tr>\n",
       "  </thead>\n",
       "  <tbody>\n",
       "    <tr>\n",
       "      <th>20</th>\n",
       "      <td>42</td>\n",
       "      <td>2017-08-19</td>\n",
       "      <td>2017-09-18</td>\n",
       "      <td>0</td>\n",
       "      <td>173</td>\n",
       "      <td>육아/교육</td>\n",
       "      <td>기간제 교사의 정규직화를 반대합니다.</td>\n",
       "      <td>대통령님, 안녕하세요. 저는 임용을 준비하고 수험생입니다. 처음 기간제 정규직화 된...</td>\n",
       "      <td>육아/교육</td>\n",
       "    </tr>\n",
       "    <tr>\n",
       "      <th>21</th>\n",
       "      <td>43</td>\n",
       "      <td>2017-08-19</td>\n",
       "      <td>2017-09-18</td>\n",
       "      <td>0</td>\n",
       "      <td>11293</td>\n",
       "      <td>육아/교육</td>\n",
       "      <td>기간제 교사의 정규직화를 반대합니다.</td>\n",
       "      <td>대통령님, 안녕하세요. 저는 임용을 준비하고 수험생입니다. 처음 기간제 정규직화 된...</td>\n",
       "      <td>육아/교육</td>\n",
       "    </tr>\n",
       "    <tr>\n",
       "      <th>24</th>\n",
       "      <td>46</td>\n",
       "      <td>2017-08-19</td>\n",
       "      <td>2017-09-18</td>\n",
       "      <td>0</td>\n",
       "      <td>1933</td>\n",
       "      <td>육아/교육</td>\n",
       "      <td>기간제교사의 정규직화를 반대합니다.</td>\n",
       "      <td>대통령님, 안녕하세요. 저는 임용을 준비하고 수험생입니다. 처음 기간제 정규직화 된...</td>\n",
       "      <td>육아/교육</td>\n",
       "    </tr>\n",
       "    <tr>\n",
       "      <th>42</th>\n",
       "      <td>65</td>\n",
       "      <td>2017-08-20</td>\n",
       "      <td>2017-11-18</td>\n",
       "      <td>0</td>\n",
       "      <td>285</td>\n",
       "      <td>육아/교육</td>\n",
       "      <td>기간제교사 정규직 및 무기계약직전환 반대합니다</td>\n",
       "      <td>저는 영어전문강사, 스포츠전문강사를 무기계약직 혹은 정규직으로 전환하는 것에 반대합...</td>\n",
       "      <td>육아/교육</td>\n",
       "    </tr>\n",
       "    <tr>\n",
       "      <th>43</th>\n",
       "      <td>66</td>\n",
       "      <td>2017-08-20</td>\n",
       "      <td>2017-09-19</td>\n",
       "      <td>0</td>\n",
       "      <td>263</td>\n",
       "      <td>육아/교육</td>\n",
       "      <td>기간제 교사 및 각종 강사들의 무기계약 및 정규직 전환 반대합니다!</td>\n",
       "      <td>정부에서 제시한 일자리 로드맵에서 사회적 합의를 위해 청년들에게 인기가 많고, 공채...</td>\n",
       "      <td>육아/교육</td>\n",
       "    </tr>\n",
       "  </tbody>\n",
       "</table>\n",
       "</div>"
      ],
      "text/plain": [
       "    article_id      start        end  answered  votes category  \\\n",
       "20          42 2017-08-19 2017-09-18         0    173    육아/교육   \n",
       "21          43 2017-08-19 2017-09-18         0  11293    육아/교육   \n",
       "24          46 2017-08-19 2017-09-18         0   1933    육아/교육   \n",
       "42          65 2017-08-20 2017-11-18         0    285    육아/교육   \n",
       "43          66 2017-08-20 2017-09-19         0    263    육아/교육   \n",
       "\n",
       "                                    title  \\\n",
       "20                   기간제 교사의 정규직화를 반대합니다.   \n",
       "21                   기간제 교사의 정규직화를 반대합니다.   \n",
       "24                    기간제교사의 정규직화를 반대합니다.   \n",
       "42              기간제교사 정규직 및 무기계약직전환 반대합니다   \n",
       "43  기간제 교사 및 각종 강사들의 무기계약 및 정규직 전환 반대합니다!   \n",
       "\n",
       "                                              content category_pred  \n",
       "20  대통령님, 안녕하세요. 저는 임용을 준비하고 수험생입니다. 처음 기간제 정규직화 된...         육아/교육  \n",
       "21  대통령님, 안녕하세요. 저는 임용을 준비하고 수험생입니다. 처음 기간제 정규직화 된...         육아/교육  \n",
       "24  대통령님, 안녕하세요. 저는 임용을 준비하고 수험생입니다. 처음 기간제 정규직화 된...         육아/교육  \n",
       "42  저는 영어전문강사, 스포츠전문강사를 무기계약직 혹은 정규직으로 전환하는 것에 반대합...         육아/교육  \n",
       "43  정부에서 제시한 일자리 로드맵에서 사회적 합의를 위해 청년들에게 인기가 많고, 공채...         육아/교육  "
      ]
     },
     "execution_count": 11,
     "metadata": {},
     "output_type": "execute_result"
    }
   ],
   "source": [
    "df.head()"
   ]
  },
  {
   "cell_type": "code",
   "execution_count": 12,
   "metadata": {},
   "outputs": [
    {
     "data": {
      "text/plain": [
       "42"
      ]
     },
     "execution_count": 12,
     "metadata": {},
     "output_type": "execute_result"
    }
   ],
   "source": [
    "# 첫 번째 인덱스를 가져와 봅니다.\n",
    "sample_index = df.iloc[0][0]\n",
    "sample_index"
   ]
  },
  {
   "cell_type": "code",
   "execution_count": 13,
   "metadata": {},
   "outputs": [
    {
     "data": {
      "text/plain": [
       "'기간제교사 정규직 및 무기계약직전환 반대합니다'"
      ]
     },
     "execution_count": 13,
     "metadata": {},
     "output_type": "execute_result"
    }
   ],
   "source": [
    "sample_title = df['title'][sample_index]\n",
    "sample_title"
   ]
  },
  {
   "cell_type": "code",
   "execution_count": 14,
   "metadata": {},
   "outputs": [
    {
     "data": {
      "text/plain": [
       "'저는 영어전문강사, 스포츠전문강사를 무기계약직 혹은 정규직으로 전환하는 것에 반대합니다.\\\\n임용고사라는 정당한 시험으로 정교사가 될 수 있는 길이 있습니다.  기간제교사를 뽑는 절차 또한 투명한 것 또한 명확한 것은 아니며, 참교사를 꿈꾸며 교대와 사범대를 재학중인, 임용고사 시험을 준비하는 학생들의 꿈과 희망을 짓밟지 말아주세요.\\\\n학교는 교육의 장으로 교육엔 학생, 교사, 교과서 이 세개가 중심이 되어야 하는 곳입니다. 그런 학교를 교육의 장이 아닌 일자리 창출의 장으로 보지 말아주세요.\\\\n대통령님, 현 정부 모두 학생들과 학부모, 대중의 여론의 대다수의 목소리를 들어주세요.\\\\n소통의 정부 약속을 지켜주세요 ㅠㅠ\\\\n열심히 공부해서 꿈을 향해 정정당당한 절차로 정교사가 되고자 하는 사람들의 목소리를 정의를 바라봐주세요! ㅠㅠ\\\\n또한, 영어전문강사, 스포츠전문강사를 무기계약직으로 전환해주지 않는 건, 2014년 헌법재판소에서도 합법적이라고 판결을 내렸습니다. (헌법재판소 사건번호 2012헌마380) 그렇기 때문에 4년 이상을 근무했건 8년을 근무했건, 무기계약직으로 전환해주지 않는 건 위헌이라 할 수 없습니다. 대전시 고등법원의 판단보다는 헌법재판소의 판단이 더 중요하지 않을까요?\\\\n아래 헌법재판소의 판결문을 참고해주세요.\\\\n‘구 초·중등교육법 제22조 제2항, 같은 법 시행령 제42조 제5항에 의하면, 영어회화 전문강사는 기간을 정하여 임용할 때 그 기간은 1년 이내로 하되, 필요한 경우 계속 근무한 기간이 4년을 초과하지 아니하는 범위에서 그 기간을 연장할 수 있다고 규정하고 있으므로, 기간제 및 단시간 근로자의 보호 등에 관한 법률 제4조 제1항 단서 제6호, 같은 법 시행령 제3조 제3항 제1호에 해당하여 무기계약직 근로자 간주 대상에서 제외된다 할 것이다.\\\\n사정이 이와 같다면, 영어회화 전문강사의 경우 기간제근로자이지만 그 사용기간이 2년을 초과하더라도 무기계약직 근로자로 간주하지 아니하는 것은 위 관계법령의 규정에 의하여 이미 확정된 내용이므로, 이 사건 지침조항은 위 관계법령의 규정에 의하여 확정된 내용을 확인한 것에 불과하여 청구인들의 법적 지위에 어떠한 영향을 미친다고 볼 수 없다.\\\\n따라서 이 사건 지침조항은 헌법소원의 대상이 되는 공권력 행사에 해당하지 않는다. 그렇다면 이 사건 심판청구는 부적법하므로 이를 모두 각하하기로 하여 관여 재판관 전원의 일치된 의견으로 주문과 같이 결정한다.’'"
      ]
     },
     "execution_count": 14,
     "metadata": {},
     "output_type": "execute_result"
    }
   ],
   "source": [
    "sample_content = petitions['content'][sample_index]\n",
    "sample_content"
   ]
  },
  {
   "cell_type": "markdown",
   "metadata": {},
   "source": [
    "# 전처리 하기 \n",
    "* 특수문자 제거\n",
    "* 개행문자 제거\n",
    "* 불용어 처리"
   ]
  },
  {
   "cell_type": "code",
   "execution_count": 15,
   "metadata": {},
   "outputs": [],
   "source": [
    "def preprocessing(text):\n",
    "    # 개행문자 제거\n",
    "    text= str(text)\n",
    "    text = re.sub('\\\\\\\\n', ' ', text)\n",
    "    # 특수문자 제거\n",
    "    # 특수문자나 이모티콘 등은 때로는 의미를 갖기도 하지만 여기에서는 제거했습니다.\n",
    "    # text = re.sub('[?.,;:|\\)*~`’!^\\-_+<>@\\#$%&-=#}※]', '', text)\n",
    "    # 한글, 영문, 숫자만 남기고 모두 제거하도록 합니다.\n",
    "    # text = re.sub('[^가-힣ㄱ-ㅎㅏ-ㅣa-zA-Z0-9]', ' ', text)\n",
    "    # 한글, 영문만 남기고 모두 제거하도록 합니다.\n",
    "    text = re.sub('[^가-힣ㄱ-ㅎㅏ-ㅣa-zA-Z]', ' ', text)\n",
    "    return text"
   ]
  },
  {
   "cell_type": "code",
   "execution_count": 16,
   "metadata": {},
   "outputs": [],
   "source": [
    "# 불용어 제거\n",
    "def remove_stopwords(text):\n",
    "    tokens = text.split(' ')\n",
    "    stops = ['수', '현', '있는', '있습니다', '그', '년도', '합니다', '하는', '및', '제', '할', '하고', '더', '대한', '한', '그리고', '월', '저는', '없는', '입니다', '등', '일', '많은', '이런', '것은', '왜','같은', '같습니다', '없습니다', '위해', '한다']\n",
    "    meaningful_words = [w for w in tokens if not w in stops]\n",
    "    return ' '.join(meaningful_words)"
   ]
  },
  {
   "cell_type": "markdown",
   "metadata": {},
   "source": [
    "## 샘플데이터에 먼저 적용해 보기"
   ]
  },
  {
   "cell_type": "code",
   "execution_count": 17,
   "metadata": {},
   "outputs": [],
   "source": [
    "# 샘플데이터에 적용\n",
    "pre_sample_content = preprocessing(sample_content)"
   ]
  },
  {
   "cell_type": "code",
   "execution_count": 18,
   "metadata": {},
   "outputs": [],
   "source": [
    "pre_sample_content = remove_stopwords(pre_sample_content)"
   ]
  },
  {
   "cell_type": "code",
   "execution_count": 19,
   "metadata": {},
   "outputs": [
    {
     "data": {
      "text/plain": [
       "'영어전문강사  스포츠전문강사를 무기계약직 혹은 정규직으로 전환하는 것에 반대합니다  임용고사라는 정당한 시험으로 정교사가 될 길이   기간제교사를 뽑는 절차 또한 투명한 것 또한 명확한 아니며  참교사를 꿈꾸며 교대와 사범대를 재학중인  임용고사 시험을 준비하는 학생들의 꿈과 희망을 짓밟지 말아주세요  학교는 교육의 장으로 교육엔 학생  교사  교과서 이 세개가 중심이 되어야 곳입니다  그런 학교를 교육의 장이 아닌 일자리 창출의 장으로 보지 말아주세요  대통령님  정부 모두 학생들과 학부모  대중의 여론의 대다수의 목소리를 들어주세요  소통의 정부 약속을 지켜주세요 ㅠㅠ 열심히 공부해서 꿈을 향해 정정당당한 절차로 정교사가 되고자 사람들의 목소리를 정의를 바라봐주세요  ㅠㅠ 또한  영어전문강사  스포츠전문강사를 무기계약직으로 전환해주지 않는 건      년 헌법재판소에서도 합법적이라고 판결을 내렸습니다   헌법재판소 사건번호     헌마     그렇기 때문에  년 이상을 근무했건  년을 근무했건  무기계약직으로 전환해주지 않는 건 위헌이라  대전시 고등법원의 판단보다는 헌법재판소의 판단이 중요하지 않을까요  아래 헌법재판소의 판결문을 참고해주세요   구 초 중등교육법  조 항  법 시행령  조 항에 의하면  영어회화 전문강사는 기간을 정하여 임용할 때 기간은  년 이내로 하되  필요한 경우 계속 근무한 기간이  년을 초과하지 아니하는 범위에서 기간을 연장할 있다고 규정하고 있으므로  기간제 단시간 근로자의 보호 등에 관한 법률 조 항 단서 호  법 시행령 조 항 호에 해당하여 무기계약직 근로자 간주 대상에서 제외된다 것이다  사정이 이와 같다면  영어회화 전문강사의 경우 기간제근로자이지만 사용기간이  년을 초과하더라도 무기계약직 근로자로 간주하지 아니하는 위 관계법령의 규정에 의하여 이미 확정된 내용이므로  이 사건 지침조항은 위 관계법령의 규정에 의하여 확정된 내용을 확인한 것에 불과하여 청구인들의 법적 지위에 어떠한 영향을 미친다고 볼 없다  따라서 이 사건 지침조항은 헌법소원의 대상이 되는 공권력 행사에 해당하지 않는다  그렇다면 이 사건 심판청구는 부적법하므로 이를 모두 각하하기로 하여 관여 재판관 전원의 일치된 의견으로 주문과 같이 결정한다  '"
      ]
     },
     "execution_count": 19,
     "metadata": {},
     "output_type": "execute_result"
    }
   ],
   "source": [
    "pre_sample_content"
   ]
  },
  {
   "cell_type": "markdown",
   "metadata": {},
   "source": [
    "## 전체 데이터에 적용하기"
   ]
  },
  {
   "cell_type": "code",
   "execution_count": 20,
   "metadata": {},
   "outputs": [
    {
     "name": "stdout",
     "output_type": "stream",
     "text": [
      "CPU times: user 670 ms, sys: 22.9 ms, total: 693 ms\n",
      "Wall time: 992 ms\n"
     ]
    }
   ],
   "source": [
    "%time df['content_preprocessing'] = df['content'].apply(preprocessing)"
   ]
  },
  {
   "cell_type": "code",
   "execution_count": 21,
   "metadata": {},
   "outputs": [
    {
     "name": "stdout",
     "output_type": "stream",
     "text": [
      "CPU times: user 964 ms, sys: 19.2 ms, total: 983 ms\n",
      "Wall time: 1.05 s\n"
     ]
    }
   ],
   "source": [
    "%time df['content_preprocessing2'] = df['content_preprocessing'].apply(remove_stopwords)"
   ]
  },
  {
   "cell_type": "markdown",
   "metadata": {},
   "source": [
    "# 학습세트와 테스트세트 만들기\n",
    "* 학습세트와 테스트세트를 7:3의 비율로 나눠 줍니다."
   ]
  },
  {
   "cell_type": "code",
   "execution_count": 22,
   "metadata": {},
   "outputs": [],
   "source": [
    "df = df.reindex()"
   ]
  },
  {
   "cell_type": "code",
   "execution_count": 23,
   "metadata": {},
   "outputs": [
    {
     "data": {
      "text/plain": [
       "(5542, 11)"
      ]
     },
     "execution_count": 23,
     "metadata": {},
     "output_type": "execute_result"
    }
   ],
   "source": [
    "df.shape"
   ]
  },
  {
   "cell_type": "code",
   "execution_count": 24,
   "metadata": {},
   "outputs": [
    {
     "data": {
      "text/plain": [
       "3879"
      ]
     },
     "execution_count": 24,
     "metadata": {},
     "output_type": "execute_result"
    }
   ],
   "source": [
    "split_count = int(df.shape[0] * 0.7)\n",
    "split_count"
   ]
  },
  {
   "cell_type": "code",
   "execution_count": 25,
   "metadata": {},
   "outputs": [
    {
     "data": {
      "text/plain": [
       "(3879, 11)"
      ]
     },
     "execution_count": 25,
     "metadata": {},
     "output_type": "execute_result"
    }
   ],
   "source": [
    "df_train = df[:split_count].copy()\n",
    "df_train.shape"
   ]
  },
  {
   "cell_type": "code",
   "execution_count": 26,
   "metadata": {},
   "outputs": [
    {
     "data": {
      "text/html": [
       "<div>\n",
       "<style scoped>\n",
       "    .dataframe tbody tr th:only-of-type {\n",
       "        vertical-align: middle;\n",
       "    }\n",
       "\n",
       "    .dataframe tbody tr th {\n",
       "        vertical-align: top;\n",
       "    }\n",
       "\n",
       "    .dataframe thead th {\n",
       "        text-align: right;\n",
       "    }\n",
       "</style>\n",
       "<table border=\"1\" class=\"dataframe\">\n",
       "  <thead>\n",
       "    <tr style=\"text-align: right;\">\n",
       "      <th></th>\n",
       "      <th>article_id</th>\n",
       "      <th>start</th>\n",
       "      <th>end</th>\n",
       "      <th>answered</th>\n",
       "      <th>votes</th>\n",
       "      <th>category</th>\n",
       "      <th>title</th>\n",
       "      <th>content</th>\n",
       "      <th>category_pred</th>\n",
       "      <th>content_preprocessing</th>\n",
       "      <th>content_preprocessing2</th>\n",
       "    </tr>\n",
       "  </thead>\n",
       "  <tbody>\n",
       "    <tr>\n",
       "      <th>20</th>\n",
       "      <td>42</td>\n",
       "      <td>2017-08-19</td>\n",
       "      <td>2017-09-18</td>\n",
       "      <td>0</td>\n",
       "      <td>173</td>\n",
       "      <td>육아/교육</td>\n",
       "      <td>기간제 교사의 정규직화를 반대합니다.</td>\n",
       "      <td>대통령님, 안녕하세요. 저는 임용을 준비하고 수험생입니다. 처음 기간제 정규직화 된...</td>\n",
       "      <td>육아/교육</td>\n",
       "      <td>대통령님  안녕하세요  저는 임용을 준비하고 수험생입니다  처음 기간제 정규직화 된...</td>\n",
       "      <td>대통령님  안녕하세요  임용을 준비하고 수험생입니다  처음 기간제 정규직화 된다고 ...</td>\n",
       "    </tr>\n",
       "    <tr>\n",
       "      <th>21</th>\n",
       "      <td>43</td>\n",
       "      <td>2017-08-19</td>\n",
       "      <td>2017-09-18</td>\n",
       "      <td>0</td>\n",
       "      <td>11293</td>\n",
       "      <td>육아/교육</td>\n",
       "      <td>기간제 교사의 정규직화를 반대합니다.</td>\n",
       "      <td>대통령님, 안녕하세요. 저는 임용을 준비하고 수험생입니다. 처음 기간제 정규직화 된...</td>\n",
       "      <td>육아/교육</td>\n",
       "      <td>대통령님  안녕하세요  저는 임용을 준비하고 수험생입니다  처음 기간제 정규직화 된...</td>\n",
       "      <td>대통령님  안녕하세요  임용을 준비하고 수험생입니다  처음 기간제 정규직화 된다고 ...</td>\n",
       "    </tr>\n",
       "    <tr>\n",
       "      <th>24</th>\n",
       "      <td>46</td>\n",
       "      <td>2017-08-19</td>\n",
       "      <td>2017-09-18</td>\n",
       "      <td>0</td>\n",
       "      <td>1933</td>\n",
       "      <td>육아/교육</td>\n",
       "      <td>기간제교사의 정규직화를 반대합니다.</td>\n",
       "      <td>대통령님, 안녕하세요. 저는 임용을 준비하고 수험생입니다. 처음 기간제 정규직화 된...</td>\n",
       "      <td>육아/교육</td>\n",
       "      <td>대통령님  안녕하세요  저는 임용을 준비하고 수험생입니다  처음 기간제 정규직화 된...</td>\n",
       "      <td>대통령님  안녕하세요  임용을 준비하고 수험생입니다  처음 기간제 정규직화 된다고 ...</td>\n",
       "    </tr>\n",
       "    <tr>\n",
       "      <th>42</th>\n",
       "      <td>65</td>\n",
       "      <td>2017-08-20</td>\n",
       "      <td>2017-11-18</td>\n",
       "      <td>0</td>\n",
       "      <td>285</td>\n",
       "      <td>육아/교육</td>\n",
       "      <td>기간제교사 정규직 및 무기계약직전환 반대합니다</td>\n",
       "      <td>저는 영어전문강사, 스포츠전문강사를 무기계약직 혹은 정규직으로 전환하는 것에 반대합...</td>\n",
       "      <td>육아/교육</td>\n",
       "      <td>저는 영어전문강사  스포츠전문강사를 무기계약직 혹은 정규직으로 전환하는 것에 반대합...</td>\n",
       "      <td>영어전문강사  스포츠전문강사를 무기계약직 혹은 정규직으로 전환하는 것에 반대합니다 ...</td>\n",
       "    </tr>\n",
       "    <tr>\n",
       "      <th>43</th>\n",
       "      <td>66</td>\n",
       "      <td>2017-08-20</td>\n",
       "      <td>2017-09-19</td>\n",
       "      <td>0</td>\n",
       "      <td>263</td>\n",
       "      <td>육아/교육</td>\n",
       "      <td>기간제 교사 및 각종 강사들의 무기계약 및 정규직 전환 반대합니다!</td>\n",
       "      <td>정부에서 제시한 일자리 로드맵에서 사회적 합의를 위해 청년들에게 인기가 많고, 공채...</td>\n",
       "      <td>육아/교육</td>\n",
       "      <td>정부에서 제시한 일자리 로드맵에서 사회적 합의를 위해 청년들에게 인기가 많고  공채...</td>\n",
       "      <td>정부에서 제시한 일자리 로드맵에서 사회적 합의를 청년들에게 인기가 많고  공채가 부...</td>\n",
       "    </tr>\n",
       "  </tbody>\n",
       "</table>\n",
       "</div>"
      ],
      "text/plain": [
       "    article_id      start        end  answered  votes category  \\\n",
       "20          42 2017-08-19 2017-09-18         0    173    육아/교육   \n",
       "21          43 2017-08-19 2017-09-18         0  11293    육아/교육   \n",
       "24          46 2017-08-19 2017-09-18         0   1933    육아/교육   \n",
       "42          65 2017-08-20 2017-11-18         0    285    육아/교육   \n",
       "43          66 2017-08-20 2017-09-19         0    263    육아/교육   \n",
       "\n",
       "                                    title  \\\n",
       "20                   기간제 교사의 정규직화를 반대합니다.   \n",
       "21                   기간제 교사의 정규직화를 반대합니다.   \n",
       "24                    기간제교사의 정규직화를 반대합니다.   \n",
       "42              기간제교사 정규직 및 무기계약직전환 반대합니다   \n",
       "43  기간제 교사 및 각종 강사들의 무기계약 및 정규직 전환 반대합니다!   \n",
       "\n",
       "                                              content category_pred  \\\n",
       "20  대통령님, 안녕하세요. 저는 임용을 준비하고 수험생입니다. 처음 기간제 정규직화 된...         육아/교육   \n",
       "21  대통령님, 안녕하세요. 저는 임용을 준비하고 수험생입니다. 처음 기간제 정규직화 된...         육아/교육   \n",
       "24  대통령님, 안녕하세요. 저는 임용을 준비하고 수험생입니다. 처음 기간제 정규직화 된...         육아/교육   \n",
       "42  저는 영어전문강사, 스포츠전문강사를 무기계약직 혹은 정규직으로 전환하는 것에 반대합...         육아/교육   \n",
       "43  정부에서 제시한 일자리 로드맵에서 사회적 합의를 위해 청년들에게 인기가 많고, 공채...         육아/교육   \n",
       "\n",
       "                                content_preprocessing  \\\n",
       "20  대통령님  안녕하세요  저는 임용을 준비하고 수험생입니다  처음 기간제 정규직화 된...   \n",
       "21  대통령님  안녕하세요  저는 임용을 준비하고 수험생입니다  처음 기간제 정규직화 된...   \n",
       "24  대통령님  안녕하세요  저는 임용을 준비하고 수험생입니다  처음 기간제 정규직화 된...   \n",
       "42  저는 영어전문강사  스포츠전문강사를 무기계약직 혹은 정규직으로 전환하는 것에 반대합...   \n",
       "43  정부에서 제시한 일자리 로드맵에서 사회적 합의를 위해 청년들에게 인기가 많고  공채...   \n",
       "\n",
       "                               content_preprocessing2  \n",
       "20  대통령님  안녕하세요  임용을 준비하고 수험생입니다  처음 기간제 정규직화 된다고 ...  \n",
       "21  대통령님  안녕하세요  임용을 준비하고 수험생입니다  처음 기간제 정규직화 된다고 ...  \n",
       "24  대통령님  안녕하세요  임용을 준비하고 수험생입니다  처음 기간제 정규직화 된다고 ...  \n",
       "42  영어전문강사  스포츠전문강사를 무기계약직 혹은 정규직으로 전환하는 것에 반대합니다 ...  \n",
       "43  정부에서 제시한 일자리 로드맵에서 사회적 합의를 청년들에게 인기가 많고  공채가 부...  "
      ]
     },
     "execution_count": 26,
     "metadata": {},
     "output_type": "execute_result"
    }
   ],
   "source": [
    "df_train.head()"
   ]
  },
  {
   "cell_type": "code",
   "execution_count": 27,
   "metadata": {},
   "outputs": [
    {
     "data": {
      "text/plain": [
       "(1663, 11)"
      ]
     },
     "execution_count": 27,
     "metadata": {},
     "output_type": "execute_result"
    }
   ],
   "source": [
    "df_test = df[split_count:].copy()\n",
    "df_test.shape"
   ]
  },
  {
   "cell_type": "code",
   "execution_count": 28,
   "metadata": {},
   "outputs": [
    {
     "data": {
      "text/html": [
       "<div>\n",
       "<style scoped>\n",
       "    .dataframe tbody tr th:only-of-type {\n",
       "        vertical-align: middle;\n",
       "    }\n",
       "\n",
       "    .dataframe tbody tr th {\n",
       "        vertical-align: top;\n",
       "    }\n",
       "\n",
       "    .dataframe thead th {\n",
       "        text-align: right;\n",
       "    }\n",
       "</style>\n",
       "<table border=\"1\" class=\"dataframe\">\n",
       "  <thead>\n",
       "    <tr style=\"text-align: right;\">\n",
       "      <th></th>\n",
       "      <th>article_id</th>\n",
       "      <th>start</th>\n",
       "      <th>end</th>\n",
       "      <th>answered</th>\n",
       "      <th>votes</th>\n",
       "      <th>category</th>\n",
       "      <th>title</th>\n",
       "      <th>content</th>\n",
       "      <th>category_pred</th>\n",
       "      <th>content_preprocessing</th>\n",
       "      <th>content_preprocessing2</th>\n",
       "    </tr>\n",
       "  </thead>\n",
       "  <tbody>\n",
       "    <tr>\n",
       "      <th>280034</th>\n",
       "      <td>363606</td>\n",
       "      <td>2018-09-02</td>\n",
       "      <td>2018-10-02</td>\n",
       "      <td>0</td>\n",
       "      <td>109</td>\n",
       "      <td>안전/환경</td>\n",
       "      <td>쓰레기 무단투기에 강력한 처벌을 해주세요</td>\n",
       "      <td>안녕하세요 저는 늘푸른중학교 3학년에 재학중인 학생입니다.사회시간 사회 문제점에 대...</td>\n",
       "      <td>안전/환경</td>\n",
       "      <td>안녕하세요 저는 늘푸른중학교  학년에 재학중인 학생입니다 사회시간 사회 문제점에 대...</td>\n",
       "      <td>안녕하세요 늘푸른중학교  학년에 재학중인 학생입니다 사회시간 사회 문제점에 대해 찾...</td>\n",
       "    </tr>\n",
       "    <tr>\n",
       "      <th>280119</th>\n",
       "      <td>363714</td>\n",
       "      <td>2018-09-03</td>\n",
       "      <td>2018-10-03</td>\n",
       "      <td>0</td>\n",
       "      <td>978</td>\n",
       "      <td>안전/환경</td>\n",
       "      <td>광양 바이오매스 화력발전소 건설을 철회해 주세요!!!   광양 순천 여수 사람들 죽...</td>\n",
       "      <td>친애하는 문재인 대통령님\\n전남 동부권 지역 주민 50만 대부분 인구가 살아가는 집...</td>\n",
       "      <td>안전/환경</td>\n",
       "      <td>친애하는 문재인 대통령님 전남 동부권 지역 주민   만 대부분 인구가 살아가는 집단...</td>\n",
       "      <td>친애하는 문재인 대통령님 전남 동부권 지역 주민   만 대부분 인구가 살아가는 집단...</td>\n",
       "    </tr>\n",
       "    <tr>\n",
       "      <th>280231</th>\n",
       "      <td>363882</td>\n",
       "      <td>2018-09-03</td>\n",
       "      <td>2018-10-03</td>\n",
       "      <td>0</td>\n",
       "      <td>187</td>\n",
       "      <td>육아/교육</td>\n",
       "      <td>유은혜 장관 지명철회 요청</td>\n",
       "      <td>유은혜 부총리겸 교육부장관 지명 철회\\n비 전문가가 나라 교육 망칠일 있습니까?\\n...</td>\n",
       "      <td>육아/교육</td>\n",
       "      <td>유은혜 부총리겸 교육부장관 지명 철회 비 전문가가 나라 교육 망칠일 있습니까  철회...</td>\n",
       "      <td>유은혜 부총리겸 교육부장관 지명 철회 비 전문가가 나라 교육 망칠일 있습니까  철회...</td>\n",
       "    </tr>\n",
       "    <tr>\n",
       "      <th>280422</th>\n",
       "      <td>364118</td>\n",
       "      <td>2018-09-03</td>\n",
       "      <td>2018-10-03</td>\n",
       "      <td>0</td>\n",
       "      <td>151</td>\n",
       "      <td>육아/교육</td>\n",
       "      <td>유은혜 의원 장관임명 철회요청</td>\n",
       "      <td>유은혜 의원은 교육부 장관으로서 적임자가 아닙니다.\\n세가지 이유에서 입니다.\\n첫...</td>\n",
       "      <td>육아/교육</td>\n",
       "      <td>유은혜 의원은 교육부 장관으로서 적임자가 아닙니다  세가지 이유에서 입니다  첫째 ...</td>\n",
       "      <td>유은혜 의원은 교육부 장관으로서 적임자가 아닙니다  세가지 이유에서  첫째  교육 ...</td>\n",
       "    </tr>\n",
       "    <tr>\n",
       "      <th>280471</th>\n",
       "      <td>364188</td>\n",
       "      <td>2018-09-03</td>\n",
       "      <td>2018-10-03</td>\n",
       "      <td>0</td>\n",
       "      <td>131</td>\n",
       "      <td>육아/교육</td>\n",
       "      <td>유은혜 지명철회..... 문정부는 국민들과 소통을 안하는가???</td>\n",
       "      <td>국민들이 반대하고.. 피감기관에 사무실을 입주해 있는자를 임명하려 한다.\\n박근혜정...</td>\n",
       "      <td>육아/교육</td>\n",
       "      <td>국민들이 반대하고   피감기관에 사무실을 입주해 있는자를 임명하려 한다  박근혜정부...</td>\n",
       "      <td>국민들이 반대하고   피감기관에 사무실을 입주해 있는자를 임명하려  박근혜정부에서 ...</td>\n",
       "    </tr>\n",
       "  </tbody>\n",
       "</table>\n",
       "</div>"
      ],
      "text/plain": [
       "        article_id      start        end  answered  votes category  \\\n",
       "280034      363606 2018-09-02 2018-10-02         0    109    안전/환경   \n",
       "280119      363714 2018-09-03 2018-10-03         0    978    안전/환경   \n",
       "280231      363882 2018-09-03 2018-10-03         0    187    육아/교육   \n",
       "280422      364118 2018-09-03 2018-10-03         0    151    육아/교육   \n",
       "280471      364188 2018-09-03 2018-10-03         0    131    육아/교육   \n",
       "\n",
       "                                                    title  \\\n",
       "280034                             쓰레기 무단투기에 강력한 처벌을 해주세요   \n",
       "280119  광양 바이오매스 화력발전소 건설을 철회해 주세요!!!   광양 순천 여수 사람들 죽...   \n",
       "280231                                     유은혜 장관 지명철회 요청   \n",
       "280422                                   유은혜 의원 장관임명 철회요청   \n",
       "280471                유은혜 지명철회..... 문정부는 국민들과 소통을 안하는가???   \n",
       "\n",
       "                                                  content category_pred  \\\n",
       "280034  안녕하세요 저는 늘푸른중학교 3학년에 재학중인 학생입니다.사회시간 사회 문제점에 대...         안전/환경   \n",
       "280119  친애하는 문재인 대통령님\\n전남 동부권 지역 주민 50만 대부분 인구가 살아가는 집...         안전/환경   \n",
       "280231  유은혜 부총리겸 교육부장관 지명 철회\\n비 전문가가 나라 교육 망칠일 있습니까?\\n...         육아/교육   \n",
       "280422  유은혜 의원은 교육부 장관으로서 적임자가 아닙니다.\\n세가지 이유에서 입니다.\\n첫...         육아/교육   \n",
       "280471  국민들이 반대하고.. 피감기관에 사무실을 입주해 있는자를 임명하려 한다.\\n박근혜정...         육아/교육   \n",
       "\n",
       "                                    content_preprocessing  \\\n",
       "280034  안녕하세요 저는 늘푸른중학교  학년에 재학중인 학생입니다 사회시간 사회 문제점에 대...   \n",
       "280119  친애하는 문재인 대통령님 전남 동부권 지역 주민   만 대부분 인구가 살아가는 집단...   \n",
       "280231  유은혜 부총리겸 교육부장관 지명 철회 비 전문가가 나라 교육 망칠일 있습니까  철회...   \n",
       "280422  유은혜 의원은 교육부 장관으로서 적임자가 아닙니다  세가지 이유에서 입니다  첫째 ...   \n",
       "280471  국민들이 반대하고   피감기관에 사무실을 입주해 있는자를 임명하려 한다  박근혜정부...   \n",
       "\n",
       "                                   content_preprocessing2  \n",
       "280034  안녕하세요 늘푸른중학교  학년에 재학중인 학생입니다 사회시간 사회 문제점에 대해 찾...  \n",
       "280119  친애하는 문재인 대통령님 전남 동부권 지역 주민   만 대부분 인구가 살아가는 집단...  \n",
       "280231  유은혜 부총리겸 교육부장관 지명 철회 비 전문가가 나라 교육 망칠일 있습니까  철회...  \n",
       "280422  유은혜 의원은 교육부 장관으로서 적임자가 아닙니다  세가지 이유에서  첫째  교육 ...  \n",
       "280471  국민들이 반대하고   피감기관에 사무실을 입주해 있는자를 임명하려  박근혜정부에서 ...  "
      ]
     },
     "execution_count": 28,
     "metadata": {},
     "output_type": "execute_result"
    }
   ],
   "source": [
    "df_test.head()"
   ]
  },
  {
   "cell_type": "markdown",
   "metadata": {},
   "source": [
    "# 카테고리\n",
    "## 학습 세트의 카테고리 보기"
   ]
  },
  {
   "cell_type": "code",
   "execution_count": 29,
   "metadata": {},
   "outputs": [
    {
     "data": {
      "text/html": [
       "<div>\n",
       "<style scoped>\n",
       "    .dataframe tbody tr th:only-of-type {\n",
       "        vertical-align: middle;\n",
       "    }\n",
       "\n",
       "    .dataframe tbody tr th {\n",
       "        vertical-align: top;\n",
       "    }\n",
       "\n",
       "    .dataframe thead th {\n",
       "        text-align: right;\n",
       "    }\n",
       "</style>\n",
       "<table border=\"1\" class=\"dataframe\">\n",
       "  <thead>\n",
       "    <tr style=\"text-align: right;\">\n",
       "      <th></th>\n",
       "      <th>청원수</th>\n",
       "      <th>청원비율</th>\n",
       "    </tr>\n",
       "  </thead>\n",
       "  <tbody>\n",
       "    <tr>\n",
       "      <th>인권/성평등</th>\n",
       "      <td>1598</td>\n",
       "      <td>0.411962</td>\n",
       "    </tr>\n",
       "    <tr>\n",
       "      <th>육아/교육</th>\n",
       "      <td>1177</td>\n",
       "      <td>0.303429</td>\n",
       "    </tr>\n",
       "    <tr>\n",
       "      <th>안전/환경</th>\n",
       "      <td>1104</td>\n",
       "      <td>0.284609</td>\n",
       "    </tr>\n",
       "  </tbody>\n",
       "</table>\n",
       "</div>"
      ],
      "text/plain": [
       "         청원수      청원비율\n",
       "인권/성평등  1598  0.411962\n",
       "육아/교육   1177  0.303429\n",
       "안전/환경   1104  0.284609"
      ]
     },
     "execution_count": 29,
     "metadata": {},
     "output_type": "execute_result"
    }
   ],
   "source": [
    "df_train_category_value = pd.DataFrame(df_train['category'].value_counts())\n",
    "df_train_category_percent = pd.DataFrame(df_train['category'].value_counts(normalize=True))\n",
    "df_train_category= df_train_category_value.merge(df_train_category_percent, left_index=True, right_index=True)\n",
    "df_train_category.columns = ['청원수', '청원비율']\n",
    "df_train_category"
   ]
  },
  {
   "cell_type": "code",
   "execution_count": 30,
   "metadata": {},
   "outputs": [
    {
     "data": {
      "text/html": [
       "<div>\n",
       "<style scoped>\n",
       "    .dataframe tbody tr th:only-of-type {\n",
       "        vertical-align: middle;\n",
       "    }\n",
       "\n",
       "    .dataframe tbody tr th {\n",
       "        vertical-align: top;\n",
       "    }\n",
       "\n",
       "    .dataframe thead th {\n",
       "        text-align: right;\n",
       "    }\n",
       "</style>\n",
       "<table border=\"1\" class=\"dataframe\">\n",
       "  <thead>\n",
       "    <tr style=\"text-align: right;\">\n",
       "      <th></th>\n",
       "      <th>청원수</th>\n",
       "      <th>청원비율</th>\n",
       "    </tr>\n",
       "  </thead>\n",
       "  <tbody>\n",
       "    <tr>\n",
       "      <th>인권/성평등</th>\n",
       "      <td>619</td>\n",
       "      <td>0.372219</td>\n",
       "    </tr>\n",
       "    <tr>\n",
       "      <th>육아/교육</th>\n",
       "      <td>595</td>\n",
       "      <td>0.357787</td>\n",
       "    </tr>\n",
       "    <tr>\n",
       "      <th>안전/환경</th>\n",
       "      <td>449</td>\n",
       "      <td>0.269994</td>\n",
       "    </tr>\n",
       "  </tbody>\n",
       "</table>\n",
       "</div>"
      ],
      "text/plain": [
       "        청원수      청원비율\n",
       "인권/성평등  619  0.372219\n",
       "육아/교육   595  0.357787\n",
       "안전/환경   449  0.269994"
      ]
     },
     "execution_count": 30,
     "metadata": {},
     "output_type": "execute_result"
    }
   ],
   "source": [
    "df_test_category_value = pd.DataFrame(df_test['category'].value_counts())\n",
    "df_test_category_percent = pd.DataFrame(df_test['category'].value_counts(normalize=True))\n",
    "df_test_category = df_test_category_value.merge(df_test_category_percent, left_index=True, right_index=True)\n",
    "df_test_category.columns = ['청원수', '청원비율']\n",
    "df_test_category"
   ]
  },
  {
   "cell_type": "code",
   "execution_count": 31,
   "metadata": {},
   "outputs": [
    {
     "data": {
      "text/plain": [
       "<matplotlib.axes._subplots.AxesSubplot at 0x11485a7f0>"
      ]
     },
     "execution_count": 31,
     "metadata": {},
     "output_type": "execute_result"
    },
    {
     "data": {
      "image/png": "[encoded data removed]",
      "text/plain": [
       "<matplotlib.figure.Figure at 0x111ab4cf8>"
      ]
     },
     "metadata": {},
     "output_type": "display_data"
    },
    {
     "data": {
      "image/png": "[encoded data removed]",
      "text/plain": [
       "<matplotlib.figure.Figure at 0x114832470>"
      ]
     },
     "metadata": {},
     "output_type": "display_data"
    }
   ],
   "source": [
    "df_train_category_value.plot(kind='bar')\n",
    "df_test_category_value.plot(kind='bar')"
   ]
  },
  {
   "cell_type": "markdown",
   "metadata": {},
   "source": [
    "# 단어 벡터화 하기"
   ]
  },
  {
   "cell_type": "markdown",
   "metadata": {},
   "source": [
    "## BOW(Bag of Words)"
   ]
  },
  {
   "cell_type": "code",
   "execution_count": 32,
   "metadata": {},
   "outputs": [
    {
     "data": {
      "text/plain": [
       "CountVectorizer(analyzer='word', binary=False, decode_error='strict',\n",
       "        dtype=<class 'numpy.int64'>, encoding='utf-8', input='content',\n",
       "        lowercase=True, max_df=1.0, max_features=2000, min_df=2,\n",
       "        ngram_range=(1, 3), preprocessor=None,\n",
       "        stop_words=['and', 'article', 'html', '수', '현', '있는', '있습니다', '그', '년도', '합니다', '하는', '및', '제', '할', '하고', '더', '대한', '한', '그리고', '월', '저는', '없는', '입니다', '등', '일', '많은', '이런', '것은', '왜', '같은', '같습니다', '없습니다', '위해', '한다'],\n",
       "        strip_accents=None, token_pattern='(?u)\\\\b\\\\w\\\\w+\\\\b',\n",
       "        tokenizer=None, vocabulary=None)"
      ]
     },
     "execution_count": 32,
     "metadata": {},
     "output_type": "execute_result"
    }
   ],
   "source": [
    "from sklearn.feature_extraction.text import CountVectorizer\n",
    "\n",
    "stops = ['and', 'article', 'html', '수', '현', '있는', '있습니다', '그', '년도', '합니다', '하는', '및', '제', '할', '하고', '더', '대한', '한', '그리고', '월', '저는', '없는', '입니다', '등', '일', '많은', '이런', '것은', '왜','같은', '같습니다', '없습니다', '위해', '한다']\n",
    "vectorizer = CountVectorizer(analyzer = 'word', # 캐릭터 단위로 벡터화 할 수도 있습니다.\n",
    "                             tokenizer = None, # 토크나이저를 따로 지정해 줄 수도 있습니다.\n",
    "                             preprocessor = None, # 전처리 도구\n",
    "                             stop_words = stops, # 불용어 nltk등의 도구를 사용할 수도 있습니다.\n",
    "                             min_df = 2, # 토큰이 나타날 최소 문서 개수로 오타나 자주 나오지 않는 특수한 전문용어 제거에 좋다. \n",
    "                             ngram_range=(1, 3), # BOW의 단위를 1~3개로 지정합니다.\n",
    "                             max_features = 2000 # 만들 피처의 수, 단어의 수가 된다.\n",
    "                            )\n",
    "vectorizer"
   ]
  },
  {
   "cell_type": "code",
   "execution_count": 33,
   "metadata": {},
   "outputs": [
    {
     "name": "stdout",
     "output_type": "stream",
     "text": [
      "CPU times: user 10.4 s, sys: 626 ms, total: 11 s\n",
      "Wall time: 11.6 s\n"
     ]
    }
   ],
   "source": [
    "%%time \n",
    "train_feature_vector = vectorizer.fit_transform(df_train['content_preprocessing2'])\n",
    "train_feature_vector.shape"
   ]
  },
  {
   "cell_type": "code",
   "execution_count": 34,
   "metadata": {},
   "outputs": [
    {
     "name": "stdout",
     "output_type": "stream",
     "text": [
      "CPU times: user 5.07 s, sys: 253 ms, total: 5.32 s\n",
      "Wall time: 5.57 s\n"
     ]
    }
   ],
   "source": [
    "%%time \n",
    "test_feature_vector = vectorizer.fit_transform(df_test['content_preprocessing2'])\n",
    "test_feature_vector.shape"
   ]
  },
  {
   "cell_type": "code",
   "execution_count": 35,
   "metadata": {},
   "outputs": [
    {
     "name": "stdout",
     "output_type": "stream",
     "text": [
      "2000\n"
     ]
    },
    {
     "data": {
      "text/plain": [
       "['aid',\n",
       " 'articleview',\n",
       " 'articleview idxno',\n",
       " 'a는',\n",
       " 'a씨는',\n",
       " 'cctv',\n",
       " 'cctv를',\n",
       " 'co',\n",
       " 'co kr',\n",
       " 'co kr news']"
      ]
     },
     "execution_count": 35,
     "metadata": {},
     "output_type": "execute_result"
    }
   ],
   "source": [
    "vocab = vectorizer.get_feature_names()\n",
    "print(len(vocab))\n",
    "vocab[:10]"
   ]
  },
  {
   "cell_type": "code",
   "execution_count": 36,
   "metadata": {},
   "outputs": [
    {
     "data": {
      "text/html": [
       "<div>\n",
       "<style scoped>\n",
       "    .dataframe tbody tr th:only-of-type {\n",
       "        vertical-align: middle;\n",
       "    }\n",
       "\n",
       "    .dataframe tbody tr th {\n",
       "        vertical-align: top;\n",
       "    }\n",
       "\n",
       "    .dataframe thead th {\n",
       "        text-align: right;\n",
       "    }\n",
       "</style>\n",
       "<table border=\"1\" class=\"dataframe\">\n",
       "  <thead>\n",
       "    <tr style=\"text-align: right;\">\n",
       "      <th></th>\n",
       "      <th>aid</th>\n",
       "      <th>articleview</th>\n",
       "      <th>articleview idxno</th>\n",
       "      <th>a는</th>\n",
       "      <th>a씨는</th>\n",
       "      <th>cctv</th>\n",
       "      <th>cctv를</th>\n",
       "      <th>co</th>\n",
       "      <th>co kr</th>\n",
       "      <th>co kr news</th>\n",
       "      <th>...</th>\n",
       "      <th>회장의</th>\n",
       "      <th>후에</th>\n",
       "      <th>훨씬</th>\n",
       "      <th>힘든</th>\n",
       "      <th>힘들게</th>\n",
       "      <th>힘들고</th>\n",
       "      <th>힘듭니다</th>\n",
       "      <th>힘없는</th>\n",
       "      <th>힘을</th>\n",
       "      <th>힘이</th>\n",
       "    </tr>\n",
       "  </thead>\n",
       "  <tbody>\n",
       "    <tr>\n",
       "      <th>0</th>\n",
       "      <td>140</td>\n",
       "      <td>61</td>\n",
       "      <td>61</td>\n",
       "      <td>110</td>\n",
       "      <td>90</td>\n",
       "      <td>203</td>\n",
       "      <td>197</td>\n",
       "      <td>76</td>\n",
       "      <td>435</td>\n",
       "      <td>119</td>\n",
       "      <td>...</td>\n",
       "      <td>119</td>\n",
       "      <td>84</td>\n",
       "      <td>57</td>\n",
       "      <td>197</td>\n",
       "      <td>121</td>\n",
       "      <td>49</td>\n",
       "      <td>58</td>\n",
       "      <td>55</td>\n",
       "      <td>110</td>\n",
       "      <td>84</td>\n",
       "    </tr>\n",
       "  </tbody>\n",
       "</table>\n",
       "<p>1 rows × 2000 columns</p>\n",
       "</div>"
      ],
      "text/plain": [
       "   aid  articleview  articleview idxno   a는  a씨는  cctv  cctv를  co  co kr  \\\n",
       "0  140           61                 61  110   90   203    197  76    435   \n",
       "\n",
       "   co kr news ...  회장의  후에  훨씬   힘든  힘들게  힘들고  힘듭니다  힘없는   힘을  힘이  \n",
       "0         119 ...  119  84  57  197  121   49    58   55  110  84  \n",
       "\n",
       "[1 rows x 2000 columns]"
      ]
     },
     "execution_count": 36,
     "metadata": {},
     "output_type": "execute_result"
    }
   ],
   "source": [
    "dist = np.sum(train_feature_vector, axis=0)\n",
    "\n",
    "pd.DataFrame(dist, columns=vocab)"
   ]
  },
  {
   "cell_type": "markdown",
   "metadata": {},
   "source": [
    "## TF-IDF 로 가중치 적용하기"
   ]
  },
  {
   "cell_type": "code",
   "execution_count": 37,
   "metadata": {},
   "outputs": [
    {
     "data": {
      "text/plain": [
       "TfidfTransformer(norm='l2', smooth_idf=False, sublinear_tf=False,\n",
       "         use_idf=True)"
      ]
     },
     "execution_count": 37,
     "metadata": {},
     "output_type": "execute_result"
    }
   ],
   "source": [
    "from sklearn.feature_extraction.text import TfidfTransformer\n",
    "transformer = TfidfTransformer(smooth_idf=False)\n",
    "transformer"
   ]
  },
  {
   "cell_type": "code",
   "execution_count": 38,
   "metadata": {},
   "outputs": [
    {
     "name": "stdout",
     "output_type": "stream",
     "text": [
      "CPU times: user 18.9 ms, sys: 3.83 ms, total: 22.8 ms\n",
      "Wall time: 25.2 ms\n"
     ]
    }
   ],
   "source": [
    "%%time \n",
    "train_feature_tfidf = transformer.fit_transform(train_feature_vector)\n",
    "train_feature_tfidf.shape"
   ]
  },
  {
   "cell_type": "code",
   "execution_count": 39,
   "metadata": {},
   "outputs": [
    {
     "name": "stdout",
     "output_type": "stream",
     "text": [
      "CPU times: user 10.5 ms, sys: 2.46 ms, total: 12.9 ms\n",
      "Wall time: 12 ms\n"
     ]
    }
   ],
   "source": [
    "%%time \n",
    "test_feature_tfidf = transformer.fit_transform(test_feature_vector)\n",
    "test_feature_tfidf.shape"
   ]
  },
  {
   "cell_type": "code",
   "execution_count": 40,
   "metadata": {},
   "outputs": [
    {
     "data": {
      "text/plain": [
       "(1663, 2000)"
      ]
     },
     "execution_count": 40,
     "metadata": {},
     "output_type": "execute_result"
    }
   ],
   "source": [
    "test_feature_tfidf.shape"
   ]
  },
  {
   "cell_type": "markdown",
   "metadata": {},
   "source": [
    "# 랜덤 포레스트로 학습시키기\n",
    "* 공식문서 : http://scikit-learn.org/stable/modules/generated/sklearn.ensemble.RandomForestClassifier.html"
   ]
  },
  {
   "cell_type": "code",
   "execution_count": 41,
   "metadata": {},
   "outputs": [
    {
     "data": {
      "text/plain": [
       "RandomForestClassifier(bootstrap=True, class_weight=None, criterion='gini',\n",
       "            max_depth=None, max_features='auto', max_leaf_nodes=None,\n",
       "            min_impurity_decrease=0.0, min_impurity_split=None,\n",
       "            min_samples_leaf=1, min_samples_split=2,\n",
       "            min_weight_fraction_leaf=0.0, n_estimators=100, n_jobs=-1,\n",
       "            oob_score=False, random_state=2018, verbose=0,\n",
       "            warm_start=False)"
      ]
     },
     "execution_count": 41,
     "metadata": {},
     "output_type": "execute_result"
    }
   ],
   "source": [
    "from sklearn.ensemble import RandomForestClassifier\n",
    "\n",
    "# 랜덤포레스트 분류기를 사용\n",
    "forest = RandomForestClassifier(\n",
    "    n_estimators = 100, n_jobs = -1, random_state=2018)\n",
    "forest"
   ]
  },
  {
   "cell_type": "code",
   "execution_count": null,
   "metadata": {},
   "outputs": [
    {
     "name": "stdout",
     "output_type": "stream",
     "text": [
      "CPU times: user 5.1 s, sys: 70.5 ms, total: 5.17 s\n",
      "Wall time: 1.71 s\n"
     ]
    }
   ],
   "source": [
    "# 학습에 사용할 y_label 을 넣어줍니다.\n",
    "# 어떤 분야의 청원인지 예측할 것이기 때문에 category를 넣어줍니다.\n",
    "y_label = df_train['category']\n",
    "%time forest = forest.fit(train_feature_tfidf, y_label)"
   ]
  },
  {
   "cell_type": "markdown",
   "metadata": {},
   "source": [
    "# 학습이 잘 되었는지 평가하기\n",
    "\n",
    "시험공부에 비유해 보면,\n",
    "1. 기출문제를 모은다\n",
    "2. 공부한다\n",
    "3. 시험본다\n",
    "\n",
    "여기에서 2번 단계를 하는 여러 전략이 있을텐데요, 기출문제를 모두 외워버리면 과연 내가 실제 시험을 잘 치룰 수 있을지 아니면 공부를 더 해야할지 판단하기가 애매합니다. 괜찮은 전략 중 하나는 기출문제 중 일부를 임의로 뽑아내서 공부하고(training set을 이용한 학습), 나머지 기출문제를 풀어보며 내가 얼마나 잘 푸는지 평가를 해보는겁니다(validation set을 통해 학습의 성과를 검증). 잘 된다 싶으면 시험을 볼 준비가 된 것입니다(실전 투입).\n",
    "\n",
    "\n",
    "기출문제를 몽땅 외우면 기출문제 내에서는 100점을 받겠지만(overfitting), 실전에서도 그러한 성적을 가두리라 기대하기 어렵습니다."
   ]
  },
  {
   "cell_type": "code",
   "execution_count": null,
   "metadata": {},
   "outputs": [],
   "source": [
    "from sklearn.model_selection import KFold\n",
    "from sklearn.model_selection import cross_val_score\n",
    "k_fold = KFold(n_splits=5, shuffle=True, random_state=0)\n",
    "\n",
    "scoring = 'accuracy'\n",
    "%time score = cross_val_score(forest, train_feature_vector, y_label, cv=k_fold, n_jobs=-1, scoring=scoring)\n",
    "score"
   ]
  },
  {
   "cell_type": "markdown",
   "metadata": {},
   "source": [
    "## Mean Absolute Error"
   ]
  },
  {
   "cell_type": "code",
   "execution_count": null,
   "metadata": {},
   "outputs": [],
   "source": [
    "round(np.mean(score)*100,2)"
   ]
  },
  {
   "cell_type": "markdown",
   "metadata": {},
   "source": [
    "# 예측"
   ]
  },
  {
   "cell_type": "code",
   "execution_count": null,
   "metadata": {},
   "outputs": [],
   "source": [
    "# 테스트 데이터를 넣고 예측합니다.\n",
    "y_pred = forest.predict(test_feature_vector)\n",
    "y_pred[:3]"
   ]
  },
  {
   "cell_type": "code",
   "execution_count": null,
   "metadata": {},
   "outputs": [],
   "source": [
    "y_pred.shape"
   ]
  },
  {
   "cell_type": "code",
   "execution_count": null,
   "metadata": {},
   "outputs": [],
   "source": [
    "# 예측 결과를 저장하기 위해 데이터프레임에 담아 줍니다.\n",
    "output = pd.DataFrame(data={'category_pred':y_pred})\n",
    "output.head()"
   ]
  },
  {
   "cell_type": "code",
   "execution_count": null,
   "metadata": {},
   "outputs": [],
   "source": [
    "# 0과 1이 어떻게 집계 되었는지 확인합니다.\n",
    "output['category_pred'].value_counts()"
   ]
  },
  {
   "cell_type": "code",
   "execution_count": null,
   "metadata": {},
   "outputs": [],
   "source": [
    "df_test['category_pred'] = y_pred"
   ]
  },
  {
   "cell_type": "markdown",
   "metadata": {},
   "source": [
    "## 예측결과 미리보기"
   ]
  },
  {
   "cell_type": "code",
   "execution_count": null,
   "metadata": {},
   "outputs": [],
   "source": [
    "df_test['pred_diff'] = 0\n",
    "df_test['pred_diff'] = (df_test['category'] == df_test['category_pred'] ) == 1\n",
    "df_test['pred_diff'] = df_test['pred_diff'].astype(int)\n",
    "df_test.head()"
   ]
  },
  {
   "cell_type": "code",
   "execution_count": null,
   "metadata": {},
   "outputs": [],
   "source": [
    "# 맞게 예측한 청원은 1, 틀린 예측은 0으로 표기되었습니다.\n",
    "pred_diff = df_test['pred_diff'].value_counts()\n",
    "pred_diff"
   ]
  },
  {
   "cell_type": "code",
   "execution_count": null,
   "metadata": {},
   "outputs": [],
   "source": [
    "print('전체 {}건의 데이터 중 {}건 예측'.format(y_pred.shape[0], pred_diff[1]))"
   ]
  },
  {
   "cell_type": "code",
   "execution_count": null,
   "metadata": {},
   "outputs": [],
   "source": [
    "acc = ( pred_diff[1] / y_pred.shape[0] )*100 \n",
    "print('예측 비율 {}'.format(acc))"
   ]
  },
  {
   "cell_type": "code",
   "execution_count": null,
   "metadata": {},
   "outputs": [],
   "source": [
    "# 제대로 예측한 카테고리 데이터를 봅니다.\n",
    "predict_correct = df_test.loc[df_test['pred_diff'] == 1]\n",
    "predict_correct.head()"
   ]
  },
  {
   "cell_type": "markdown",
   "metadata": {},
   "source": [
    "## 잘못 예측한 카테고리 보기"
   ]
  },
  {
   "cell_type": "code",
   "execution_count": null,
   "metadata": {},
   "outputs": [],
   "source": [
    "predict_incorrect = df_test.loc[df_test['pred_diff'] == 0].copy()\n",
    "predict_incorrect.head()"
   ]
  },
  {
   "cell_type": "code",
   "execution_count": null,
   "metadata": {},
   "outputs": [],
   "source": [
    "predict_incorrect_value = predict_incorrect['category'].value_counts()\n",
    "predict_incorrect_value"
   ]
  },
  {
   "cell_type": "code",
   "execution_count": null,
   "metadata": {},
   "outputs": [],
   "source": [
    "# 잘못 예측한 카테고리 중 인권/성평등 카테고리가 가장 많습니다.\n",
    "predict_incorrect_value.plot(kind='bar')"
   ]
  },
  {
   "cell_type": "markdown",
   "metadata": {},
   "source": [
    "# 왜 예측의 정확도가 낮을까요?\n",
    "* 청원을 입력하는 사람마다 카테고리 분류 기준이 정확하지 않은 것 같습니다.\n",
    "* 기타로 예측한 분류도 특정 카테고리로 분류해도 될 것으로 보여집니다."
   ]
  },
  {
   "cell_type": "code",
   "execution_count": null,
   "metadata": {},
   "outputs": [],
   "source": [
    "predict_incorrect[['category', 'category_pred', 'title', 'content']].head(10)"
   ]
  },
  {
   "cell_type": "markdown",
   "metadata": {},
   "source": [
    "## 원래 데이터 중 기타로 분류되었으나 분류기가 다르게 예측한 청원을 봅니다."
   ]
  },
  {
   "cell_type": "code",
   "execution_count": null,
   "metadata": {},
   "outputs": [],
   "source": [
    "predict_incorrect_etc = predict_incorrect.loc[predict_incorrect['category'] == '기타'].copy()\n",
    "predict_incorrect_etc[['category', 'category_pred', 'title', 'content']].head(10)"
   ]
  },
  {
   "cell_type": "markdown",
   "metadata": {},
   "source": [
    "## 아래의 예측비율을 높여보세요. \n",
    "* 학습 세트와 테스트 세트의 비율을 7:3으로 유지하도록 하고 다음의 방법들을 사용해 볼 수 있습니다. \n",
    "* 아래 항목 외의 기법을 사용해도 됩니다.\n",
    " * 전처리 하기\n",
    " * 불용어 처리\n",
    " * 벡터 기법에 들어가는 파라메터 변경\n",
    " * 분류기의 파라메터 변경\n",
    " * 분류기 변경"
   ]
  },
  {
   "cell_type": "code",
   "execution_count": null,
   "metadata": {},
   "outputs": [],
   "source": [
    "acc = ( pred_diff[1] / y_pred.shape[0] )*100 \n",
    "print('정답 예측 비율 {}'.format(acc))"
   ]
  },
  {
   "cell_type": "code",
   "execution_count": null,
   "metadata": {},
   "outputs": [],
   "source": []
  }
 ],
 "metadata": {
  "kernelspec": {
   "display_name": "Python 3",
   "language": "python",
   "name": "python3"
  },
  "language_info": {
   "codemirror_mode": {
    "name": "ipython",
    "version": 3
   },
   "file_extension": ".py",
   "mimetype": "text/x-python",
   "name": "python",
   "nbconvert_exporter": "python",
   "pygments_lexer": "ipython3",
   "version": "3.6.1"
  },
  "toc": {
   "base_numbering": 1,
   "nav_menu": {},
   "number_sections": true,
   "sideBar": true,
   "skip_h1_title": false,
   "title_cell": "Table of Contents",
   "title_sidebar": "Contents",
   "toc_cell": false,
   "toc_position": {},
   "toc_section_display": true,
   "toc_window_display": true
  }
 },
 "nbformat": 4,
 "nbformat_minor": 2
}
