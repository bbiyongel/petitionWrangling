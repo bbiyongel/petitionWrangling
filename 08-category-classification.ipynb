{
 "cells": [
  {
   "cell_type": "markdown",
   "metadata": {},
   "source": [
    "# 국민청원 데이터로 청원 카테고리 분류하기\n",
    "* 청와대 국민청원 : https://www1.president.go.kr/petitions\n",
    "\n",
    "> 학습세트의 카테고리를 바탕으로 테스트 세트의 청원 카테고리를 분류해 봅니다."
   ]
  },
  {
   "cell_type": "markdown",
   "metadata": {},
   "source": [
    "1. 학습세트와 테스트세트를 7:3으로 임의로 나누기\n",
    "1. 데이터 전처리\n",
    "1. 단어 벡터화(BOW, TF-IDF)\n",
    "1. 분류기 설정하기(Random Forest)\n",
    "1. 분류기로 학습시키기\n",
    "1. 학습의 정확도 보기\n",
    "1. 테스트 데이터 예측하기\n",
    "1. 실제 데이터와 예측결과의 차이를 보기"
   ]
  },
  {
   "cell_type": "code",
   "execution_count": 1,
   "metadata": {},
   "outputs": [
    {
     "name": "stdout",
     "output_type": "stream",
     "text": [
      "0.21.0\n",
      "1.14.0\n"
     ]
    }
   ],
   "source": [
    "import pandas as pd\n",
    "import numpy as np\n",
    "import re\n",
    "print(pd.__version__)\n",
    "print(np.__version__)"
   ]
  },
  {
   "cell_type": "markdown",
   "metadata": {},
   "source": [
    "# 데이터 로드하기"
   ]
  },
  {
   "cell_type": "code",
   "execution_count": 2,
   "metadata": {},
   "outputs": [
    {
     "data": {
      "text/plain": [
       "(377756, 8)"
      ]
     },
     "execution_count": 2,
     "metadata": {},
     "output_type": "execute_result"
    }
   ],
   "source": [
    "# 크롤링해 온 국민청원 데이터를 판다스를 통해 읽어옵니다.\n",
    "petitions = pd.read_csv('data/petition.csv', parse_dates=['start', 'end'])\n",
    "# 데이터의 크기가 어느정도인지 봅니다.\n",
    "petitions.shape"
   ]
  },
  {
   "cell_type": "code",
   "execution_count": 3,
   "metadata": {},
   "outputs": [
    {
     "data": {
      "text/html": [
       "<div>\n",
       "<style scoped>\n",
       "    .dataframe tbody tr th:only-of-type {\n",
       "        vertical-align: middle;\n",
       "    }\n",
       "\n",
       "    .dataframe tbody tr th {\n",
       "        vertical-align: top;\n",
       "    }\n",
       "\n",
       "    .dataframe thead th {\n",
       "        text-align: right;\n",
       "    }\n",
       "</style>\n",
       "<table border=\"1\" class=\"dataframe\">\n",
       "  <thead>\n",
       "    <tr style=\"text-align: right;\">\n",
       "      <th></th>\n",
       "      <th>article_id</th>\n",
       "      <th>answered</th>\n",
       "      <th>votes</th>\n",
       "    </tr>\n",
       "  </thead>\n",
       "  <tbody>\n",
       "    <tr>\n",
       "      <th>count</th>\n",
       "      <td>377756.000000</td>\n",
       "      <td>377756.000000</td>\n",
       "      <td>3.777560e+05</td>\n",
       "    </tr>\n",
       "    <tr>\n",
       "      <th>mean</th>\n",
       "      <td>239703.455924</td>\n",
       "      <td>0.000077</td>\n",
       "      <td>1.514069e+02</td>\n",
       "    </tr>\n",
       "    <tr>\n",
       "      <th>std</th>\n",
       "      <td>146382.863480</td>\n",
       "      <td>0.008761</td>\n",
       "      <td>4.842551e+03</td>\n",
       "    </tr>\n",
       "    <tr>\n",
       "      <th>min</th>\n",
       "      <td>21.000000</td>\n",
       "      <td>0.000000</td>\n",
       "      <td>0.000000e+00</td>\n",
       "    </tr>\n",
       "    <tr>\n",
       "      <th>25%</th>\n",
       "      <td>108933.750000</td>\n",
       "      <td>0.000000</td>\n",
       "      <td>1.000000e+00</td>\n",
       "    </tr>\n",
       "    <tr>\n",
       "      <th>50%</th>\n",
       "      <td>237637.000000</td>\n",
       "      <td>0.000000</td>\n",
       "      <td>5.000000e+00</td>\n",
       "    </tr>\n",
       "    <tr>\n",
       "      <th>75%</th>\n",
       "      <td>367937.250000</td>\n",
       "      <td>0.000000</td>\n",
       "      <td>1.500000e+01</td>\n",
       "    </tr>\n",
       "    <tr>\n",
       "      <th>max</th>\n",
       "      <td>492043.000000</td>\n",
       "      <td>1.000000</td>\n",
       "      <td>1.192049e+06</td>\n",
       "    </tr>\n",
       "  </tbody>\n",
       "</table>\n",
       "</div>"
      ],
      "text/plain": [
       "          article_id       answered         votes\n",
       "count  377756.000000  377756.000000  3.777560e+05\n",
       "mean   239703.455924       0.000077  1.514069e+02\n",
       "std    146382.863480       0.008761  4.842551e+03\n",
       "min        21.000000       0.000000  0.000000e+00\n",
       "25%    108933.750000       0.000000  1.000000e+00\n",
       "50%    237637.000000       0.000000  5.000000e+00\n",
       "75%    367937.250000       0.000000  1.500000e+01\n",
       "max    492043.000000       1.000000  1.192049e+06"
      ]
     },
     "execution_count": 3,
     "metadata": {},
     "output_type": "execute_result"
    }
   ],
   "source": [
    "petitions.describe()"
   ]
  },
  {
   "cell_type": "code",
   "execution_count": 4,
   "metadata": {},
   "outputs": [
    {
     "data": {
      "text/plain": [
       "(5186, 8)"
      ]
     },
     "execution_count": 4,
     "metadata": {},
     "output_type": "execute_result"
    }
   ],
   "source": [
    "# 전체 데이터 중 투표가 500건 이상인 데이터를 기준으로 가져옵니다.\n",
    "df = petitions.loc[(petitions['votes'] > 500)].copy()\n",
    "df.shape"
   ]
  },
  {
   "cell_type": "code",
   "execution_count": 5,
   "metadata": {},
   "outputs": [
    {
     "data": {
      "text/html": [
       "<div>\n",
       "<style scoped>\n",
       "    .dataframe tbody tr th:only-of-type {\n",
       "        vertical-align: middle;\n",
       "    }\n",
       "\n",
       "    .dataframe tbody tr th {\n",
       "        vertical-align: top;\n",
       "    }\n",
       "\n",
       "    .dataframe thead th {\n",
       "        text-align: right;\n",
       "    }\n",
       "</style>\n",
       "<table border=\"1\" class=\"dataframe\">\n",
       "  <thead>\n",
       "    <tr style=\"text-align: right;\">\n",
       "      <th></th>\n",
       "      <th>article_id</th>\n",
       "      <th>answered</th>\n",
       "      <th>votes</th>\n",
       "    </tr>\n",
       "  </thead>\n",
       "  <tbody>\n",
       "    <tr>\n",
       "      <th>count</th>\n",
       "      <td>5186.000000</td>\n",
       "      <td>5186.000000</td>\n",
       "      <td>5.186000e+03</td>\n",
       "    </tr>\n",
       "    <tr>\n",
       "      <th>mean</th>\n",
       "      <td>252276.849402</td>\n",
       "      <td>0.005592</td>\n",
       "      <td>9.774535e+03</td>\n",
       "    </tr>\n",
       "    <tr>\n",
       "      <th>std</th>\n",
       "      <td>137525.114775</td>\n",
       "      <td>0.074577</td>\n",
       "      <td>4.018005e+04</td>\n",
       "    </tr>\n",
       "    <tr>\n",
       "      <th>min</th>\n",
       "      <td>28.000000</td>\n",
       "      <td>0.000000</td>\n",
       "      <td>5.010000e+02</td>\n",
       "    </tr>\n",
       "    <tr>\n",
       "      <th>25%</th>\n",
       "      <td>145303.500000</td>\n",
       "      <td>0.000000</td>\n",
       "      <td>7.760000e+02</td>\n",
       "    </tr>\n",
       "    <tr>\n",
       "      <th>50%</th>\n",
       "      <td>242531.000000</td>\n",
       "      <td>0.000000</td>\n",
       "      <td>1.491000e+03</td>\n",
       "    </tr>\n",
       "    <tr>\n",
       "      <th>75%</th>\n",
       "      <td>375185.000000</td>\n",
       "      <td>0.000000</td>\n",
       "      <td>3.991000e+03</td>\n",
       "    </tr>\n",
       "    <tr>\n",
       "      <th>max</th>\n",
       "      <td>491954.000000</td>\n",
       "      <td>1.000000</td>\n",
       "      <td>1.192049e+06</td>\n",
       "    </tr>\n",
       "  </tbody>\n",
       "</table>\n",
       "</div>"
      ],
      "text/plain": [
       "          article_id     answered         votes\n",
       "count    5186.000000  5186.000000  5.186000e+03\n",
       "mean   252276.849402     0.005592  9.774535e+03\n",
       "std    137525.114775     0.074577  4.018005e+04\n",
       "min        28.000000     0.000000  5.010000e+02\n",
       "25%    145303.500000     0.000000  7.760000e+02\n",
       "50%    242531.000000     0.000000  1.491000e+03\n",
       "75%    375185.000000     0.000000  3.991000e+03\n",
       "max    491954.000000     1.000000  1.192049e+06"
      ]
     },
     "execution_count": 5,
     "metadata": {},
     "output_type": "execute_result"
    }
   ],
   "source": [
    "df.describe()"
   ]
  },
  {
   "cell_type": "code",
   "execution_count": 6,
   "metadata": {},
   "outputs": [
    {
     "data": {
      "text/plain": [
       "인권/성평등         680\n",
       "육아/교육          589\n",
       "안전/환경          509\n",
       "교통/건축/국토       481\n",
       "보건복지           476\n",
       "정치개혁           453\n",
       "기타             419\n",
       "문화/예술/체육/언론    296\n",
       "행정             253\n",
       "외교/통일/국방       248\n",
       "일자리            242\n",
       "경제민주화          184\n",
       "반려동물           150\n",
       "미래              80\n",
       "성장동력            50\n",
       "저출산/고령화대책       42\n",
       "농산어촌            34\n",
       "Name: category, dtype: int64"
      ]
     },
     "execution_count": 6,
     "metadata": {},
     "output_type": "execute_result"
    }
   ],
   "source": [
    "category_count = df['category'].value_counts()\n",
    "category_count"
   ]
  },
  {
   "cell_type": "code",
   "execution_count": 7,
   "metadata": {},
   "outputs": [
    {
     "data": {
      "text/plain": [
       "17"
      ]
     },
     "execution_count": 7,
     "metadata": {},
     "output_type": "execute_result"
    }
   ],
   "source": [
    "len(df['category'].unique())"
   ]
  },
  {
   "cell_type": "code",
   "execution_count": 8,
   "metadata": {},
   "outputs": [
    {
     "data": {
      "text/plain": [
       "<matplotlib.axes._subplots.AxesSubplot at 0x117ee9828>"
      ]
     },
     "execution_count": 8,
     "metadata": {},
     "output_type": "execute_result"
    },
    {
     "data": {
      "image/png": "[encoded data removed]",
      "text/plain": [
       "<matplotlib.figure.Figure at 0x114f904a8>"
      ]
     },
     "metadata": {},
     "output_type": "display_data"
    }
   ],
   "source": [
    "%matplotlib inline \n",
    "import matplotlib.pyplot as plt\n",
    "\n",
    "# 나눔 바른고딕이 설치되어 있어야 합니다.\n",
    "# 해당 폰트가 없다면 설치된 폰트명으로 지정해 주어야 합니다.\n",
    "plt.rcParams[\"font.family\"] = 'NanumBarunGothic'\n",
    "category_count.plot(kind='bar')"
   ]
  },
  {
   "cell_type": "code",
   "execution_count": 9,
   "metadata": {},
   "outputs": [
    {
     "name": "stdout",
     "output_type": "stream",
     "text": [
      "(2018, 8)\n"
     ]
    },
    {
     "data": {
      "text/plain": [
       "<matplotlib.axes._subplots.AxesSubplot at 0x110f07be0>"
      ]
     },
     "execution_count": 9,
     "metadata": {},
     "output_type": "execute_result"
    },
    {
     "data": {
      "image/png": "[encoded data removed]",
      "text/plain": [
       "<matplotlib.figure.Figure at 0x117f111d0>"
      ]
     },
     "metadata": {},
     "output_type": "display_data"
    }
   ],
   "source": [
    "df = df[(df['category'] == '인권/성평등') | \n",
    "        (df['category'] == '육아/교육') | \n",
    "        (df['category'] == '문화/예술/체육/언론') | \n",
    "        (df['category'] == '정치개혁')]\n",
    "\n",
    "print(df.shape)\n",
    "category_count = df['category'].value_counts()\n",
    "category_count\n",
    "category_count.plot(kind='bar')"
   ]
  },
  {
   "cell_type": "code",
   "execution_count": 10,
   "metadata": {},
   "outputs": [],
   "source": [
    "# 예측값과 실제값 비교를 위해 컬럼을 하나 더 생성합니다.\n",
    "df['category_pred'] = df['category'].copy()"
   ]
  },
  {
   "cell_type": "code",
   "execution_count": 11,
   "metadata": {},
   "outputs": [
    {
     "data": {
      "text/html": [
       "<div>\n",
       "<style scoped>\n",
       "    .dataframe tbody tr th:only-of-type {\n",
       "        vertical-align: middle;\n",
       "    }\n",
       "\n",
       "    .dataframe tbody tr th {\n",
       "        vertical-align: top;\n",
       "    }\n",
       "\n",
       "    .dataframe thead th {\n",
       "        text-align: right;\n",
       "    }\n",
       "</style>\n",
       "<table border=\"1\" class=\"dataframe\">\n",
       "  <thead>\n",
       "    <tr style=\"text-align: right;\">\n",
       "      <th></th>\n",
       "      <th>article_id</th>\n",
       "      <th>start</th>\n",
       "      <th>end</th>\n",
       "      <th>answered</th>\n",
       "      <th>votes</th>\n",
       "      <th>category</th>\n",
       "      <th>title</th>\n",
       "      <th>content</th>\n",
       "      <th>category_pred</th>\n",
       "    </tr>\n",
       "  </thead>\n",
       "  <tbody>\n",
       "    <tr>\n",
       "      <th>21</th>\n",
       "      <td>43</td>\n",
       "      <td>2017-08-19</td>\n",
       "      <td>2017-09-18</td>\n",
       "      <td>0</td>\n",
       "      <td>11293</td>\n",
       "      <td>육아/교육</td>\n",
       "      <td>기간제 교사의 정규직화를 반대합니다.</td>\n",
       "      <td>대통령님, 안녕하세요. 저는 임용을 준비하고 수험생입니다. 처음 기간제 정규직화 된...</td>\n",
       "      <td>육아/교육</td>\n",
       "    </tr>\n",
       "    <tr>\n",
       "      <th>24</th>\n",
       "      <td>46</td>\n",
       "      <td>2017-08-19</td>\n",
       "      <td>2017-09-18</td>\n",
       "      <td>0</td>\n",
       "      <td>1933</td>\n",
       "      <td>육아/교육</td>\n",
       "      <td>기간제교사의 정규직화를 반대합니다.</td>\n",
       "      <td>대통령님, 안녕하세요. 저는 임용을 준비하고 수험생입니다. 처음 기간제 정규직화 된...</td>\n",
       "      <td>육아/교육</td>\n",
       "    </tr>\n",
       "    <tr>\n",
       "      <th>46</th>\n",
       "      <td>69</td>\n",
       "      <td>2017-08-20</td>\n",
       "      <td>2017-09-04</td>\n",
       "      <td>0</td>\n",
       "      <td>4934</td>\n",
       "      <td>육아/교육</td>\n",
       "      <td>영어전문강사, 스포츠전문강사를 무기계약직 혹은 정규직으로 전환하는 것에 반대합니다</td>\n",
       "      <td>저는 30대 초반에 수능 다시 공부해서 교대에 다니고 있는 교대생입니다. 회사에 다...</td>\n",
       "      <td>육아/교육</td>\n",
       "    </tr>\n",
       "    <tr>\n",
       "      <th>48</th>\n",
       "      <td>71</td>\n",
       "      <td>2017-08-20</td>\n",
       "      <td>2017-09-19</td>\n",
       "      <td>0</td>\n",
       "      <td>4484</td>\n",
       "      <td>육아/교육</td>\n",
       "      <td>영양 교사 폐지, 영양직 직렬 신설을 청원합니다.</td>\n",
       "      <td>대통령님께서 대선 후보이시던 시절 충격적인 기사를 접했습니다. 영양사 단체 행사에서...</td>\n",
       "      <td>육아/교육</td>\n",
       "    </tr>\n",
       "    <tr>\n",
       "      <th>51</th>\n",
       "      <td>74</td>\n",
       "      <td>2017-08-20</td>\n",
       "      <td>2017-11-18</td>\n",
       "      <td>0</td>\n",
       "      <td>520</td>\n",
       "      <td>육아/교육</td>\n",
       "      <td>기간제 교사 정규직화 결사 반대</td>\n",
       "      <td>안녕하세요 대통령님. 저는 중등임용 국어과목을 준비하고 있는 예비교사입니다.\\n올해...</td>\n",
       "      <td>육아/교육</td>\n",
       "    </tr>\n",
       "  </tbody>\n",
       "</table>\n",
       "</div>"
      ],
      "text/plain": [
       "    article_id      start        end  answered  votes category  \\\n",
       "21          43 2017-08-19 2017-09-18         0  11293    육아/교육   \n",
       "24          46 2017-08-19 2017-09-18         0   1933    육아/교육   \n",
       "46          69 2017-08-20 2017-09-04         0   4934    육아/교육   \n",
       "48          71 2017-08-20 2017-09-19         0   4484    육아/교육   \n",
       "51          74 2017-08-20 2017-11-18         0    520    육아/교육   \n",
       "\n",
       "                                            title  \\\n",
       "21                           기간제 교사의 정규직화를 반대합니다.   \n",
       "24                            기간제교사의 정규직화를 반대합니다.   \n",
       "46  영어전문강사, 스포츠전문강사를 무기계약직 혹은 정규직으로 전환하는 것에 반대합니다   \n",
       "48                    영양 교사 폐지, 영양직 직렬 신설을 청원합니다.   \n",
       "51                              기간제 교사 정규직화 결사 반대   \n",
       "\n",
       "                                              content category_pred  \n",
       "21  대통령님, 안녕하세요. 저는 임용을 준비하고 수험생입니다. 처음 기간제 정규직화 된...         육아/교육  \n",
       "24  대통령님, 안녕하세요. 저는 임용을 준비하고 수험생입니다. 처음 기간제 정규직화 된...         육아/교육  \n",
       "46  저는 30대 초반에 수능 다시 공부해서 교대에 다니고 있는 교대생입니다. 회사에 다...         육아/교육  \n",
       "48  대통령님께서 대선 후보이시던 시절 충격적인 기사를 접했습니다. 영양사 단체 행사에서...         육아/교육  \n",
       "51  안녕하세요 대통령님. 저는 중등임용 국어과목을 준비하고 있는 예비교사입니다.\\n올해...         육아/교육  "
      ]
     },
     "execution_count": 11,
     "metadata": {},
     "output_type": "execute_result"
    }
   ],
   "source": [
    "df.head()"
   ]
  },
  {
   "cell_type": "code",
   "execution_count": 12,
   "metadata": {},
   "outputs": [
    {
     "data": {
      "text/plain": [
       "21"
      ]
     },
     "execution_count": 12,
     "metadata": {},
     "output_type": "execute_result"
    }
   ],
   "source": [
    "# 첫 번째 인덱스를 가져와 봅니다.\n",
    "sample_index = df.iloc[0].name\n",
    "sample_index"
   ]
  },
  {
   "cell_type": "code",
   "execution_count": 13,
   "metadata": {},
   "outputs": [
    {
     "data": {
      "text/plain": [
       "'기간제 교사의 정규직화를 반대합니다.'"
      ]
     },
     "execution_count": 13,
     "metadata": {},
     "output_type": "execute_result"
    }
   ],
   "source": [
    "sample_title = df.loc[sample_index, 'title']\n",
    "sample_title"
   ]
  },
  {
   "cell_type": "code",
   "execution_count": 14,
   "metadata": {},
   "outputs": [
    {
     "data": {
      "text/plain": [
       "'대통령님, 안녕하세요. 저는 임용을 준비하고 수험생입니다. 처음 기간제 정규직화 된다고 했을 때, 공채 채용과정이 있는데, 설마 그러겠어라고 생각하고 있었습니다. 그리고 기간제는 그 채용과정이 공개채용에 비해 불투명하고, 아이들을 가르칠 수 있는 전문성이 떨어지는데, 어떻게 된다는 거지? 그런 생각이라 사실 그냥 뜬 소문이라고 생각했습니다.\\\\n수년간 임용을 준비하는 수험생으로서, 여러 기회비용을 포기하고, 오로지 교단에서 서서 아이들에게 내가 알고 있는 지식을 제대로 가르치겠다는 신념으로 공부해왔습니다. 그런데 오늘 보니 기간제가 정규직화되는 것이 거의 확정적으로 되는 것같아, 사실 너무 상대적 허탈감을 느낍니다. 기간제 선생님들은 임용고시를 일단 보류해두고 현장에 나아간 것이고, 임용 준비생은 일단 임용고시 합격을 목표로 그 한해 기회비용까지 써가면서 공부하는 것이니까요. 그래서 전문적인 지식을 더 갖추고 있는 임용수험생들이 현장에 일하지 않았다는 이유로 기간제 교사에게 기회까지 박탈당하면서 자리를 내주어야 하나 의구심이 듭니다. 존경하는 대통령님 기간제 정규직화 다시 한번 생각해주시기 바랍니다. 양질의 아이들에게 교육을 제공하기 위해서라도, 기간제 정규직화는 안됩니다. 똑같은 기회의 평등을 제공해주십시오. 전문적인 지식을 갖추고 열심히 노력한 임고생이 단지 현장을 경험하지 않았다는 이유만으로 역차별을 당하는 일은 없어야 합니다. 미래의 아이들을 가르칠 인력, 다시 한번 심사숙고해주시길 바랍니다. 나라를 이끌어갈 인재를 양성하는 곳입니다.\\\\n제발, 다시한번 시사숙고 해주시길 바랍니다.\\\\n그리고 사대와 교대를 폐지하고 로스쿨화시킨다고 글을 카페에서 읽었습니다. 제발 사실이 아니길 기도합니다. 현대판 음서제를 시행하는 것이라고 비판하더라군요. 또한 교육개혁에 교사의 지방직화라는 글을 들었습니다. 처음에는 그냥 설마겠거니 했습니다. 그런데 점차그렇게 흘러가는 것 같더군요. 나라의 재정이 어려워, 공무원 연금을 삭감하기 위해 기간제를 무기계약직으로 채용하는 것이라면, 그게 시작이라면 어쩔 수 없다고 생각합니다. 하지만 의원님, 교육의 질을 먼저 생각해주세요. 기간제와 임용고시 준비생은 처음부터 선택이 달랐다는 것을... 기간제는 임용고시를 일단 보류해두고 현장에 나아간 것이고, 임용고시생은 공개전형을 통해 합격하고 현장에 나아가기 위해 기회비용을 써가면 힘들게 공부하고 있다는 것을요..\\\\n제가 종합적으로 살펴봤을 때, 결국 어려운 환경에서 잘하는 아이들은 지금과 같은 임용고시라는 제도를 통해 채용된 교사들로부터 양질의 교육을 제공받을 수 없게 되는 거더군요. 교육은 국가를 키울 미래의 아이들을 양성하는 중요한 부분입니다. 부디 기간제 교사의 무기직 전환을 꼭 막아주십시오. 형평성을 고려하고, 설사 기간제 교사의 무기직 전환은 열심히 노력하는 임용고시생에게 역차별입니다. 꼭 다시 한번 생각해주십시오.\\\\n긴 글 읽어주셔서 감사합니다.'"
      ]
     },
     "execution_count": 14,
     "metadata": {},
     "output_type": "execute_result"
    }
   ],
   "source": [
    "sample_content = petitions['content'][sample_index]\n",
    "sample_content"
   ]
  },
  {
   "cell_type": "markdown",
   "metadata": {},
   "source": [
    "# 전처리 하기 \n",
    "* 특수문자 제거\n",
    "* 개행문자 제거\n",
    "* 불용어 처리"
   ]
  },
  {
   "cell_type": "code",
   "execution_count": 15,
   "metadata": {},
   "outputs": [],
   "source": [
    "def preprocessing(text):\n",
    "    # 개행문자 제거\n",
    "    text= str(text)\n",
    "    text = re.sub('\\\\\\\\n', ' ', text)\n",
    "    # 특수문자 제거\n",
    "    # 특수문자나 이모티콘 등은 때로는 의미를 갖기도 하지만 여기에서는 제거했습니다.\n",
    "    # text = re.sub('[?.,;:|\\)*~`’!^\\-_+<>@\\#$%&-=#}※]', '', text)\n",
    "    # 한글, 영문, 숫자만 남기고 모두 제거하도록 합니다.\n",
    "    # text = re.sub('[^가-힣ㄱ-ㅎㅏ-ㅣa-zA-Z0-9]', ' ', text)\n",
    "    # 한글, 영문만 남기고 모두 제거하도록 합니다.\n",
    "    text = re.sub('[^가-힣ㄱ-ㅎㅏ-ㅣa-zA-Z]', ' ', text)\n",
    "    return text"
   ]
  },
  {
   "cell_type": "code",
   "execution_count": 16,
   "metadata": {},
   "outputs": [],
   "source": [
    "# 불용어 제거\n",
    "def remove_stopwords(text):\n",
    "    tokens = text.split(' ')\n",
    "    stops = ['수', '현', '있는', '있습니다', '그', '년도', '합니다', '하는', '및', '제', '할', '하고', '더', '대한', '한', '그리고', '월', '저는', '없는', '입니다', '등', '일', '많은', '이런', '것은', '왜','같은', '같습니다', '없습니다', '위해', '한다']\n",
    "    meaningful_words = [w for w in tokens if not w in stops]\n",
    "    return ' '.join(meaningful_words)"
   ]
  },
  {
   "cell_type": "markdown",
   "metadata": {},
   "source": [
    "## 샘플데이터에 먼저 적용해 보기"
   ]
  },
  {
   "cell_type": "code",
   "execution_count": 17,
   "metadata": {},
   "outputs": [],
   "source": [
    "# 샘플데이터에 적용\n",
    "pre_sample_content = preprocessing(sample_content)"
   ]
  },
  {
   "cell_type": "code",
   "execution_count": 18,
   "metadata": {},
   "outputs": [],
   "source": [
    "pre_sample_content = remove_stopwords(pre_sample_content)"
   ]
  },
  {
   "cell_type": "code",
   "execution_count": 19,
   "metadata": {},
   "outputs": [
    {
     "data": {
      "text/plain": [
       "'대통령님  안녕하세요  임용을 준비하고 수험생입니다  처음 기간제 정규직화 된다고 했을 때  공채 채용과정이 있는데  설마 그러겠어라고 생각하고 있었습니다  기간제는 채용과정이 공개채용에 비해 불투명하고  아이들을 가르칠 전문성이 떨어지는데  어떻게 된다는 거지  그런 생각이라 사실 그냥 뜬 소문이라고 생각했습니다  수년간 임용을 준비하는 수험생으로서  여러 기회비용을 포기하고  오로지 교단에서 서서 아이들에게 내가 알고 지식을 제대로 가르치겠다는 신념으로 공부해왔습니다  그런데 오늘 보니 기간제가 정규직화되는 것이 거의 확정적으로 되는 것같아  사실 너무 상대적 허탈감을 느낍니다  기간제 선생님들은 임용고시를 일단 보류해두고 현장에 나아간 것이고  임용 준비생은 일단 임용고시 합격을 목표로 한해 기회비용까지 써가면서 공부하는 것이니까요  그래서 전문적인 지식을 갖추고 임용수험생들이 현장에 일하지 않았다는 이유로 기간제 교사에게 기회까지 박탈당하면서 자리를 내주어야 하나 의구심이 듭니다  존경하는 대통령님 기간제 정규직화 다시 한번 생각해주시기 바랍니다  양질의 아이들에게 교육을 제공하기 위해서라도  기간제 정규직화는 안됩니다  똑같은 기회의 평등을 제공해주십시오  전문적인 지식을 갖추고 열심히 노력한 임고생이 단지 현장을 경험하지 않았다는 이유만으로 역차별을 당하는 일은 없어야  미래의 아이들을 가르칠 인력  다시 한번 심사숙고해주시길 바랍니다  나라를 이끌어갈 인재를 양성하는 곳입니다  제발  다시한번 시사숙고 해주시길 바랍니다  사대와 교대를 폐지하고 로스쿨화시킨다고 글을 카페에서 읽었습니다  제발 사실이 아니길 기도합니다  현대판 음서제를 시행하는 것이라고 비판하더라군요  또한 교육개혁에 교사의 지방직화라는 글을 들었습니다  처음에는 그냥 설마겠거니 했습니다  그런데 점차그렇게 흘러가는 것 같더군요  나라의 재정이 어려워  공무원 연금을 삭감하기 기간제를 무기계약직으로 채용하는 것이라면  그게 시작이라면 어쩔 없다고 생각합니다  하지만 의원님  교육의 질을 먼저 생각해주세요  기간제와 임용고시 준비생은 처음부터 선택이 달랐다는 것을    기간제는 임용고시를 일단 보류해두고 현장에 나아간 것이고  임용고시생은 공개전형을 통해 합격하고 현장에 나아가기 기회비용을 써가면 힘들게 공부하고 있다는 것을요   제가 종합적으로 살펴봤을 때  결국 어려운 환경에서 잘하는 아이들은 지금과 임용고시라는 제도를 통해 채용된 교사들로부터 양질의 교육을 제공받을 없게 되는 거더군요  교육은 국가를 키울 미래의 아이들을 양성하는 중요한 부분입니다  부디 기간제 교사의 무기직 전환을 꼭 막아주십시오  형평성을 고려하고  설사 기간제 교사의 무기직 전환은 열심히 노력하는 임용고시생에게 역차별입니다  꼭 다시 한번 생각해주십시오  긴 글 읽어주셔서 감사합니다 '"
      ]
     },
     "execution_count": 19,
     "metadata": {},
     "output_type": "execute_result"
    }
   ],
   "source": [
    "pre_sample_content"
   ]
  },
  {
   "cell_type": "markdown",
   "metadata": {},
   "source": [
    "## 전체 데이터에 적용하기"
   ]
  },
  {
   "cell_type": "code",
   "execution_count": 20,
   "metadata": {},
   "outputs": [
    {
     "name": "stdout",
     "output_type": "stream",
     "text": [
      "CPU times: user 267 ms, sys: 9.87 ms, total: 277 ms\n",
      "Wall time: 318 ms\n"
     ]
    }
   ],
   "source": [
    "%time df['content_preprocessing'] = df['content'].apply(preprocessing)"
   ]
  },
  {
   "cell_type": "code",
   "execution_count": 21,
   "metadata": {},
   "outputs": [
    {
     "name": "stdout",
     "output_type": "stream",
     "text": [
      "CPU times: user 415 ms, sys: 7.72 ms, total: 422 ms\n",
      "Wall time: 431 ms\n"
     ]
    }
   ],
   "source": [
    "%time df['content_preprocessed'] = df['content_preprocessing'].apply(remove_stopwords)"
   ]
  },
  {
   "cell_type": "markdown",
   "metadata": {},
   "source": [
    "# 학습세트와 테스트세트 만들기\n",
    "* 학습세트와 테스트세트를 7:3의 비율로 나눠 줍니다."
   ]
  },
  {
   "cell_type": "code",
   "execution_count": 22,
   "metadata": {},
   "outputs": [],
   "source": [
    "df = df.reindex()"
   ]
  },
  {
   "cell_type": "code",
   "execution_count": 23,
   "metadata": {},
   "outputs": [
    {
     "data": {
      "text/plain": [
       "(2018, 11)"
      ]
     },
     "execution_count": 23,
     "metadata": {},
     "output_type": "execute_result"
    }
   ],
   "source": [
    "df.shape"
   ]
  },
  {
   "cell_type": "code",
   "execution_count": 24,
   "metadata": {},
   "outputs": [
    {
     "data": {
      "text/plain": [
       "1412"
      ]
     },
     "execution_count": 24,
     "metadata": {},
     "output_type": "execute_result"
    }
   ],
   "source": [
    "split_count = int(df.shape[0] * 0.7)\n",
    "split_count"
   ]
  },
  {
   "cell_type": "code",
   "execution_count": 25,
   "metadata": {},
   "outputs": [
    {
     "data": {
      "text/plain": [
       "(1412, 11)"
      ]
     },
     "execution_count": 25,
     "metadata": {},
     "output_type": "execute_result"
    }
   ],
   "source": [
    "df_train = df[:split_count].copy()\n",
    "df_train.shape"
   ]
  },
  {
   "cell_type": "code",
   "execution_count": 26,
   "metadata": {},
   "outputs": [
    {
     "data": {
      "text/html": [
       "<div>\n",
       "<style scoped>\n",
       "    .dataframe tbody tr th:only-of-type {\n",
       "        vertical-align: middle;\n",
       "    }\n",
       "\n",
       "    .dataframe tbody tr th {\n",
       "        vertical-align: top;\n",
       "    }\n",
       "\n",
       "    .dataframe thead th {\n",
       "        text-align: right;\n",
       "    }\n",
       "</style>\n",
       "<table border=\"1\" class=\"dataframe\">\n",
       "  <thead>\n",
       "    <tr style=\"text-align: right;\">\n",
       "      <th></th>\n",
       "      <th>article_id</th>\n",
       "      <th>start</th>\n",
       "      <th>end</th>\n",
       "      <th>answered</th>\n",
       "      <th>votes</th>\n",
       "      <th>category</th>\n",
       "      <th>title</th>\n",
       "      <th>content</th>\n",
       "      <th>category_pred</th>\n",
       "      <th>content_preprocessing</th>\n",
       "      <th>content_preprocessed</th>\n",
       "    </tr>\n",
       "  </thead>\n",
       "  <tbody>\n",
       "    <tr>\n",
       "      <th>21</th>\n",
       "      <td>43</td>\n",
       "      <td>2017-08-19</td>\n",
       "      <td>2017-09-18</td>\n",
       "      <td>0</td>\n",
       "      <td>11293</td>\n",
       "      <td>육아/교육</td>\n",
       "      <td>기간제 교사의 정규직화를 반대합니다.</td>\n",
       "      <td>대통령님, 안녕하세요. 저는 임용을 준비하고 수험생입니다. 처음 기간제 정규직화 된...</td>\n",
       "      <td>육아/교육</td>\n",
       "      <td>대통령님  안녕하세요  저는 임용을 준비하고 수험생입니다  처음 기간제 정규직화 된...</td>\n",
       "      <td>대통령님  안녕하세요  임용을 준비하고 수험생입니다  처음 기간제 정규직화 된다고 ...</td>\n",
       "    </tr>\n",
       "    <tr>\n",
       "      <th>24</th>\n",
       "      <td>46</td>\n",
       "      <td>2017-08-19</td>\n",
       "      <td>2017-09-18</td>\n",
       "      <td>0</td>\n",
       "      <td>1933</td>\n",
       "      <td>육아/교육</td>\n",
       "      <td>기간제교사의 정규직화를 반대합니다.</td>\n",
       "      <td>대통령님, 안녕하세요. 저는 임용을 준비하고 수험생입니다. 처음 기간제 정규직화 된...</td>\n",
       "      <td>육아/교육</td>\n",
       "      <td>대통령님  안녕하세요  저는 임용을 준비하고 수험생입니다  처음 기간제 정규직화 된...</td>\n",
       "      <td>대통령님  안녕하세요  임용을 준비하고 수험생입니다  처음 기간제 정규직화 된다고 ...</td>\n",
       "    </tr>\n",
       "    <tr>\n",
       "      <th>46</th>\n",
       "      <td>69</td>\n",
       "      <td>2017-08-20</td>\n",
       "      <td>2017-09-04</td>\n",
       "      <td>0</td>\n",
       "      <td>4934</td>\n",
       "      <td>육아/교육</td>\n",
       "      <td>영어전문강사, 스포츠전문강사를 무기계약직 혹은 정규직으로 전환하는 것에 반대합니다</td>\n",
       "      <td>저는 30대 초반에 수능 다시 공부해서 교대에 다니고 있는 교대생입니다. 회사에 다...</td>\n",
       "      <td>육아/교육</td>\n",
       "      <td>저는   대 초반에 수능 다시 공부해서 교대에 다니고 있는 교대생입니다  회사에 다...</td>\n",
       "      <td>대 초반에 수능 다시 공부해서 교대에 다니고 교대생입니다  회사에 다니다 교사의...</td>\n",
       "    </tr>\n",
       "    <tr>\n",
       "      <th>48</th>\n",
       "      <td>71</td>\n",
       "      <td>2017-08-20</td>\n",
       "      <td>2017-09-19</td>\n",
       "      <td>0</td>\n",
       "      <td>4484</td>\n",
       "      <td>육아/교육</td>\n",
       "      <td>영양 교사 폐지, 영양직 직렬 신설을 청원합니다.</td>\n",
       "      <td>대통령님께서 대선 후보이시던 시절 충격적인 기사를 접했습니다. 영양사 단체 행사에서...</td>\n",
       "      <td>육아/교육</td>\n",
       "      <td>대통령님께서 대선 후보이시던 시절 충격적인 기사를 접했습니다  영양사 단체 행사에서...</td>\n",
       "      <td>대통령님께서 대선 후보이시던 시절 충격적인 기사를 접했습니다  영양사 단체 행사에서...</td>\n",
       "    </tr>\n",
       "    <tr>\n",
       "      <th>51</th>\n",
       "      <td>74</td>\n",
       "      <td>2017-08-20</td>\n",
       "      <td>2017-11-18</td>\n",
       "      <td>0</td>\n",
       "      <td>520</td>\n",
       "      <td>육아/교육</td>\n",
       "      <td>기간제 교사 정규직화 결사 반대</td>\n",
       "      <td>안녕하세요 대통령님. 저는 중등임용 국어과목을 준비하고 있는 예비교사입니다.\\n올해...</td>\n",
       "      <td>육아/교육</td>\n",
       "      <td>안녕하세요 대통령님  저는 중등임용 국어과목을 준비하고 있는 예비교사입니다  올해 ...</td>\n",
       "      <td>안녕하세요 대통령님  중등임용 국어과목을 준비하고 예비교사입니다  올해 처음으로 응...</td>\n",
       "    </tr>\n",
       "  </tbody>\n",
       "</table>\n",
       "</div>"
      ],
      "text/plain": [
       "    article_id      start        end  answered  votes category  \\\n",
       "21          43 2017-08-19 2017-09-18         0  11293    육아/교육   \n",
       "24          46 2017-08-19 2017-09-18         0   1933    육아/교육   \n",
       "46          69 2017-08-20 2017-09-04         0   4934    육아/교육   \n",
       "48          71 2017-08-20 2017-09-19         0   4484    육아/교육   \n",
       "51          74 2017-08-20 2017-11-18         0    520    육아/교육   \n",
       "\n",
       "                                            title  \\\n",
       "21                           기간제 교사의 정규직화를 반대합니다.   \n",
       "24                            기간제교사의 정규직화를 반대합니다.   \n",
       "46  영어전문강사, 스포츠전문강사를 무기계약직 혹은 정규직으로 전환하는 것에 반대합니다   \n",
       "48                    영양 교사 폐지, 영양직 직렬 신설을 청원합니다.   \n",
       "51                              기간제 교사 정규직화 결사 반대   \n",
       "\n",
       "                                              content category_pred  \\\n",
       "21  대통령님, 안녕하세요. 저는 임용을 준비하고 수험생입니다. 처음 기간제 정규직화 된...         육아/교육   \n",
       "24  대통령님, 안녕하세요. 저는 임용을 준비하고 수험생입니다. 처음 기간제 정규직화 된...         육아/교육   \n",
       "46  저는 30대 초반에 수능 다시 공부해서 교대에 다니고 있는 교대생입니다. 회사에 다...         육아/교육   \n",
       "48  대통령님께서 대선 후보이시던 시절 충격적인 기사를 접했습니다. 영양사 단체 행사에서...         육아/교육   \n",
       "51  안녕하세요 대통령님. 저는 중등임용 국어과목을 준비하고 있는 예비교사입니다.\\n올해...         육아/교육   \n",
       "\n",
       "                                content_preprocessing  \\\n",
       "21  대통령님  안녕하세요  저는 임용을 준비하고 수험생입니다  처음 기간제 정규직화 된...   \n",
       "24  대통령님  안녕하세요  저는 임용을 준비하고 수험생입니다  처음 기간제 정규직화 된...   \n",
       "46  저는   대 초반에 수능 다시 공부해서 교대에 다니고 있는 교대생입니다  회사에 다...   \n",
       "48  대통령님께서 대선 후보이시던 시절 충격적인 기사를 접했습니다  영양사 단체 행사에서...   \n",
       "51  안녕하세요 대통령님  저는 중등임용 국어과목을 준비하고 있는 예비교사입니다  올해 ...   \n",
       "\n",
       "                                 content_preprocessed  \n",
       "21  대통령님  안녕하세요  임용을 준비하고 수험생입니다  처음 기간제 정규직화 된다고 ...  \n",
       "24  대통령님  안녕하세요  임용을 준비하고 수험생입니다  처음 기간제 정규직화 된다고 ...  \n",
       "46    대 초반에 수능 다시 공부해서 교대에 다니고 교대생입니다  회사에 다니다 교사의...  \n",
       "48  대통령님께서 대선 후보이시던 시절 충격적인 기사를 접했습니다  영양사 단체 행사에서...  \n",
       "51  안녕하세요 대통령님  중등임용 국어과목을 준비하고 예비교사입니다  올해 처음으로 응...  "
      ]
     },
     "execution_count": 26,
     "metadata": {},
     "output_type": "execute_result"
    }
   ],
   "source": [
    "df_train.head()"
   ]
  },
  {
   "cell_type": "code",
   "execution_count": 27,
   "metadata": {},
   "outputs": [
    {
     "data": {
      "text/plain": [
       "(606, 11)"
      ]
     },
     "execution_count": 27,
     "metadata": {},
     "output_type": "execute_result"
    }
   ],
   "source": [
    "df_test = df[split_count:].copy()\n",
    "df_test.shape"
   ]
  },
  {
   "cell_type": "code",
   "execution_count": 28,
   "metadata": {},
   "outputs": [
    {
     "data": {
      "text/html": [
       "<div>\n",
       "<style scoped>\n",
       "    .dataframe tbody tr th:only-of-type {\n",
       "        vertical-align: middle;\n",
       "    }\n",
       "\n",
       "    .dataframe tbody tr th {\n",
       "        vertical-align: top;\n",
       "    }\n",
       "\n",
       "    .dataframe thead th {\n",
       "        text-align: right;\n",
       "    }\n",
       "</style>\n",
       "<table border=\"1\" class=\"dataframe\">\n",
       "  <thead>\n",
       "    <tr style=\"text-align: right;\">\n",
       "      <th></th>\n",
       "      <th>article_id</th>\n",
       "      <th>start</th>\n",
       "      <th>end</th>\n",
       "      <th>answered</th>\n",
       "      <th>votes</th>\n",
       "      <th>category</th>\n",
       "      <th>title</th>\n",
       "      <th>content</th>\n",
       "      <th>category_pred</th>\n",
       "      <th>content_preprocessing</th>\n",
       "      <th>content_preprocessed</th>\n",
       "    </tr>\n",
       "  </thead>\n",
       "  <tbody>\n",
       "    <tr>\n",
       "      <th>250850</th>\n",
       "      <td>325097</td>\n",
       "      <td>2018-07-31</td>\n",
       "      <td>2018-08-30</td>\n",
       "      <td>0</td>\n",
       "      <td>623</td>\n",
       "      <td>육아/교육</td>\n",
       "      <td>교육공무직은 교사 보조를 위한 직업인데, 교사가 되려고, 공무원이 되려고 합니다. ...</td>\n",
       "      <td>교육공무직은 교사 보조를 위한 직업입니다.\\n그러나 그동안 교육공무직은 여러 가지 ...</td>\n",
       "      <td>육아/교육</td>\n",
       "      <td>교육공무직은 교사 보조를 위한 직업입니다  그러나 그동안 교육공무직은 여러 가지 활...</td>\n",
       "      <td>교육공무직은 교사 보조를 위한 직업입니다  그러나 그동안 교육공무직은 여러 가지 활...</td>\n",
       "    </tr>\n",
       "    <tr>\n",
       "      <th>251078</th>\n",
       "      <td>325394</td>\n",
       "      <td>2018-08-01</td>\n",
       "      <td>2018-08-31</td>\n",
       "      <td>0</td>\n",
       "      <td>760</td>\n",
       "      <td>정치개혁</td>\n",
       "      <td>문재인 대통령 탄핵 동의하시길 부탁드립니다</td>\n",
       "      <td>남북 'DMZ 평화지대화' 큰틀 견해 일치…北 \"생산적 회담\"\\nGP시범철수·JSA...</td>\n",
       "      <td>정치개혁</td>\n",
       "      <td>남북  DMZ 평화지대화  큰틀 견해 일치    생산적 회담  GP시범철수 JSA비...</td>\n",
       "      <td>남북  DMZ 평화지대화  큰틀 견해 일치    생산적 회담  GP시범철수 JSA비...</td>\n",
       "    </tr>\n",
       "    <tr>\n",
       "      <th>251174</th>\n",
       "      <td>325534</td>\n",
       "      <td>2018-08-01</td>\n",
       "      <td>2018-08-31</td>\n",
       "      <td>0</td>\n",
       "      <td>1009</td>\n",
       "      <td>인권/성평등</td>\n",
       "      <td>유관순 열사의 서훈등급의 승급을 요청합니다.</td>\n",
       "      <td>유관순 열사의 서훈등급의 승급을 요청합니다.\\n유관순 열사는 3.1. 만세운동의 상...</td>\n",
       "      <td>인권/성평등</td>\n",
       "      <td>유관순 열사의 서훈등급의 승급을 요청합니다  유관순 열사는      만세운동의 상징...</td>\n",
       "      <td>유관순 열사의 서훈등급의 승급을 요청합니다  유관순 열사는      만세운동의 상징...</td>\n",
       "    </tr>\n",
       "    <tr>\n",
       "      <th>251294</th>\n",
       "      <td>325691</td>\n",
       "      <td>2018-08-01</td>\n",
       "      <td>2018-08-31</td>\n",
       "      <td>0</td>\n",
       "      <td>1806</td>\n",
       "      <td>육아/교육</td>\n",
       "      <td>학교 행정실을 없애주세요.</td>\n",
       "      <td>1. 저희들은 과거에 서무과에 근무하다가 중등 준교사시험에 합격해 평교사로 재직하다...</td>\n",
       "      <td>육아/교육</td>\n",
       "      <td>저희들은 과거에 서무과에 근무하다가 중등 준교사시험에 합격해 평교사로 재직하다...</td>\n",
       "      <td>저희들은 과거에 서무과에 근무하다가 중등 준교사시험에 합격해 평교사로 재직하다...</td>\n",
       "    </tr>\n",
       "    <tr>\n",
       "      <th>251315</th>\n",
       "      <td>325713</td>\n",
       "      <td>2018-08-01</td>\n",
       "      <td>2018-08-31</td>\n",
       "      <td>0</td>\n",
       "      <td>1419</td>\n",
       "      <td>인권/성평등</td>\n",
       "      <td>창원 출입국관리사무소 단속반원 징계 건의</td>\n",
       "      <td>지난 7월 16일 경남 함안에서 벌어진 외국인 유학생 폭행사건에 대하여, 위법한 직...</td>\n",
       "      <td>인권/성평등</td>\n",
       "      <td>지난  월   일 경남 함안에서 벌어진 외국인 유학생 폭행사건에 대하여  위법한 직...</td>\n",
       "      <td>지난    경남 함안에서 벌어진 외국인 유학생 폭행사건에 대하여  위법한 직무수행을...</td>\n",
       "    </tr>\n",
       "  </tbody>\n",
       "</table>\n",
       "</div>"
      ],
      "text/plain": [
       "        article_id      start        end  answered  votes category  \\\n",
       "250850      325097 2018-07-31 2018-08-30         0    623    육아/교육   \n",
       "251078      325394 2018-08-01 2018-08-31         0    760     정치개혁   \n",
       "251174      325534 2018-08-01 2018-08-31         0   1009   인권/성평등   \n",
       "251294      325691 2018-08-01 2018-08-31         0   1806    육아/교육   \n",
       "251315      325713 2018-08-01 2018-08-31         0   1419   인권/성평등   \n",
       "\n",
       "                                                    title  \\\n",
       "250850  교육공무직은 교사 보조를 위한 직업인데, 교사가 되려고, 공무원이 되려고 합니다. ...   \n",
       "251078                            문재인 대통령 탄핵 동의하시길 부탁드립니다   \n",
       "251174                           유관순 열사의 서훈등급의 승급을 요청합니다.   \n",
       "251294                                     학교 행정실을 없애주세요.   \n",
       "251315                             창원 출입국관리사무소 단속반원 징계 건의   \n",
       "\n",
       "                                                  content category_pred  \\\n",
       "250850  교육공무직은 교사 보조를 위한 직업입니다.\\n그러나 그동안 교육공무직은 여러 가지 ...         육아/교육   \n",
       "251078  남북 'DMZ 평화지대화' 큰틀 견해 일치…北 \"생산적 회담\"\\nGP시범철수·JSA...          정치개혁   \n",
       "251174  유관순 열사의 서훈등급의 승급을 요청합니다.\\n유관순 열사는 3.1. 만세운동의 상...        인권/성평등   \n",
       "251294  1. 저희들은 과거에 서무과에 근무하다가 중등 준교사시험에 합격해 평교사로 재직하다...         육아/교육   \n",
       "251315  지난 7월 16일 경남 함안에서 벌어진 외국인 유학생 폭행사건에 대하여, 위법한 직...        인권/성평등   \n",
       "\n",
       "                                    content_preprocessing  \\\n",
       "250850  교육공무직은 교사 보조를 위한 직업입니다  그러나 그동안 교육공무직은 여러 가지 활...   \n",
       "251078  남북  DMZ 평화지대화  큰틀 견해 일치    생산적 회담  GP시범철수 JSA비...   \n",
       "251174  유관순 열사의 서훈등급의 승급을 요청합니다  유관순 열사는      만세운동의 상징...   \n",
       "251294     저희들은 과거에 서무과에 근무하다가 중등 준교사시험에 합격해 평교사로 재직하다...   \n",
       "251315  지난  월   일 경남 함안에서 벌어진 외국인 유학생 폭행사건에 대하여  위법한 직...   \n",
       "\n",
       "                                     content_preprocessed  \n",
       "250850  교육공무직은 교사 보조를 위한 직업입니다  그러나 그동안 교육공무직은 여러 가지 활...  \n",
       "251078  남북  DMZ 평화지대화  큰틀 견해 일치    생산적 회담  GP시범철수 JSA비...  \n",
       "251174  유관순 열사의 서훈등급의 승급을 요청합니다  유관순 열사는      만세운동의 상징...  \n",
       "251294     저희들은 과거에 서무과에 근무하다가 중등 준교사시험에 합격해 평교사로 재직하다...  \n",
       "251315  지난    경남 함안에서 벌어진 외국인 유학생 폭행사건에 대하여  위법한 직무수행을...  "
      ]
     },
     "execution_count": 28,
     "metadata": {},
     "output_type": "execute_result"
    }
   ],
   "source": [
    "df_test.head()"
   ]
  },
  {
   "cell_type": "markdown",
   "metadata": {},
   "source": [
    "# 카테고리\n",
    "## 학습 세트의 카테고리 보기"
   ]
  },
  {
   "cell_type": "code",
   "execution_count": 29,
   "metadata": {},
   "outputs": [
    {
     "data": {
      "text/html": [
       "<div>\n",
       "<style scoped>\n",
       "    .dataframe tbody tr th:only-of-type {\n",
       "        vertical-align: middle;\n",
       "    }\n",
       "\n",
       "    .dataframe tbody tr th {\n",
       "        vertical-align: top;\n",
       "    }\n",
       "\n",
       "    .dataframe thead th {\n",
       "        text-align: right;\n",
       "    }\n",
       "</style>\n",
       "<table border=\"1\" class=\"dataframe\">\n",
       "  <thead>\n",
       "    <tr style=\"text-align: right;\">\n",
       "      <th></th>\n",
       "      <th>청원수</th>\n",
       "      <th>청원비율</th>\n",
       "    </tr>\n",
       "  </thead>\n",
       "  <tbody>\n",
       "    <tr>\n",
       "      <th>인권/성평등</th>\n",
       "      <td>451</td>\n",
       "      <td>0.319405</td>\n",
       "    </tr>\n",
       "    <tr>\n",
       "      <th>육아/교육</th>\n",
       "      <td>375</td>\n",
       "      <td>0.265581</td>\n",
       "    </tr>\n",
       "    <tr>\n",
       "      <th>정치개혁</th>\n",
       "      <td>353</td>\n",
       "      <td>0.250000</td>\n",
       "    </tr>\n",
       "    <tr>\n",
       "      <th>문화/예술/체육/언론</th>\n",
       "      <td>233</td>\n",
       "      <td>0.165014</td>\n",
       "    </tr>\n",
       "  </tbody>\n",
       "</table>\n",
       "</div>"
      ],
      "text/plain": [
       "             청원수      청원비율\n",
       "인권/성평등       451  0.319405\n",
       "육아/교육        375  0.265581\n",
       "정치개혁         353  0.250000\n",
       "문화/예술/체육/언론  233  0.165014"
      ]
     },
     "execution_count": 29,
     "metadata": {},
     "output_type": "execute_result"
    }
   ],
   "source": [
    "df_train_category_value = pd.DataFrame(df_train['category'].value_counts())\n",
    "df_train_category_percent = pd.DataFrame(df_train['category'].value_counts(normalize=True))\n",
    "df_train_category= df_train_category_value.merge(df_train_category_percent, \n",
    "                                                 left_index=True, right_index=True)\n",
    "df_train_category.columns = ['청원수', '청원비율']\n",
    "df_train_category"
   ]
  },
  {
   "cell_type": "code",
   "execution_count": 30,
   "metadata": {},
   "outputs": [
    {
     "data": {
      "text/html": [
       "<div>\n",
       "<style scoped>\n",
       "    .dataframe tbody tr th:only-of-type {\n",
       "        vertical-align: middle;\n",
       "    }\n",
       "\n",
       "    .dataframe tbody tr th {\n",
       "        vertical-align: top;\n",
       "    }\n",
       "\n",
       "    .dataframe thead th {\n",
       "        text-align: right;\n",
       "    }\n",
       "</style>\n",
       "<table border=\"1\" class=\"dataframe\">\n",
       "  <thead>\n",
       "    <tr style=\"text-align: right;\">\n",
       "      <th></th>\n",
       "      <th>청원수</th>\n",
       "      <th>청원비율</th>\n",
       "    </tr>\n",
       "  </thead>\n",
       "  <tbody>\n",
       "    <tr>\n",
       "      <th>인권/성평등</th>\n",
       "      <td>229</td>\n",
       "      <td>0.377888</td>\n",
       "    </tr>\n",
       "    <tr>\n",
       "      <th>육아/교육</th>\n",
       "      <td>214</td>\n",
       "      <td>0.353135</td>\n",
       "    </tr>\n",
       "    <tr>\n",
       "      <th>정치개혁</th>\n",
       "      <td>100</td>\n",
       "      <td>0.165017</td>\n",
       "    </tr>\n",
       "    <tr>\n",
       "      <th>문화/예술/체육/언론</th>\n",
       "      <td>63</td>\n",
       "      <td>0.103960</td>\n",
       "    </tr>\n",
       "  </tbody>\n",
       "</table>\n",
       "</div>"
      ],
      "text/plain": [
       "             청원수      청원비율\n",
       "인권/성평등       229  0.377888\n",
       "육아/교육        214  0.353135\n",
       "정치개혁         100  0.165017\n",
       "문화/예술/체육/언론   63  0.103960"
      ]
     },
     "execution_count": 30,
     "metadata": {},
     "output_type": "execute_result"
    }
   ],
   "source": [
    "df_test_category_value = pd.DataFrame(df_test['category'].value_counts())\n",
    "df_test_category_percent = pd.DataFrame(df_test['category'].value_counts(normalize=True))\n",
    "df_test_category = df_test_category_value.merge(df_test_category_percent, \n",
    "                                                left_index=True, right_index=True)\n",
    "df_test_category.columns = ['청원수', '청원비율']\n",
    "df_test_category"
   ]
  },
  {
   "cell_type": "code",
   "execution_count": 31,
   "metadata": {},
   "outputs": [
    {
     "data": {
      "text/plain": [
       "<matplotlib.axes._subplots.AxesSubplot at 0x111126630>"
      ]
     },
     "execution_count": 31,
     "metadata": {},
     "output_type": "execute_result"
    },
    {
     "data": {
      "image/png": "[encoded data removed]",
      "text/plain": [
       "<matplotlib.figure.Figure at 0x110fd4b00>"
      ]
     },
     "metadata": {},
     "output_type": "display_data"
    },
    {
     "data": {
      "image/png": "[encoded data removed]",
      "text/plain": [
       "<matplotlib.figure.Figure at 0x1110ee908>"
      ]
     },
     "metadata": {},
     "output_type": "display_data"
    }
   ],
   "source": [
    "df_train_category_value.plot(kind='bar')\n",
    "df_test_category_value.plot(kind='bar')"
   ]
  },
  {
   "cell_type": "markdown",
   "metadata": {},
   "source": [
    "# 단어 벡터화 하기"
   ]
  },
  {
   "cell_type": "markdown",
   "metadata": {},
   "source": [
    "## BOW(Bag of Words)"
   ]
  },
  {
   "cell_type": "code",
   "execution_count": 32,
   "metadata": {},
   "outputs": [
    {
     "data": {
      "text/plain": [
       "CountVectorizer(analyzer='word', binary=False, decode_error='strict',\n",
       "        dtype=<class 'numpy.int64'>, encoding='utf-8', input='content',\n",
       "        lowercase=True, max_df=1.0, max_features=2000, min_df=2,\n",
       "        ngram_range=(1, 3), preprocessor=None,\n",
       "        stop_words=['and', 'article', 'html', '수', '현', '있는', '있습니다', '그', '년도', '합니다', '하는', '및', '제', '할', '하고', '더', '대한', '한', '그리고', '월', '저는', '없는', '입니다', '등', '일', '많은', '이런', '것은', '왜', '같은', '같습니다', '없습니다', '위해', '한다'],\n",
       "        strip_accents=None, token_pattern='(?u)\\\\b\\\\w\\\\w+\\\\b',\n",
       "        tokenizer=None, vocabulary=None)"
      ]
     },
     "execution_count": 32,
     "metadata": {},
     "output_type": "execute_result"
    }
   ],
   "source": [
    "from sklearn.feature_extraction.text import CountVectorizer\n",
    "\n",
    "stops = ['and', 'article', 'html', '수', '현', '있는', '있습니다', \n",
    "         '그', '년도', '합니다', '하는', '및', '제', '할', '하고', \n",
    "         '더', '대한', '한', '그리고', '월', '저는', '없는', '입니다', \n",
    "         '등', '일', '많은', '이런', '것은', \n",
    "         '왜','같은', '같습니다', '없습니다', '위해', '한다']\n",
    "vectorizer = CountVectorizer(analyzer = 'word', # 캐릭터 단위로 벡터화 할 수도 있습니다.\n",
    "                             tokenizer = None, # 토크나이저를 따로 지정해 줄 수도 있습니다.\n",
    "                             preprocessor = None, # 전처리 도구\n",
    "                             stop_words = stops, # 불용어 nltk등의 도구를 사용할 수도 있습니다.\n",
    "                             min_df = 2, # 토큰이 나타날 최소 문서 개수로 오타나 자주 나오지 않는 특수한 전문용어 제거에 좋다. \n",
    "                             ngram_range=(1, 3), # BOW의 단위를 1~3개로 지정합니다.\n",
    "                             max_features = 2000 # 만들 피처의 수, 단어의 수가 된다.\n",
    "                            )\n",
    "vectorizer"
   ]
  },
  {
   "cell_type": "code",
   "execution_count": 33,
   "metadata": {},
   "outputs": [
    {
     "name": "stdout",
     "output_type": "stream",
     "text": [
      "CPU times: user 3.63 s, sys: 159 ms, total: 3.79 s\n",
      "Wall time: 3.82 s\n"
     ]
    }
   ],
   "source": [
    "%%time \n",
    "train_feature_vector = vectorizer.fit_transform(df_train['content_preprocessed'])\n",
    "train_feature_vector.shape"
   ]
  },
  {
   "cell_type": "code",
   "execution_count": 34,
   "metadata": {},
   "outputs": [
    {
     "name": "stdout",
     "output_type": "stream",
     "text": [
      "CPU times: user 2.11 s, sys: 88.3 ms, total: 2.2 s\n",
      "Wall time: 2.24 s\n"
     ]
    }
   ],
   "source": [
    "%%time \n",
    "test_feature_vector = vectorizer.fit_transform(df_test['content_preprocessed'])\n",
    "test_feature_vector.shape"
   ]
  },
  {
   "cell_type": "code",
   "execution_count": 35,
   "metadata": {},
   "outputs": [
    {
     "name": "stdout",
     "output_type": "stream",
     "text": [
      "2000\n"
     ]
    },
    {
     "data": {
      "text/plain": [
       "['aid',\n",
       " 'articles',\n",
       " 'articleview',\n",
       " 'articleview idxno',\n",
       " 'asp',\n",
       " 'a는',\n",
       " 'cctv',\n",
       " 'cctv를',\n",
       " 'co',\n",
       " 'co kr']"
      ]
     },
     "execution_count": 35,
     "metadata": {},
     "output_type": "execute_result"
    }
   ],
   "source": [
    "vocab = vectorizer.get_feature_names()\n",
    "print(len(vocab))\n",
    "vocab[:10]"
   ]
  },
  {
   "cell_type": "code",
   "execution_count": 36,
   "metadata": {},
   "outputs": [
    {
     "data": {
      "text/html": [
       "<div>\n",
       "<style scoped>\n",
       "    .dataframe tbody tr th:only-of-type {\n",
       "        vertical-align: middle;\n",
       "    }\n",
       "\n",
       "    .dataframe tbody tr th {\n",
       "        vertical-align: top;\n",
       "    }\n",
       "\n",
       "    .dataframe thead th {\n",
       "        text-align: right;\n",
       "    }\n",
       "</style>\n",
       "<table border=\"1\" class=\"dataframe\">\n",
       "  <thead>\n",
       "    <tr style=\"text-align: right;\">\n",
       "      <th></th>\n",
       "      <th>aid</th>\n",
       "      <th>articles</th>\n",
       "      <th>articleview</th>\n",
       "      <th>articleview idxno</th>\n",
       "      <th>asp</th>\n",
       "      <th>a는</th>\n",
       "      <th>cctv</th>\n",
       "      <th>cctv를</th>\n",
       "      <th>co</th>\n",
       "      <th>co kr</th>\n",
       "      <th>...</th>\n",
       "      <th>활동을</th>\n",
       "      <th>회사</th>\n",
       "      <th>회사는</th>\n",
       "      <th>후에</th>\n",
       "      <th>훨씬</th>\n",
       "      <th>힘든</th>\n",
       "      <th>힘들게</th>\n",
       "      <th>힘듭니다</th>\n",
       "      <th>힘을</th>\n",
       "      <th>힘이</th>\n",
       "    </tr>\n",
       "  </thead>\n",
       "  <tbody>\n",
       "    <tr>\n",
       "      <th>0</th>\n",
       "      <td>66</td>\n",
       "      <td>41</td>\n",
       "      <td>41</td>\n",
       "      <td>24</td>\n",
       "      <td>30</td>\n",
       "      <td>28</td>\n",
       "      <td>36</td>\n",
       "      <td>39</td>\n",
       "      <td>125</td>\n",
       "      <td>123</td>\n",
       "      <td>...</td>\n",
       "      <td>23</td>\n",
       "      <td>30</td>\n",
       "      <td>22</td>\n",
       "      <td>51</td>\n",
       "      <td>33</td>\n",
       "      <td>67</td>\n",
       "      <td>44</td>\n",
       "      <td>21</td>\n",
       "      <td>43</td>\n",
       "      <td>38</td>\n",
       "    </tr>\n",
       "  </tbody>\n",
       "</table>\n",
       "<p>1 rows × 2000 columns</p>\n",
       "</div>"
      ],
      "text/plain": [
       "   aid  articles  articleview  articleview idxno  asp  a는  cctv  cctv를   co  \\\n",
       "0   66        41           41                 24   30  28    36     39  125   \n",
       "\n",
       "   co kr ...  활동을  회사  회사는  후에  훨씬  힘든  힘들게  힘듭니다  힘을  힘이  \n",
       "0    123 ...   23  30   22  51  33  67   44    21  43  38  \n",
       "\n",
       "[1 rows x 2000 columns]"
      ]
     },
     "execution_count": 36,
     "metadata": {},
     "output_type": "execute_result"
    }
   ],
   "source": [
    "dist = np.sum(train_feature_vector, axis=0)\n",
    "\n",
    "pd.DataFrame(dist, columns=vocab)"
   ]
  },
  {
   "cell_type": "markdown",
   "metadata": {},
   "source": [
    "## TF-IDF 로 가중치 적용하기"
   ]
  },
  {
   "cell_type": "code",
   "execution_count": 37,
   "metadata": {},
   "outputs": [
    {
     "data": {
      "text/plain": [
       "TfidfTransformer(norm='l2', smooth_idf=False, sublinear_tf=False,\n",
       "         use_idf=True)"
      ]
     },
     "execution_count": 37,
     "metadata": {},
     "output_type": "execute_result"
    }
   ],
   "source": [
    "from sklearn.feature_extraction.text import TfidfTransformer\n",
    "transformer = TfidfTransformer(smooth_idf=False)\n",
    "transformer"
   ]
  },
  {
   "cell_type": "code",
   "execution_count": 38,
   "metadata": {},
   "outputs": [
    {
     "name": "stdout",
     "output_type": "stream",
     "text": [
      "CPU times: user 8.94 ms, sys: 2.52 ms, total: 11.5 ms\n",
      "Wall time: 10.1 ms\n"
     ]
    }
   ],
   "source": [
    "%%time \n",
    "train_feature_tfidf = transformer.fit_transform(train_feature_vector)\n",
    "train_feature_tfidf.shape"
   ]
  },
  {
   "cell_type": "code",
   "execution_count": 39,
   "metadata": {},
   "outputs": [
    {
     "name": "stdout",
     "output_type": "stream",
     "text": [
      "CPU times: user 5.37 ms, sys: 1.66 ms, total: 7.02 ms\n",
      "Wall time: 5.38 ms\n"
     ]
    }
   ],
   "source": [
    "%%time \n",
    "test_feature_tfidf = transformer.fit_transform(test_feature_vector)\n",
    "test_feature_tfidf.shape"
   ]
  },
  {
   "cell_type": "code",
   "execution_count": 40,
   "metadata": {},
   "outputs": [
    {
     "data": {
      "text/plain": [
       "(606, 2000)"
      ]
     },
     "execution_count": 40,
     "metadata": {},
     "output_type": "execute_result"
    }
   ],
   "source": [
    "test_feature_tfidf.shape"
   ]
  },
  {
   "cell_type": "markdown",
   "metadata": {},
   "source": [
    "# 랜덤 포레스트로 학습시키기\n",
    "* 공식문서 : http://scikit-learn.org/stable/modules/generated/sklearn.ensemble.RandomForestClassifier.html"
   ]
  },
  {
   "cell_type": "code",
   "execution_count": 41,
   "metadata": {},
   "outputs": [
    {
     "data": {
      "text/plain": [
       "RandomForestClassifier(bootstrap=True, class_weight=None, criterion='gini',\n",
       "            max_depth=None, max_features='auto', max_leaf_nodes=None,\n",
       "            min_impurity_decrease=0.0, min_impurity_split=None,\n",
       "            min_samples_leaf=1, min_samples_split=2,\n",
       "            min_weight_fraction_leaf=0.0, n_estimators=100, n_jobs=-1,\n",
       "            oob_score=False, random_state=2018, verbose=0,\n",
       "            warm_start=False)"
      ]
     },
     "execution_count": 41,
     "metadata": {},
     "output_type": "execute_result"
    }
   ],
   "source": [
    "from sklearn.ensemble import RandomForestClassifier\n",
    "\n",
    "# 랜덤포레스트 분류기를 사용\n",
    "forest = RandomForestClassifier(\n",
    "    n_estimators = 100, n_jobs = -1, random_state=2018)\n",
    "forest"
   ]
  },
  {
   "cell_type": "code",
   "execution_count": 42,
   "metadata": {},
   "outputs": [
    {
     "name": "stdout",
     "output_type": "stream",
     "text": [
      "CPU times: user 1.24 s, sys: 39.8 ms, total: 1.28 s\n",
      "Wall time: 599 ms\n"
     ]
    }
   ],
   "source": [
    "# 학습에 사용할 y_label 을 넣어줍니다.\n",
    "# 어떤 분야의 청원인지 예측할 것이기 때문에 category를 넣어줍니다.\n",
    "y_label = df_train['category']\n",
    "%time forest = forest.fit(train_feature_tfidf, y_label)"
   ]
  },
  {
   "cell_type": "markdown",
   "metadata": {},
   "source": [
    "# 학습이 잘 되었는지 평가하기\n",
    "\n",
    "시험공부에 비유해 보면,\n",
    "1. 기출문제를 모은다\n",
    "2. 공부한다\n",
    "3. 시험본다\n",
    "\n",
    "여기에서 2번 단계를 하는 여러 전략이 있을텐데요, 기출문제를 모두 외워버리면 과연 내가 실제 시험을 잘 치룰 수 있을지 아니면 공부를 더 해야할지 판단하기가 애매합니다. 괜찮은 전략 중 하나는 기출문제 중 일부를 임의로 뽑아내서 공부하고(training set을 이용한 학습), 나머지 기출문제를 풀어보며 내가 얼마나 잘 푸는지 평가를 해보는겁니다(validation set을 통해 학습의 성과를 검증). 잘 된다 싶으면 시험을 볼 준비가 된 것입니다(실전 투입).\n",
    "\n",
    "\n",
    "기출문제를 몽땅 외우면 기출문제 내에서는 100점을 받겠지만(overfitting), 실전에서도 그러한 성적을 가두리라 기대하기 어렵습니다."
   ]
  },
  {
   "cell_type": "code",
   "execution_count": 43,
   "metadata": {},
   "outputs": [
    {
     "name": "stdout",
     "output_type": "stream",
     "text": [
      "CPU times: user 70 ms, sys: 96.4 ms, total: 166 ms\n",
      "Wall time: 4.04 s\n"
     ]
    },
    {
     "data": {
      "text/plain": [
       "array([0.63957597, 0.66431095, 0.62765957, 0.70212766, 0.71276596])"
      ]
     },
     "execution_count": 43,
     "metadata": {},
     "output_type": "execute_result"
    }
   ],
   "source": [
    "from sklearn.model_selection import KFold\n",
    "from sklearn.model_selection import cross_val_score\n",
    "k_fold = KFold(n_splits=5, shuffle=True, random_state=0)\n",
    "\n",
    "scoring = 'accuracy'\n",
    "%time score = cross_val_score(forest, train_feature_vector, y_label, cv=k_fold, n_jobs=-1, scoring=scoring)\n",
    "score"
   ]
  },
  {
   "cell_type": "markdown",
   "metadata": {},
   "source": [
    "## Mean Absolute Error"
   ]
  },
  {
   "cell_type": "code",
   "execution_count": 44,
   "metadata": {},
   "outputs": [
    {
     "data": {
      "text/plain": [
       "66.93"
      ]
     },
     "execution_count": 44,
     "metadata": {},
     "output_type": "execute_result"
    }
   ],
   "source": [
    "round(np.mean(score)*100,2)"
   ]
  },
  {
   "cell_type": "markdown",
   "metadata": {},
   "source": [
    "# 예측"
   ]
  },
  {
   "cell_type": "code",
   "execution_count": 45,
   "metadata": {},
   "outputs": [
    {
     "data": {
      "text/plain": [
       "array(['육아/교육', '인권/성평등', '육아/교육'], dtype=object)"
      ]
     },
     "execution_count": 45,
     "metadata": {},
     "output_type": "execute_result"
    }
   ],
   "source": [
    "# 테스트 데이터를 넣고 예측합니다.\n",
    "y_pred = forest.predict(test_feature_vector)\n",
    "y_pred[:3]"
   ]
  },
  {
   "cell_type": "code",
   "execution_count": 46,
   "metadata": {},
   "outputs": [
    {
     "data": {
      "text/plain": [
       "(606,)"
      ]
     },
     "execution_count": 46,
     "metadata": {},
     "output_type": "execute_result"
    }
   ],
   "source": [
    "y_pred.shape"
   ]
  },
  {
   "cell_type": "code",
   "execution_count": 47,
   "metadata": {},
   "outputs": [
    {
     "data": {
      "text/html": [
       "<div>\n",
       "<style scoped>\n",
       "    .dataframe tbody tr th:only-of-type {\n",
       "        vertical-align: middle;\n",
       "    }\n",
       "\n",
       "    .dataframe tbody tr th {\n",
       "        vertical-align: top;\n",
       "    }\n",
       "\n",
       "    .dataframe thead th {\n",
       "        text-align: right;\n",
       "    }\n",
       "</style>\n",
       "<table border=\"1\" class=\"dataframe\">\n",
       "  <thead>\n",
       "    <tr style=\"text-align: right;\">\n",
       "      <th></th>\n",
       "      <th>category_pred</th>\n",
       "    </tr>\n",
       "  </thead>\n",
       "  <tbody>\n",
       "    <tr>\n",
       "      <th>0</th>\n",
       "      <td>육아/교육</td>\n",
       "    </tr>\n",
       "    <tr>\n",
       "      <th>1</th>\n",
       "      <td>인권/성평등</td>\n",
       "    </tr>\n",
       "    <tr>\n",
       "      <th>2</th>\n",
       "      <td>육아/교육</td>\n",
       "    </tr>\n",
       "    <tr>\n",
       "      <th>3</th>\n",
       "      <td>육아/교육</td>\n",
       "    </tr>\n",
       "    <tr>\n",
       "      <th>4</th>\n",
       "      <td>인권/성평등</td>\n",
       "    </tr>\n",
       "  </tbody>\n",
       "</table>\n",
       "</div>"
      ],
      "text/plain": [
       "  category_pred\n",
       "0         육아/교육\n",
       "1        인권/성평등\n",
       "2         육아/교육\n",
       "3         육아/교육\n",
       "4        인권/성평등"
      ]
     },
     "execution_count": 47,
     "metadata": {},
     "output_type": "execute_result"
    }
   ],
   "source": [
    "# 예측 결과를 저장하기 위해 데이터프레임에 담아 줍니다.\n",
    "output = pd.DataFrame(data={'category_pred':y_pred})\n",
    "output.head()"
   ]
  },
  {
   "cell_type": "code",
   "execution_count": 48,
   "metadata": {},
   "outputs": [
    {
     "data": {
      "text/plain": [
       "육아/교육          245\n",
       "인권/성평등         198\n",
       "정치개혁           130\n",
       "문화/예술/체육/언론     33\n",
       "Name: category_pred, dtype: int64"
      ]
     },
     "execution_count": 48,
     "metadata": {},
     "output_type": "execute_result"
    }
   ],
   "source": [
    "# 0과 1이 어떻게 집계 되었는지 확인합니다.\n",
    "output['category_pred'].value_counts()"
   ]
  },
  {
   "cell_type": "code",
   "execution_count": 49,
   "metadata": {},
   "outputs": [],
   "source": [
    "df_test['category_pred'] = y_pred"
   ]
  },
  {
   "cell_type": "markdown",
   "metadata": {},
   "source": [
    "## 예측결과 미리보기"
   ]
  },
  {
   "cell_type": "code",
   "execution_count": 50,
   "metadata": {},
   "outputs": [
    {
     "data": {
      "text/html": [
       "<div>\n",
       "<style scoped>\n",
       "    .dataframe tbody tr th:only-of-type {\n",
       "        vertical-align: middle;\n",
       "    }\n",
       "\n",
       "    .dataframe tbody tr th {\n",
       "        vertical-align: top;\n",
       "    }\n",
       "\n",
       "    .dataframe thead th {\n",
       "        text-align: right;\n",
       "    }\n",
       "</style>\n",
       "<table border=\"1\" class=\"dataframe\">\n",
       "  <thead>\n",
       "    <tr style=\"text-align: right;\">\n",
       "      <th></th>\n",
       "      <th>article_id</th>\n",
       "      <th>start</th>\n",
       "      <th>end</th>\n",
       "      <th>answered</th>\n",
       "      <th>votes</th>\n",
       "      <th>category</th>\n",
       "      <th>title</th>\n",
       "      <th>content</th>\n",
       "      <th>category_pred</th>\n",
       "      <th>content_preprocessing</th>\n",
       "      <th>content_preprocessed</th>\n",
       "      <th>pred_diff</th>\n",
       "    </tr>\n",
       "  </thead>\n",
       "  <tbody>\n",
       "    <tr>\n",
       "      <th>250850</th>\n",
       "      <td>325097</td>\n",
       "      <td>2018-07-31</td>\n",
       "      <td>2018-08-30</td>\n",
       "      <td>0</td>\n",
       "      <td>623</td>\n",
       "      <td>육아/교육</td>\n",
       "      <td>교육공무직은 교사 보조를 위한 직업인데, 교사가 되려고, 공무원이 되려고 합니다. ...</td>\n",
       "      <td>교육공무직은 교사 보조를 위한 직업입니다.\\n그러나 그동안 교육공무직은 여러 가지 ...</td>\n",
       "      <td>육아/교육</td>\n",
       "      <td>교육공무직은 교사 보조를 위한 직업입니다  그러나 그동안 교육공무직은 여러 가지 활...</td>\n",
       "      <td>교육공무직은 교사 보조를 위한 직업입니다  그러나 그동안 교육공무직은 여러 가지 활...</td>\n",
       "      <td>1</td>\n",
       "    </tr>\n",
       "    <tr>\n",
       "      <th>251078</th>\n",
       "      <td>325394</td>\n",
       "      <td>2018-08-01</td>\n",
       "      <td>2018-08-31</td>\n",
       "      <td>0</td>\n",
       "      <td>760</td>\n",
       "      <td>정치개혁</td>\n",
       "      <td>문재인 대통령 탄핵 동의하시길 부탁드립니다</td>\n",
       "      <td>남북 'DMZ 평화지대화' 큰틀 견해 일치…北 \"생산적 회담\"\\nGP시범철수·JSA...</td>\n",
       "      <td>인권/성평등</td>\n",
       "      <td>남북  DMZ 평화지대화  큰틀 견해 일치    생산적 회담  GP시범철수 JSA비...</td>\n",
       "      <td>남북  DMZ 평화지대화  큰틀 견해 일치    생산적 회담  GP시범철수 JSA비...</td>\n",
       "      <td>0</td>\n",
       "    </tr>\n",
       "    <tr>\n",
       "      <th>251174</th>\n",
       "      <td>325534</td>\n",
       "      <td>2018-08-01</td>\n",
       "      <td>2018-08-31</td>\n",
       "      <td>0</td>\n",
       "      <td>1009</td>\n",
       "      <td>인권/성평등</td>\n",
       "      <td>유관순 열사의 서훈등급의 승급을 요청합니다.</td>\n",
       "      <td>유관순 열사의 서훈등급의 승급을 요청합니다.\\n유관순 열사는 3.1. 만세운동의 상...</td>\n",
       "      <td>육아/교육</td>\n",
       "      <td>유관순 열사의 서훈등급의 승급을 요청합니다  유관순 열사는      만세운동의 상징...</td>\n",
       "      <td>유관순 열사의 서훈등급의 승급을 요청합니다  유관순 열사는      만세운동의 상징...</td>\n",
       "      <td>0</td>\n",
       "    </tr>\n",
       "    <tr>\n",
       "      <th>251294</th>\n",
       "      <td>325691</td>\n",
       "      <td>2018-08-01</td>\n",
       "      <td>2018-08-31</td>\n",
       "      <td>0</td>\n",
       "      <td>1806</td>\n",
       "      <td>육아/교육</td>\n",
       "      <td>학교 행정실을 없애주세요.</td>\n",
       "      <td>1. 저희들은 과거에 서무과에 근무하다가 중등 준교사시험에 합격해 평교사로 재직하다...</td>\n",
       "      <td>육아/교육</td>\n",
       "      <td>저희들은 과거에 서무과에 근무하다가 중등 준교사시험에 합격해 평교사로 재직하다...</td>\n",
       "      <td>저희들은 과거에 서무과에 근무하다가 중등 준교사시험에 합격해 평교사로 재직하다...</td>\n",
       "      <td>1</td>\n",
       "    </tr>\n",
       "    <tr>\n",
       "      <th>251315</th>\n",
       "      <td>325713</td>\n",
       "      <td>2018-08-01</td>\n",
       "      <td>2018-08-31</td>\n",
       "      <td>0</td>\n",
       "      <td>1419</td>\n",
       "      <td>인권/성평등</td>\n",
       "      <td>창원 출입국관리사무소 단속반원 징계 건의</td>\n",
       "      <td>지난 7월 16일 경남 함안에서 벌어진 외국인 유학생 폭행사건에 대하여, 위법한 직...</td>\n",
       "      <td>인권/성평등</td>\n",
       "      <td>지난  월   일 경남 함안에서 벌어진 외국인 유학생 폭행사건에 대하여  위법한 직...</td>\n",
       "      <td>지난    경남 함안에서 벌어진 외국인 유학생 폭행사건에 대하여  위법한 직무수행을...</td>\n",
       "      <td>1</td>\n",
       "    </tr>\n",
       "  </tbody>\n",
       "</table>\n",
       "</div>"
      ],
      "text/plain": [
       "        article_id      start        end  answered  votes category  \\\n",
       "250850      325097 2018-07-31 2018-08-30         0    623    육아/교육   \n",
       "251078      325394 2018-08-01 2018-08-31         0    760     정치개혁   \n",
       "251174      325534 2018-08-01 2018-08-31         0   1009   인권/성평등   \n",
       "251294      325691 2018-08-01 2018-08-31         0   1806    육아/교육   \n",
       "251315      325713 2018-08-01 2018-08-31         0   1419   인권/성평등   \n",
       "\n",
       "                                                    title  \\\n",
       "250850  교육공무직은 교사 보조를 위한 직업인데, 교사가 되려고, 공무원이 되려고 합니다. ...   \n",
       "251078                            문재인 대통령 탄핵 동의하시길 부탁드립니다   \n",
       "251174                           유관순 열사의 서훈등급의 승급을 요청합니다.   \n",
       "251294                                     학교 행정실을 없애주세요.   \n",
       "251315                             창원 출입국관리사무소 단속반원 징계 건의   \n",
       "\n",
       "                                                  content category_pred  \\\n",
       "250850  교육공무직은 교사 보조를 위한 직업입니다.\\n그러나 그동안 교육공무직은 여러 가지 ...         육아/교육   \n",
       "251078  남북 'DMZ 평화지대화' 큰틀 견해 일치…北 \"생산적 회담\"\\nGP시범철수·JSA...        인권/성평등   \n",
       "251174  유관순 열사의 서훈등급의 승급을 요청합니다.\\n유관순 열사는 3.1. 만세운동의 상...         육아/교육   \n",
       "251294  1. 저희들은 과거에 서무과에 근무하다가 중등 준교사시험에 합격해 평교사로 재직하다...         육아/교육   \n",
       "251315  지난 7월 16일 경남 함안에서 벌어진 외국인 유학생 폭행사건에 대하여, 위법한 직...        인권/성평등   \n",
       "\n",
       "                                    content_preprocessing  \\\n",
       "250850  교육공무직은 교사 보조를 위한 직업입니다  그러나 그동안 교육공무직은 여러 가지 활...   \n",
       "251078  남북  DMZ 평화지대화  큰틀 견해 일치    생산적 회담  GP시범철수 JSA비...   \n",
       "251174  유관순 열사의 서훈등급의 승급을 요청합니다  유관순 열사는      만세운동의 상징...   \n",
       "251294     저희들은 과거에 서무과에 근무하다가 중등 준교사시험에 합격해 평교사로 재직하다...   \n",
       "251315  지난  월   일 경남 함안에서 벌어진 외국인 유학생 폭행사건에 대하여  위법한 직...   \n",
       "\n",
       "                                     content_preprocessed  pred_diff  \n",
       "250850  교육공무직은 교사 보조를 위한 직업입니다  그러나 그동안 교육공무직은 여러 가지 활...          1  \n",
       "251078  남북  DMZ 평화지대화  큰틀 견해 일치    생산적 회담  GP시범철수 JSA비...          0  \n",
       "251174  유관순 열사의 서훈등급의 승급을 요청합니다  유관순 열사는      만세운동의 상징...          0  \n",
       "251294     저희들은 과거에 서무과에 근무하다가 중등 준교사시험에 합격해 평교사로 재직하다...          1  \n",
       "251315  지난    경남 함안에서 벌어진 외국인 유학생 폭행사건에 대하여  위법한 직무수행을...          1  "
      ]
     },
     "execution_count": 50,
     "metadata": {},
     "output_type": "execute_result"
    }
   ],
   "source": [
    "df_test['pred_diff'] = 0\n",
    "df_test['pred_diff'] = (df_test['category'] == df_test['category_pred'] ) == 1\n",
    "df_test['pred_diff'] = df_test['pred_diff'].astype(int)\n",
    "df_test.head()"
   ]
  },
  {
   "cell_type": "code",
   "execution_count": 51,
   "metadata": {},
   "outputs": [
    {
     "data": {
      "text/plain": [
       "0    327\n",
       "1    279\n",
       "Name: pred_diff, dtype: int64"
      ]
     },
     "execution_count": 51,
     "metadata": {},
     "output_type": "execute_result"
    }
   ],
   "source": [
    "# 맞게 예측한 청원은 1, 틀린 예측은 0으로 표기되었습니다.\n",
    "pred_diff = df_test['pred_diff'].value_counts()\n",
    "pred_diff"
   ]
  },
  {
   "cell_type": "code",
   "execution_count": 52,
   "metadata": {},
   "outputs": [
    {
     "name": "stdout",
     "output_type": "stream",
     "text": [
      "전체 606건의 데이터 중 279건 예측\n"
     ]
    }
   ],
   "source": [
    "print('전체 {}건의 데이터 중 {}건 예측'.format(y_pred.shape[0], pred_diff[1]))"
   ]
  },
  {
   "cell_type": "code",
   "execution_count": 53,
   "metadata": {},
   "outputs": [
    {
     "name": "stdout",
     "output_type": "stream",
     "text": [
      "예측 비율 46.03960396039604\n"
     ]
    }
   ],
   "source": [
    "acc = ( pred_diff[1] / y_pred.shape[0] )*100 \n",
    "print('예측 비율 {}'.format(acc))"
   ]
  },
  {
   "cell_type": "code",
   "execution_count": 54,
   "metadata": {},
   "outputs": [
    {
     "data": {
      "text/html": [
       "<div>\n",
       "<style scoped>\n",
       "    .dataframe tbody tr th:only-of-type {\n",
       "        vertical-align: middle;\n",
       "    }\n",
       "\n",
       "    .dataframe tbody tr th {\n",
       "        vertical-align: top;\n",
       "    }\n",
       "\n",
       "    .dataframe thead th {\n",
       "        text-align: right;\n",
       "    }\n",
       "</style>\n",
       "<table border=\"1\" class=\"dataframe\">\n",
       "  <thead>\n",
       "    <tr style=\"text-align: right;\">\n",
       "      <th></th>\n",
       "      <th>article_id</th>\n",
       "      <th>start</th>\n",
       "      <th>end</th>\n",
       "      <th>answered</th>\n",
       "      <th>votes</th>\n",
       "      <th>category</th>\n",
       "      <th>title</th>\n",
       "      <th>content</th>\n",
       "      <th>category_pred</th>\n",
       "      <th>content_preprocessing</th>\n",
       "      <th>content_preprocessed</th>\n",
       "      <th>pred_diff</th>\n",
       "    </tr>\n",
       "  </thead>\n",
       "  <tbody>\n",
       "    <tr>\n",
       "      <th>250850</th>\n",
       "      <td>325097</td>\n",
       "      <td>2018-07-31</td>\n",
       "      <td>2018-08-30</td>\n",
       "      <td>0</td>\n",
       "      <td>623</td>\n",
       "      <td>육아/교육</td>\n",
       "      <td>교육공무직은 교사 보조를 위한 직업인데, 교사가 되려고, 공무원이 되려고 합니다. ...</td>\n",
       "      <td>교육공무직은 교사 보조를 위한 직업입니다.\\n그러나 그동안 교육공무직은 여러 가지 ...</td>\n",
       "      <td>육아/교육</td>\n",
       "      <td>교육공무직은 교사 보조를 위한 직업입니다  그러나 그동안 교육공무직은 여러 가지 활...</td>\n",
       "      <td>교육공무직은 교사 보조를 위한 직업입니다  그러나 그동안 교육공무직은 여러 가지 활...</td>\n",
       "      <td>1</td>\n",
       "    </tr>\n",
       "    <tr>\n",
       "      <th>251294</th>\n",
       "      <td>325691</td>\n",
       "      <td>2018-08-01</td>\n",
       "      <td>2018-08-31</td>\n",
       "      <td>0</td>\n",
       "      <td>1806</td>\n",
       "      <td>육아/교육</td>\n",
       "      <td>학교 행정실을 없애주세요.</td>\n",
       "      <td>1. 저희들은 과거에 서무과에 근무하다가 중등 준교사시험에 합격해 평교사로 재직하다...</td>\n",
       "      <td>육아/교육</td>\n",
       "      <td>저희들은 과거에 서무과에 근무하다가 중등 준교사시험에 합격해 평교사로 재직하다...</td>\n",
       "      <td>저희들은 과거에 서무과에 근무하다가 중등 준교사시험에 합격해 평교사로 재직하다...</td>\n",
       "      <td>1</td>\n",
       "    </tr>\n",
       "    <tr>\n",
       "      <th>251315</th>\n",
       "      <td>325713</td>\n",
       "      <td>2018-08-01</td>\n",
       "      <td>2018-08-31</td>\n",
       "      <td>0</td>\n",
       "      <td>1419</td>\n",
       "      <td>인권/성평등</td>\n",
       "      <td>창원 출입국관리사무소 단속반원 징계 건의</td>\n",
       "      <td>지난 7월 16일 경남 함안에서 벌어진 외국인 유학생 폭행사건에 대하여, 위법한 직...</td>\n",
       "      <td>인권/성평등</td>\n",
       "      <td>지난  월   일 경남 함안에서 벌어진 외국인 유학생 폭행사건에 대하여  위법한 직...</td>\n",
       "      <td>지난    경남 함안에서 벌어진 외국인 유학생 폭행사건에 대하여  위법한 직무수행을...</td>\n",
       "      <td>1</td>\n",
       "    </tr>\n",
       "    <tr>\n",
       "      <th>251688</th>\n",
       "      <td>326234</td>\n",
       "      <td>2018-08-01</td>\n",
       "      <td>2018-08-31</td>\n",
       "      <td>0</td>\n",
       "      <td>1324</td>\n",
       "      <td>정치개혁</td>\n",
       "      <td>인도적체류를 없애주시고 불법체류자를 추방해주세요.</td>\n",
       "      <td>이번에 난민법폐지는 힘들다는 기사를 봤습니다.\\n사실 우리의 문제는 난민뿐만이 아닙...</td>\n",
       "      <td>정치개혁</td>\n",
       "      <td>이번에 난민법폐지는 힘들다는 기사를 봤습니다  사실 우리의 문제는 난민뿐만이 아닙니...</td>\n",
       "      <td>이번에 난민법폐지는 힘들다는 기사를 봤습니다  사실 우리의 문제는 난민뿐만이 아닙니...</td>\n",
       "      <td>1</td>\n",
       "    </tr>\n",
       "    <tr>\n",
       "      <th>251727</th>\n",
       "      <td>326291</td>\n",
       "      <td>2018-08-01</td>\n",
       "      <td>2018-08-31</td>\n",
       "      <td>0</td>\n",
       "      <td>11684</td>\n",
       "      <td>정치개혁</td>\n",
       "      <td>드루킹 특검 30일 기간 연장 청원합니다.</td>\n",
       "      <td>어렵게 구성된 특검 측에선 사안이 복잡하고 다양한 만큼 특검 기간 연장을 요청했지만...</td>\n",
       "      <td>정치개혁</td>\n",
       "      <td>어렵게 구성된 특검 측에선 사안이 복잡하고 다양한 만큼 특검 기간 연장을 요청했지만...</td>\n",
       "      <td>어렵게 구성된 특검 측에선 사안이 복잡하고 다양한 만큼 특검 기간 연장을 요청했지만...</td>\n",
       "      <td>1</td>\n",
       "    </tr>\n",
       "  </tbody>\n",
       "</table>\n",
       "</div>"
      ],
      "text/plain": [
       "        article_id      start        end  answered  votes category  \\\n",
       "250850      325097 2018-07-31 2018-08-30         0    623    육아/교육   \n",
       "251294      325691 2018-08-01 2018-08-31         0   1806    육아/교육   \n",
       "251315      325713 2018-08-01 2018-08-31         0   1419   인권/성평등   \n",
       "251688      326234 2018-08-01 2018-08-31         0   1324     정치개혁   \n",
       "251727      326291 2018-08-01 2018-08-31         0  11684     정치개혁   \n",
       "\n",
       "                                                    title  \\\n",
       "250850  교육공무직은 교사 보조를 위한 직업인데, 교사가 되려고, 공무원이 되려고 합니다. ...   \n",
       "251294                                     학교 행정실을 없애주세요.   \n",
       "251315                             창원 출입국관리사무소 단속반원 징계 건의   \n",
       "251688                        인도적체류를 없애주시고 불법체류자를 추방해주세요.   \n",
       "251727                            드루킹 특검 30일 기간 연장 청원합니다.   \n",
       "\n",
       "                                                  content category_pred  \\\n",
       "250850  교육공무직은 교사 보조를 위한 직업입니다.\\n그러나 그동안 교육공무직은 여러 가지 ...         육아/교육   \n",
       "251294  1. 저희들은 과거에 서무과에 근무하다가 중등 준교사시험에 합격해 평교사로 재직하다...         육아/교육   \n",
       "251315  지난 7월 16일 경남 함안에서 벌어진 외국인 유학생 폭행사건에 대하여, 위법한 직...        인권/성평등   \n",
       "251688  이번에 난민법폐지는 힘들다는 기사를 봤습니다.\\n사실 우리의 문제는 난민뿐만이 아닙...          정치개혁   \n",
       "251727  어렵게 구성된 특검 측에선 사안이 복잡하고 다양한 만큼 특검 기간 연장을 요청했지만...          정치개혁   \n",
       "\n",
       "                                    content_preprocessing  \\\n",
       "250850  교육공무직은 교사 보조를 위한 직업입니다  그러나 그동안 교육공무직은 여러 가지 활...   \n",
       "251294     저희들은 과거에 서무과에 근무하다가 중등 준교사시험에 합격해 평교사로 재직하다...   \n",
       "251315  지난  월   일 경남 함안에서 벌어진 외국인 유학생 폭행사건에 대하여  위법한 직...   \n",
       "251688  이번에 난민법폐지는 힘들다는 기사를 봤습니다  사실 우리의 문제는 난민뿐만이 아닙니...   \n",
       "251727  어렵게 구성된 특검 측에선 사안이 복잡하고 다양한 만큼 특검 기간 연장을 요청했지만...   \n",
       "\n",
       "                                     content_preprocessed  pred_diff  \n",
       "250850  교육공무직은 교사 보조를 위한 직업입니다  그러나 그동안 교육공무직은 여러 가지 활...          1  \n",
       "251294     저희들은 과거에 서무과에 근무하다가 중등 준교사시험에 합격해 평교사로 재직하다...          1  \n",
       "251315  지난    경남 함안에서 벌어진 외국인 유학생 폭행사건에 대하여  위법한 직무수행을...          1  \n",
       "251688  이번에 난민법폐지는 힘들다는 기사를 봤습니다  사실 우리의 문제는 난민뿐만이 아닙니...          1  \n",
       "251727  어렵게 구성된 특검 측에선 사안이 복잡하고 다양한 만큼 특검 기간 연장을 요청했지만...          1  "
      ]
     },
     "execution_count": 54,
     "metadata": {},
     "output_type": "execute_result"
    }
   ],
   "source": [
    "# 제대로 예측한 카테고리 데이터를 봅니다.\n",
    "predict_correct = df_test.loc[df_test['pred_diff'] == 1]\n",
    "predict_correct.head()"
   ]
  },
  {
   "cell_type": "markdown",
   "metadata": {},
   "source": [
    "## 잘못 예측한 카테고리 보기"
   ]
  },
  {
   "cell_type": "code",
   "execution_count": 55,
   "metadata": {},
   "outputs": [
    {
     "data": {
      "text/html": [
       "<div>\n",
       "<style scoped>\n",
       "    .dataframe tbody tr th:only-of-type {\n",
       "        vertical-align: middle;\n",
       "    }\n",
       "\n",
       "    .dataframe tbody tr th {\n",
       "        vertical-align: top;\n",
       "    }\n",
       "\n",
       "    .dataframe thead th {\n",
       "        text-align: right;\n",
       "    }\n",
       "</style>\n",
       "<table border=\"1\" class=\"dataframe\">\n",
       "  <thead>\n",
       "    <tr style=\"text-align: right;\">\n",
       "      <th></th>\n",
       "      <th>article_id</th>\n",
       "      <th>start</th>\n",
       "      <th>end</th>\n",
       "      <th>answered</th>\n",
       "      <th>votes</th>\n",
       "      <th>category</th>\n",
       "      <th>title</th>\n",
       "      <th>content</th>\n",
       "      <th>category_pred</th>\n",
       "      <th>content_preprocessing</th>\n",
       "      <th>content_preprocessed</th>\n",
       "      <th>pred_diff</th>\n",
       "    </tr>\n",
       "  </thead>\n",
       "  <tbody>\n",
       "    <tr>\n",
       "      <th>251078</th>\n",
       "      <td>325394</td>\n",
       "      <td>2018-08-01</td>\n",
       "      <td>2018-08-31</td>\n",
       "      <td>0</td>\n",
       "      <td>760</td>\n",
       "      <td>정치개혁</td>\n",
       "      <td>문재인 대통령 탄핵 동의하시길 부탁드립니다</td>\n",
       "      <td>남북 'DMZ 평화지대화' 큰틀 견해 일치…北 \"생산적 회담\"\\nGP시범철수·JSA...</td>\n",
       "      <td>인권/성평등</td>\n",
       "      <td>남북  DMZ 평화지대화  큰틀 견해 일치    생산적 회담  GP시범철수 JSA비...</td>\n",
       "      <td>남북  DMZ 평화지대화  큰틀 견해 일치    생산적 회담  GP시범철수 JSA비...</td>\n",
       "      <td>0</td>\n",
       "    </tr>\n",
       "    <tr>\n",
       "      <th>251174</th>\n",
       "      <td>325534</td>\n",
       "      <td>2018-08-01</td>\n",
       "      <td>2018-08-31</td>\n",
       "      <td>0</td>\n",
       "      <td>1009</td>\n",
       "      <td>인권/성평등</td>\n",
       "      <td>유관순 열사의 서훈등급의 승급을 요청합니다.</td>\n",
       "      <td>유관순 열사의 서훈등급의 승급을 요청합니다.\\n유관순 열사는 3.1. 만세운동의 상...</td>\n",
       "      <td>육아/교육</td>\n",
       "      <td>유관순 열사의 서훈등급의 승급을 요청합니다  유관순 열사는      만세운동의 상징...</td>\n",
       "      <td>유관순 열사의 서훈등급의 승급을 요청합니다  유관순 열사는      만세운동의 상징...</td>\n",
       "      <td>0</td>\n",
       "    </tr>\n",
       "    <tr>\n",
       "      <th>251927</th>\n",
       "      <td>326551</td>\n",
       "      <td>2018-08-01</td>\n",
       "      <td>2018-08-31</td>\n",
       "      <td>0</td>\n",
       "      <td>1554</td>\n",
       "      <td>인권/성평등</td>\n",
       "      <td>경찰수험생 성폭력 강사 처벌해주세요</td>\n",
       "      <td>공단기 에서 국사를 강의하는 전한길 강사의 게시판에 피해자가 도움을 요청한 글이 아...</td>\n",
       "      <td>육아/교육</td>\n",
       "      <td>공단기 에서 국사를 강의하는 전한길 강사의 게시판에 피해자가 도움을 요청한 글이 아...</td>\n",
       "      <td>공단기 에서 국사를 강의하는 전한길 강사의 게시판에 피해자가 도움을 요청한 글이 아...</td>\n",
       "      <td>0</td>\n",
       "    </tr>\n",
       "    <tr>\n",
       "      <th>252180</th>\n",
       "      <td>326899</td>\n",
       "      <td>2018-08-02</td>\n",
       "      <td>2018-09-01</td>\n",
       "      <td>0</td>\n",
       "      <td>812</td>\n",
       "      <td>인권/성평등</td>\n",
       "      <td>동성애와 동성결혼 합법화가 시행되지 않게해주세요</td>\n",
       "      <td>조국 대한민국의 윤리도덕이 정부 주도 하에 무너지는 것을 막기 위해서입니다. 이 청...</td>\n",
       "      <td>정치개혁</td>\n",
       "      <td>조국 대한민국의 윤리도덕이 정부 주도 하에 무너지는 것을 막기 위해서입니다  이 청...</td>\n",
       "      <td>조국 대한민국의 윤리도덕이 정부 주도 하에 무너지는 것을 막기 위해서입니다  이 청...</td>\n",
       "      <td>0</td>\n",
       "    </tr>\n",
       "    <tr>\n",
       "      <th>252591</th>\n",
       "      <td>327449</td>\n",
       "      <td>2018-08-02</td>\n",
       "      <td>2018-09-01</td>\n",
       "      <td>0</td>\n",
       "      <td>721</td>\n",
       "      <td>정치개혁</td>\n",
       "      <td>이재명의 지위를 이용한 사전선거운동 공정한수사촉구</td>\n",
       "      <td>2015 11월 경기도 선관위는 이재명의 '지위를 이용한 사전선거운동' 공직선거법 ...</td>\n",
       "      <td>인권/성평등</td>\n",
       "      <td>월 경기도 선관위는 이재명의  지위를 이용한 사전선거운동  공직선거법 ...</td>\n",
       "      <td>경기도 선관위는 이재명의  지위를 이용한 사전선거운동  공직선거법 위반...</td>\n",
       "      <td>0</td>\n",
       "    </tr>\n",
       "  </tbody>\n",
       "</table>\n",
       "</div>"
      ],
      "text/plain": [
       "        article_id      start        end  answered  votes category  \\\n",
       "251078      325394 2018-08-01 2018-08-31         0    760     정치개혁   \n",
       "251174      325534 2018-08-01 2018-08-31         0   1009   인권/성평등   \n",
       "251927      326551 2018-08-01 2018-08-31         0   1554   인권/성평등   \n",
       "252180      326899 2018-08-02 2018-09-01         0    812   인권/성평등   \n",
       "252591      327449 2018-08-02 2018-09-01         0    721     정치개혁   \n",
       "\n",
       "                              title  \\\n",
       "251078      문재인 대통령 탄핵 동의하시길 부탁드립니다   \n",
       "251174     유관순 열사의 서훈등급의 승급을 요청합니다.   \n",
       "251927          경찰수험생 성폭력 강사 처벌해주세요   \n",
       "252180   동성애와 동성결혼 합법화가 시행되지 않게해주세요   \n",
       "252591  이재명의 지위를 이용한 사전선거운동 공정한수사촉구   \n",
       "\n",
       "                                                  content category_pred  \\\n",
       "251078  남북 'DMZ 평화지대화' 큰틀 견해 일치…北 \"생산적 회담\"\\nGP시범철수·JSA...        인권/성평등   \n",
       "251174  유관순 열사의 서훈등급의 승급을 요청합니다.\\n유관순 열사는 3.1. 만세운동의 상...         육아/교육   \n",
       "251927  공단기 에서 국사를 강의하는 전한길 강사의 게시판에 피해자가 도움을 요청한 글이 아...         육아/교육   \n",
       "252180  조국 대한민국의 윤리도덕이 정부 주도 하에 무너지는 것을 막기 위해서입니다. 이 청...          정치개혁   \n",
       "252591  2015 11월 경기도 선관위는 이재명의 '지위를 이용한 사전선거운동' 공직선거법 ...        인권/성평등   \n",
       "\n",
       "                                    content_preprocessing  \\\n",
       "251078  남북  DMZ 평화지대화  큰틀 견해 일치    생산적 회담  GP시범철수 JSA비...   \n",
       "251174  유관순 열사의 서훈등급의 승급을 요청합니다  유관순 열사는      만세운동의 상징...   \n",
       "251927  공단기 에서 국사를 강의하는 전한길 강사의 게시판에 피해자가 도움을 요청한 글이 아...   \n",
       "252180  조국 대한민국의 윤리도덕이 정부 주도 하에 무너지는 것을 막기 위해서입니다  이 청...   \n",
       "252591         월 경기도 선관위는 이재명의  지위를 이용한 사전선거운동  공직선거법 ...   \n",
       "\n",
       "                                     content_preprocessed  pred_diff  \n",
       "251078  남북  DMZ 평화지대화  큰틀 견해 일치    생산적 회담  GP시범철수 JSA비...          0  \n",
       "251174  유관순 열사의 서훈등급의 승급을 요청합니다  유관순 열사는      만세운동의 상징...          0  \n",
       "251927  공단기 에서 국사를 강의하는 전한길 강사의 게시판에 피해자가 도움을 요청한 글이 아...          0  \n",
       "252180  조국 대한민국의 윤리도덕이 정부 주도 하에 무너지는 것을 막기 위해서입니다  이 청...          0  \n",
       "252591         경기도 선관위는 이재명의  지위를 이용한 사전선거운동  공직선거법 위반...          0  "
      ]
     },
     "execution_count": 55,
     "metadata": {},
     "output_type": "execute_result"
    }
   ],
   "source": [
    "predict_incorrect = df_test.loc[df_test['pred_diff'] == 0].copy()\n",
    "predict_incorrect.head()"
   ]
  },
  {
   "cell_type": "code",
   "execution_count": 56,
   "metadata": {},
   "outputs": [
    {
     "data": {
      "text/plain": [
       "인권/성평등         135\n",
       "육아/교육           86\n",
       "문화/예술/체육/언론     57\n",
       "정치개혁            49\n",
       "Name: category, dtype: int64"
      ]
     },
     "execution_count": 56,
     "metadata": {},
     "output_type": "execute_result"
    }
   ],
   "source": [
    "predict_incorrect_value = predict_incorrect['category'].value_counts()\n",
    "predict_incorrect_value"
   ]
  },
  {
   "cell_type": "code",
   "execution_count": 57,
   "metadata": {},
   "outputs": [
    {
     "data": {
      "text/plain": [
       "<matplotlib.axes._subplots.AxesSubplot at 0x1429042b0>"
      ]
     },
     "execution_count": 57,
     "metadata": {},
     "output_type": "execute_result"
    },
    {
     "data": {
      "image/png": "[encoded data removed]",
      "text/plain": [
       "<matplotlib.figure.Figure at 0x1421f9898>"
      ]
     },
     "metadata": {},
     "output_type": "display_data"
    }
   ],
   "source": [
    "# 잘못 예측한 카테고리 중 인권/성평등 카테고리가 가장 많습니다.\n",
    "predict_incorrect_value.plot(kind='bar')"
   ]
  },
  {
   "cell_type": "markdown",
   "metadata": {},
   "source": [
    "# 왜 예측의 정확도가 낮을까요?\n",
    "* 청원을 입력하는 사람마다 카테고리 분류 기준이 정확하지 않은 것 같습니다.\n",
    "* 기타로 예측한 분류도 특정 카테고리로 분류해도 될 것으로 보여집니다."
   ]
  },
  {
   "cell_type": "code",
   "execution_count": 58,
   "metadata": {},
   "outputs": [
    {
     "data": {
      "text/html": [
       "<div>\n",
       "<style scoped>\n",
       "    .dataframe tbody tr th:only-of-type {\n",
       "        vertical-align: middle;\n",
       "    }\n",
       "\n",
       "    .dataframe tbody tr th {\n",
       "        vertical-align: top;\n",
       "    }\n",
       "\n",
       "    .dataframe thead th {\n",
       "        text-align: right;\n",
       "    }\n",
       "</style>\n",
       "<table border=\"1\" class=\"dataframe\">\n",
       "  <thead>\n",
       "    <tr style=\"text-align: right;\">\n",
       "      <th></th>\n",
       "      <th>category</th>\n",
       "      <th>category_pred</th>\n",
       "      <th>title</th>\n",
       "      <th>content</th>\n",
       "    </tr>\n",
       "  </thead>\n",
       "  <tbody>\n",
       "    <tr>\n",
       "      <th>251078</th>\n",
       "      <td>정치개혁</td>\n",
       "      <td>인권/성평등</td>\n",
       "      <td>문재인 대통령 탄핵 동의하시길 부탁드립니다</td>\n",
       "      <td>남북 'DMZ 평화지대화' 큰틀 견해 일치…北 \"생산적 회담\"\\nGP시범철수·JSA...</td>\n",
       "    </tr>\n",
       "    <tr>\n",
       "      <th>251174</th>\n",
       "      <td>인권/성평등</td>\n",
       "      <td>육아/교육</td>\n",
       "      <td>유관순 열사의 서훈등급의 승급을 요청합니다.</td>\n",
       "      <td>유관순 열사의 서훈등급의 승급을 요청합니다.\\n유관순 열사는 3.1. 만세운동의 상...</td>\n",
       "    </tr>\n",
       "    <tr>\n",
       "      <th>251927</th>\n",
       "      <td>인권/성평등</td>\n",
       "      <td>육아/교육</td>\n",
       "      <td>경찰수험생 성폭력 강사 처벌해주세요</td>\n",
       "      <td>공단기 에서 국사를 강의하는 전한길 강사의 게시판에 피해자가 도움을 요청한 글이 아...</td>\n",
       "    </tr>\n",
       "    <tr>\n",
       "      <th>252180</th>\n",
       "      <td>인권/성평등</td>\n",
       "      <td>정치개혁</td>\n",
       "      <td>동성애와 동성결혼 합법화가 시행되지 않게해주세요</td>\n",
       "      <td>조국 대한민국의 윤리도덕이 정부 주도 하에 무너지는 것을 막기 위해서입니다. 이 청...</td>\n",
       "    </tr>\n",
       "    <tr>\n",
       "      <th>252591</th>\n",
       "      <td>정치개혁</td>\n",
       "      <td>인권/성평등</td>\n",
       "      <td>이재명의 지위를 이용한 사전선거운동 공정한수사촉구</td>\n",
       "      <td>2015 11월 경기도 선관위는 이재명의 '지위를 이용한 사전선거운동' 공직선거법 ...</td>\n",
       "    </tr>\n",
       "    <tr>\n",
       "      <th>252935</th>\n",
       "      <td>정치개혁</td>\n",
       "      <td>육아/교육</td>\n",
       "      <td>자국민을 보호해주세요. 난민을 반대하는 목소리를 회피하지 말아주세요.</td>\n",
       "      <td>저는 중학교 3학년 빠른 년생 학생입니다. 저는 지루하고 따분한 정치에 관심도 없지...</td>\n",
       "    </tr>\n",
       "    <tr>\n",
       "      <th>253204</th>\n",
       "      <td>인권/성평등</td>\n",
       "      <td>정치개혁</td>\n",
       "      <td>중국동포!!! 조상님이 지어주신 한글이름을 돌려주세요</td>\n",
       "      <td>저는 출입국업무 대행을 하고 있는 행정사입니다.\\n제가 행정사일을 하면서 알게된 중...</td>\n",
       "    </tr>\n",
       "    <tr>\n",
       "      <th>254267</th>\n",
       "      <td>인권/성평등</td>\n",
       "      <td>문화/예술/체육/언론</td>\n",
       "      <td>존경하는 민갑룡 경찰청장님께 드리는 말씀</td>\n",
       "      <td>안녕하십니까.\\n이제는 공기처럼 당연하게만 느껴지는 세계적인 수준의 치안과 5천만 ...</td>\n",
       "    </tr>\n",
       "    <tr>\n",
       "      <th>254815</th>\n",
       "      <td>인권/성평등</td>\n",
       "      <td>정치개혁</td>\n",
       "      <td>존경하옵는 대통령님께 호소드립니다.</td>\n",
       "      <td>존경하옵는 대통령님께 호소드립니다.\\n불철주야 늘 국민과 국가를 위해 헌신하시는 대...</td>\n",
       "    </tr>\n",
       "    <tr>\n",
       "      <th>255664</th>\n",
       "      <td>육아/교육</td>\n",
       "      <td>정치개혁</td>\n",
       "      <td>국민의 뜻 수시축소 정시확대 지켜주세요</td>\n",
       "      <td>투표결과 및 대다수의 국민이  정시확대를 요구하는데\\n공론화및 2년넘게 추진 한것이...</td>\n",
       "    </tr>\n",
       "  </tbody>\n",
       "</table>\n",
       "</div>"
      ],
      "text/plain": [
       "       category category_pred                                   title  \\\n",
       "251078     정치개혁        인권/성평등                 문재인 대통령 탄핵 동의하시길 부탁드립니다   \n",
       "251174   인권/성평등         육아/교육                유관순 열사의 서훈등급의 승급을 요청합니다.   \n",
       "251927   인권/성평등         육아/교육                     경찰수험생 성폭력 강사 처벌해주세요   \n",
       "252180   인권/성평등          정치개혁              동성애와 동성결혼 합법화가 시행되지 않게해주세요   \n",
       "252591     정치개혁        인권/성평등             이재명의 지위를 이용한 사전선거운동 공정한수사촉구   \n",
       "252935     정치개혁         육아/교육  자국민을 보호해주세요. 난민을 반대하는 목소리를 회피하지 말아주세요.   \n",
       "253204   인권/성평등          정치개혁           중국동포!!! 조상님이 지어주신 한글이름을 돌려주세요   \n",
       "254267   인권/성평등   문화/예술/체육/언론                  존경하는 민갑룡 경찰청장님께 드리는 말씀   \n",
       "254815   인권/성평등          정치개혁                     존경하옵는 대통령님께 호소드립니다.   \n",
       "255664    육아/교육          정치개혁                   국민의 뜻 수시축소 정시확대 지켜주세요   \n",
       "\n",
       "                                                  content  \n",
       "251078  남북 'DMZ 평화지대화' 큰틀 견해 일치…北 \"생산적 회담\"\\nGP시범철수·JSA...  \n",
       "251174  유관순 열사의 서훈등급의 승급을 요청합니다.\\n유관순 열사는 3.1. 만세운동의 상...  \n",
       "251927  공단기 에서 국사를 강의하는 전한길 강사의 게시판에 피해자가 도움을 요청한 글이 아...  \n",
       "252180  조국 대한민국의 윤리도덕이 정부 주도 하에 무너지는 것을 막기 위해서입니다. 이 청...  \n",
       "252591  2015 11월 경기도 선관위는 이재명의 '지위를 이용한 사전선거운동' 공직선거법 ...  \n",
       "252935  저는 중학교 3학년 빠른 년생 학생입니다. 저는 지루하고 따분한 정치에 관심도 없지...  \n",
       "253204  저는 출입국업무 대행을 하고 있는 행정사입니다.\\n제가 행정사일을 하면서 알게된 중...  \n",
       "254267  안녕하십니까.\\n이제는 공기처럼 당연하게만 느껴지는 세계적인 수준의 치안과 5천만 ...  \n",
       "254815  존경하옵는 대통령님께 호소드립니다.\\n불철주야 늘 국민과 국가를 위해 헌신하시는 대...  \n",
       "255664  투표결과 및 대다수의 국민이  정시확대를 요구하는데\\n공론화및 2년넘게 추진 한것이...  "
      ]
     },
     "execution_count": 58,
     "metadata": {},
     "output_type": "execute_result"
    }
   ],
   "source": [
    "predict_incorrect[['category', 'category_pred', 'title', 'content']].head(10)"
   ]
  },
  {
   "cell_type": "markdown",
   "metadata": {},
   "source": [
    "## 원래 데이터 중 분류기가 다르게 예측한 특정 카테고리의 청원을 봅니다."
   ]
  },
  {
   "cell_type": "code",
   "execution_count": 59,
   "metadata": {},
   "outputs": [
    {
     "data": {
      "text/html": [
       "<div>\n",
       "<style scoped>\n",
       "    .dataframe tbody tr th:only-of-type {\n",
       "        vertical-align: middle;\n",
       "    }\n",
       "\n",
       "    .dataframe tbody tr th {\n",
       "        vertical-align: top;\n",
       "    }\n",
       "\n",
       "    .dataframe thead th {\n",
       "        text-align: right;\n",
       "    }\n",
       "</style>\n",
       "<table border=\"1\" class=\"dataframe\">\n",
       "  <thead>\n",
       "    <tr style=\"text-align: right;\">\n",
       "      <th></th>\n",
       "      <th>category</th>\n",
       "      <th>category_pred</th>\n",
       "      <th>title</th>\n",
       "      <th>content</th>\n",
       "    </tr>\n",
       "  </thead>\n",
       "  <tbody>\n",
       "    <tr>\n",
       "      <th>255664</th>\n",
       "      <td>육아/교육</td>\n",
       "      <td>정치개혁</td>\n",
       "      <td>국민의 뜻 수시축소 정시확대 지켜주세요</td>\n",
       "      <td>투표결과 및 대다수의 국민이  정시확대를 요구하는데\\n공론화및 2년넘게 추진 한것이...</td>\n",
       "    </tr>\n",
       "    <tr>\n",
       "      <th>255881</th>\n",
       "      <td>육아/교육</td>\n",
       "      <td>인권/성평등</td>\n",
       "      <td>저희 사랑하는 아기가 믿었던 돌보미에 의해 학대당했습니다.</td>\n",
       "      <td>\"한국에 많은 맞벌이 부부, 젊은 부부들이 맘놓고 육아와 일을 할 수 있는 나라,\\...</td>\n",
       "    </tr>\n",
       "    <tr>\n",
       "      <th>256945</th>\n",
       "      <td>육아/교육</td>\n",
       "      <td>정치개혁</td>\n",
       "      <td>정부지원금 엄마에게 주세요</td>\n",
       "      <td>현재 보육정책은 0-2세 아이를 엄마가 집에서 키우면 20~10만원을 양육수당으로 ...</td>\n",
       "    </tr>\n",
       "    <tr>\n",
       "      <th>258983</th>\n",
       "      <td>육아/교육</td>\n",
       "      <td>정치개혁</td>\n",
       "      <td>숙명여고 교직원 자녀 2명이 이번에 동시에 전교1등 (문/이과)했다는데 부정 의혹을...</td>\n",
       "      <td>전교 50등 정도 하던 학생 두명이 현직 숙명여고 교직원 자녀들로서 이번 1학기 기...</td>\n",
       "    </tr>\n",
       "    <tr>\n",
       "      <th>259282</th>\n",
       "      <td>육아/교육</td>\n",
       "      <td>정치개혁</td>\n",
       "      <td>고등학교 교직원 자녀의 같은학교 배정금지</td>\n",
       "      <td>학생부종합을 비롯한 수시가 대세인 요즘.\\n학생부의 중요성은 이루 말할수없습니다.\\...</td>\n",
       "    </tr>\n",
       "    <tr>\n",
       "      <th>264152</th>\n",
       "      <td>육아/교육</td>\n",
       "      <td>인권/성평등</td>\n",
       "      <td>어린이집학부모 모니터링과 평가인증 없애야한다고 생각합니다 .</td>\n",
       "      <td>안녕하세요 저는 4세아들과7개월넘은 두아들을 키우고 잇습니다. 두아들이 다니는 어린...</td>\n",
       "    </tr>\n",
       "    <tr>\n",
       "      <th>267335</th>\n",
       "      <td>육아/교육</td>\n",
       "      <td>정치개혁</td>\n",
       "      <td>초등학생 중학생 등 미성년자의핸드폰중독으로 인한 불법사이트노출 교통사고등등 사회문제...</td>\n",
       "      <td>초등 중등 핸드폰 개통불가와 폴더폰으로 할수있도록\\n정부및 통신사에서\\n도움 꼭  ...</td>\n",
       "    </tr>\n",
       "    <tr>\n",
       "      <th>268634</th>\n",
       "      <td>육아/교육</td>\n",
       "      <td>인권/성평등</td>\n",
       "      <td>초중등학교 내 스마트폰 사용 금지 청원</td>\n",
       "      <td>내년부터는 5-16세 학생이 학교에서 스마트폰을 사용하지 못하도록 하는 법안을 만들...</td>\n",
       "    </tr>\n",
       "    <tr>\n",
       "      <th>270428</th>\n",
       "      <td>육아/교육</td>\n",
       "      <td>인권/성평등</td>\n",
       "      <td>〓 국민특명, 전국 초․중․고 즉각 휴교실시 〓</td>\n",
       "      <td>전국 초․중․고교의 교장님들!\\n고리타분한 노인네 티내지 마시고 당장 내일부터 태풍...</td>\n",
       "    </tr>\n",
       "    <tr>\n",
       "      <th>274475</th>\n",
       "      <td>육아/교육</td>\n",
       "      <td>인권/성평등</td>\n",
       "      <td>제주 **초등학교 1학년 아이들이 학교폭력의 가해자가 되었습니다.</td>\n",
       "      <td>저희는 제주 ** 초등학교 1학년 학생을 자녀로 둔 학부모들입니다. 이제 막 1학년...</td>\n",
       "    </tr>\n",
       "  </tbody>\n",
       "</table>\n",
       "</div>"
      ],
      "text/plain": [
       "       category category_pred  \\\n",
       "255664    육아/교육          정치개혁   \n",
       "255881    육아/교육        인권/성평등   \n",
       "256945    육아/교육          정치개혁   \n",
       "258983    육아/교육          정치개혁   \n",
       "259282    육아/교육          정치개혁   \n",
       "264152    육아/교육        인권/성평등   \n",
       "267335    육아/교육          정치개혁   \n",
       "268634    육아/교육        인권/성평등   \n",
       "270428    육아/교육        인권/성평등   \n",
       "274475    육아/교육        인권/성평등   \n",
       "\n",
       "                                                    title  \\\n",
       "255664                              국민의 뜻 수시축소 정시확대 지켜주세요   \n",
       "255881                   저희 사랑하는 아기가 믿었던 돌보미에 의해 학대당했습니다.   \n",
       "256945                                     정부지원금 엄마에게 주세요   \n",
       "258983  숙명여고 교직원 자녀 2명이 이번에 동시에 전교1등 (문/이과)했다는데 부정 의혹을...   \n",
       "259282                             고등학교 교직원 자녀의 같은학교 배정금지   \n",
       "264152                  어린이집학부모 모니터링과 평가인증 없애야한다고 생각합니다 .   \n",
       "267335  초등학생 중학생 등 미성년자의핸드폰중독으로 인한 불법사이트노출 교통사고등등 사회문제...   \n",
       "268634                              초중등학교 내 스마트폰 사용 금지 청원   \n",
       "270428                         〓 국민특명, 전국 초․중․고 즉각 휴교실시 〓   \n",
       "274475               제주 **초등학교 1학년 아이들이 학교폭력의 가해자가 되었습니다.   \n",
       "\n",
       "                                                  content  \n",
       "255664  투표결과 및 대다수의 국민이  정시확대를 요구하는데\\n공론화및 2년넘게 추진 한것이...  \n",
       "255881  \"한국에 많은 맞벌이 부부, 젊은 부부들이 맘놓고 육아와 일을 할 수 있는 나라,\\...  \n",
       "256945  현재 보육정책은 0-2세 아이를 엄마가 집에서 키우면 20~10만원을 양육수당으로 ...  \n",
       "258983  전교 50등 정도 하던 학생 두명이 현직 숙명여고 교직원 자녀들로서 이번 1학기 기...  \n",
       "259282  학생부종합을 비롯한 수시가 대세인 요즘.\\n학생부의 중요성은 이루 말할수없습니다.\\...  \n",
       "264152  안녕하세요 저는 4세아들과7개월넘은 두아들을 키우고 잇습니다. 두아들이 다니는 어린...  \n",
       "267335  초등 중등 핸드폰 개통불가와 폴더폰으로 할수있도록\\n정부및 통신사에서\\n도움 꼭  ...  \n",
       "268634  내년부터는 5-16세 학생이 학교에서 스마트폰을 사용하지 못하도록 하는 법안을 만들...  \n",
       "270428  전국 초․중․고교의 교장님들!\\n고리타분한 노인네 티내지 마시고 당장 내일부터 태풍...  \n",
       "274475  저희는 제주 ** 초등학교 1학년 학생을 자녀로 둔 학부모들입니다. 이제 막 1학년...  "
      ]
     },
     "execution_count": 59,
     "metadata": {},
     "output_type": "execute_result"
    }
   ],
   "source": [
    "predict_incorrect_etc = predict_incorrect.loc[predict_incorrect['category'] == '육아/교육'].copy()\n",
    "predict_incorrect_etc[['category', 'category_pred', 'title', 'content']].head(10)"
   ]
  },
  {
   "cell_type": "markdown",
   "metadata": {},
   "source": [
    "## 아래의 예측비율을 높여보세요. \n",
    "* 학습 세트와 테스트 세트의 비율을 7:3으로 유지하도록 하고 다음의 방법들을 사용해 볼 수 있습니다. \n",
    "* 아래 항목 외의 기법을 사용해도 됩니다.\n",
    " * 전처리 하기\n",
    " * 불용어 처리\n",
    " * 벡터 기법에 들어가는 파라메터 변경\n",
    " * 분류기의 파라메터 변경\n",
    " * 분류기 변경"
   ]
  },
  {
   "cell_type": "code",
   "execution_count": 60,
   "metadata": {},
   "outputs": [
    {
     "name": "stdout",
     "output_type": "stream",
     "text": [
      "정답 예측 비율 46.03960396039604\n"
     ]
    }
   ],
   "source": [
    "acc = ( pred_diff[1] / y_pred.shape[0] )*100 \n",
    "print('정답 예측 비율 {}'.format(acc))"
   ]
  },
  {
   "cell_type": "code",
   "execution_count": null,
   "metadata": {},
   "outputs": [],
   "source": []
  }
 ],
 "metadata": {
  "kernelspec": {
   "display_name": "Python 3",
   "language": "python",
   "name": "python3"
  },
  "language_info": {
   "codemirror_mode": {
    "name": "ipython",
    "version": 3
   },
   "file_extension": ".py",
   "mimetype": "text/x-python",
   "name": "python",
   "nbconvert_exporter": "python",
   "pygments_lexer": "ipython3",
   "version": "3.6.1"
  },
  "toc": {
   "base_numbering": 1,
   "nav_menu": {},
   "number_sections": true,
   "sideBar": true,
   "skip_h1_title": false,
   "title_cell": "Table of Contents",
   "title_sidebar": "Contents",
   "toc_cell": false,
   "toc_position": {},
   "toc_section_display": true,
   "toc_window_display": true
  }
 },
 "nbformat": 4,
 "nbformat_minor": 2
}
