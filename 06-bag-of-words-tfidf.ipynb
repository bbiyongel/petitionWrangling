{
 "cells": [
  {
   "cell_type": "markdown",
   "metadata": {},
   "source": [
    "# 단어 벡터화 하기"
   ]
  },
  {
   "cell_type": "code",
   "execution_count": 1,
   "metadata": {},
   "outputs": [
    {
     "name": "stdout",
     "output_type": "stream",
     "text": [
      "Name: soynlp\r\n",
      "Version: 0.0.45\r\n",
      "Summary: Unsupervised Korean Natural Language Processing Toolkits\r\n",
      "Home-page: https://github.com/lovit/soynlp\r\n",
      "Author: Lovit\r\n",
      "Author-email: soy.lovit@gmail.com\r\n",
      "License: UNKNOWN\r\n",
      "Location: /Users/corazzon/codes/jupyter/lib/python3.6/site-packages\r\n",
      "Requires: numpy, psutil\r\n",
      "Required-by: \r\n"
     ]
    }
   ],
   "source": [
    "# !pip install soynlp\n",
    "!pip show soynlp"
   ]
  },
  {
   "cell_type": "code",
   "execution_count": 2,
   "metadata": {},
   "outputs": [
    {
     "name": "stdout",
     "output_type": "stream",
     "text": [
      "Name: scikit-learn\r\n",
      "Version: 0.20.2\r\n",
      "Summary: A set of python modules for machine learning and data mining\r\n",
      "Home-page: http://scikit-learn.org\r\n",
      "Author: None\r\n",
      "Author-email: None\r\n",
      "License: new BSD\r\n",
      "Location: /Users/corazzon/codes/jupyter/lib/python3.6/site-packages\r\n",
      "Requires: numpy, scipy\r\n",
      "Required-by: soykeyword, sklearn, predictive-imputer, mglearn, lightgbm\r\n"
     ]
    }
   ],
   "source": [
    "# !pip install -U scikit-learn\n",
    "!pip show scikit-learn"
   ]
  },
  {
   "cell_type": "markdown",
   "metadata": {},
   "source": [
    "# 데이터 불러오기"
   ]
  },
  {
   "cell_type": "code",
   "execution_count": 3,
   "metadata": {},
   "outputs": [],
   "source": [
    "import pandas as pd\n",
    "import numpy as np\n",
    "import re"
   ]
  },
  {
   "cell_type": "code",
   "execution_count": 4,
   "metadata": {},
   "outputs": [],
   "source": [
    "df = pd.read_csv('data/petition.csv', parse_dates=['start', 'end'])"
   ]
  },
  {
   "cell_type": "code",
   "execution_count": 5,
   "metadata": {},
   "outputs": [
    {
     "data": {
      "text/plain": [
       "(19866, 8)"
      ]
     },
     "execution_count": 5,
     "metadata": {},
     "output_type": "execute_result"
    }
   ],
   "source": [
    "# 관심사별로 텍스트 데이터를 학습시키기 위한 목적도 있지만 전체 텍스트를 돌렸을 때 빠르게 결과를 얻기 위해서 샘플링 하려는 의도도 있습니다.\n",
    "p = r'.*(P2P|은행|금융|주식|증권|공매도).*'\n",
    "finance = df[df['title'].str.match(p) |\n",
    "           df['content'].str.match(p, flags=re.MULTILINE)]\n",
    "finance.shape"
   ]
  },
  {
   "cell_type": "code",
   "execution_count": 6,
   "metadata": {},
   "outputs": [
    {
     "data": {
      "text/html": [
       "<div>\n",
       "<style scoped>\n",
       "    .dataframe tbody tr th:only-of-type {\n",
       "        vertical-align: middle;\n",
       "    }\n",
       "\n",
       "    .dataframe tbody tr th {\n",
       "        vertical-align: top;\n",
       "    }\n",
       "\n",
       "    .dataframe thead th {\n",
       "        text-align: right;\n",
       "    }\n",
       "</style>\n",
       "<table border=\"1\" class=\"dataframe\">\n",
       "  <thead>\n",
       "    <tr style=\"text-align: right;\">\n",
       "      <th></th>\n",
       "      <th>article_id</th>\n",
       "      <th>start</th>\n",
       "      <th>end</th>\n",
       "      <th>answered</th>\n",
       "      <th>votes</th>\n",
       "      <th>category</th>\n",
       "      <th>title</th>\n",
       "      <th>content</th>\n",
       "    </tr>\n",
       "  </thead>\n",
       "  <tbody>\n",
       "    <tr>\n",
       "      <th>7</th>\n",
       "      <td>28</td>\n",
       "      <td>2017-08-19</td>\n",
       "      <td>2017-08-26</td>\n",
       "      <td>0</td>\n",
       "      <td>2137</td>\n",
       "      <td>경제민주화</td>\n",
       "      <td>소액주주를 보호해주십시오</td>\n",
       "      <td>**  존경하옵는 문재인대통령님께\\n저는 중국원양자원이라는 KOSPI상장사의 소액 ...</td>\n",
       "    </tr>\n",
       "    <tr>\n",
       "      <th>11</th>\n",
       "      <td>32</td>\n",
       "      <td>2017-08-19</td>\n",
       "      <td>2017-09-03</td>\n",
       "      <td>0</td>\n",
       "      <td>30</td>\n",
       "      <td>경제민주화</td>\n",
       "      <td>소액주주 보호를 위해 조사요청 드립니다.</td>\n",
       "      <td>존경하는 대통령님께,\\n코스피 주식종목 중국 원양자원은 현재 계속되는 장** 대표이...</td>\n",
       "    </tr>\n",
       "    <tr>\n",
       "      <th>54</th>\n",
       "      <td>77</td>\n",
       "      <td>2017-08-20</td>\n",
       "      <td>2017-09-04</td>\n",
       "      <td>0</td>\n",
       "      <td>53</td>\n",
       "      <td>교통/건축/국토</td>\n",
       "      <td>안양시청, 안양지청, 재개발조합 적폐가 심해 수사가 안되고 있습니다. 안양시 지장물...</td>\n",
       "      <td>※지장물관련 국토부의 해석 : 기존 건축물의 철거 공사에 관한 사항의 범위는 전기,...</td>\n",
       "    </tr>\n",
       "    <tr>\n",
       "      <th>68</th>\n",
       "      <td>91</td>\n",
       "      <td>2017-08-20</td>\n",
       "      <td>2017-09-19</td>\n",
       "      <td>0</td>\n",
       "      <td>165</td>\n",
       "      <td>경제민주화</td>\n",
       "      <td>증권 자본시장개정안(상장폐지법 개정안)</td>\n",
       "      <td>존경하는 문제인 대통령님께\\n먼저 어렵고 힘든 국정운영을 이끄시느라 노고가 많으십니...</td>\n",
       "    </tr>\n",
       "    <tr>\n",
       "      <th>100</th>\n",
       "      <td>124</td>\n",
       "      <td>2017-08-20</td>\n",
       "      <td>2017-08-27</td>\n",
       "      <td>0</td>\n",
       "      <td>1</td>\n",
       "      <td>기타</td>\n",
       "      <td>포스코 관련</td>\n",
       "      <td>안녕하십니까?\\n최근 뉴스에 주목을 못 받는 뉴스가 있습니다. 아시아경제tv의 포스...</td>\n",
       "    </tr>\n",
       "  </tbody>\n",
       "</table>\n",
       "</div>"
      ],
      "text/plain": [
       "     article_id      start        end  answered  votes  category  \\\n",
       "7            28 2017-08-19 2017-08-26         0   2137     경제민주화   \n",
       "11           32 2017-08-19 2017-09-03         0     30     경제민주화   \n",
       "54           77 2017-08-20 2017-09-04         0     53  교통/건축/국토   \n",
       "68           91 2017-08-20 2017-09-19         0    165     경제민주화   \n",
       "100         124 2017-08-20 2017-08-27         0      1        기타   \n",
       "\n",
       "                                                 title  \\\n",
       "7                                        소액주주를 보호해주십시오   \n",
       "11                              소액주주 보호를 위해 조사요청 드립니다.   \n",
       "54   안양시청, 안양지청, 재개발조합 적폐가 심해 수사가 안되고 있습니다. 안양시 지장물...   \n",
       "68                               증권 자본시장개정안(상장폐지법 개정안)   \n",
       "100                                             포스코 관련   \n",
       "\n",
       "                                               content  \n",
       "7    **  존경하옵는 문재인대통령님께\\n저는 중국원양자원이라는 KOSPI상장사의 소액 ...  \n",
       "11   존경하는 대통령님께,\\n코스피 주식종목 중국 원양자원은 현재 계속되는 장** 대표이...  \n",
       "54   ※지장물관련 국토부의 해석 : 기존 건축물의 철거 공사에 관한 사항의 범위는 전기,...  \n",
       "68   존경하는 문제인 대통령님께\\n먼저 어렵고 힘든 국정운영을 이끄시느라 노고가 많으십니...  \n",
       "100  안녕하십니까?\\n최근 뉴스에 주목을 못 받는 뉴스가 있습니다. 아시아경제tv의 포스...  "
      ]
     },
     "execution_count": 6,
     "metadata": {},
     "output_type": "execute_result"
    }
   ],
   "source": [
    "finance.head()"
   ]
  },
  {
   "cell_type": "code",
   "execution_count": 7,
   "metadata": {},
   "outputs": [
    {
     "data": {
      "text/html": [
       "<div>\n",
       "<style scoped>\n",
       "    .dataframe tbody tr th:only-of-type {\n",
       "        vertical-align: middle;\n",
       "    }\n",
       "\n",
       "    .dataframe tbody tr th {\n",
       "        vertical-align: top;\n",
       "    }\n",
       "\n",
       "    .dataframe thead th {\n",
       "        text-align: right;\n",
       "    }\n",
       "</style>\n",
       "<table border=\"1\" class=\"dataframe\">\n",
       "  <thead>\n",
       "    <tr style=\"text-align: right;\">\n",
       "      <th></th>\n",
       "      <th>article_id</th>\n",
       "      <th>start</th>\n",
       "      <th>end</th>\n",
       "      <th>answered</th>\n",
       "      <th>votes</th>\n",
       "      <th>category</th>\n",
       "      <th>title</th>\n",
       "      <th>content</th>\n",
       "    </tr>\n",
       "  </thead>\n",
       "  <tbody>\n",
       "    <tr>\n",
       "      <th>377603</th>\n",
       "      <td>491848</td>\n",
       "      <td>2019-01-09</td>\n",
       "      <td>2019-02-08</td>\n",
       "      <td>0</td>\n",
       "      <td>5</td>\n",
       "      <td>기타</td>\n",
       "      <td>은행 업무시간 연장 및 추가 인원 고용</td>\n",
       "      <td>은행 업무 시간을 오후 9시까지 연장해 직장인들도 편리하게 이용할 수 있도록 제안합...</td>\n",
       "    </tr>\n",
       "    <tr>\n",
       "      <th>377634</th>\n",
       "      <td>491885</td>\n",
       "      <td>2019-01-09</td>\n",
       "      <td>2019-02-08</td>\n",
       "      <td>0</td>\n",
       "      <td>5</td>\n",
       "      <td>정치개혁</td>\n",
       "      <td>국민연금폐지 하지않으면삶이피폐해진다</td>\n",
       "      <td>35년이 지나면 월급의 30%정도를. 국민연금보험료로 내야합니다.\\n계산해보세요\\n...</td>\n",
       "    </tr>\n",
       "    <tr>\n",
       "      <th>377662</th>\n",
       "      <td>491918</td>\n",
       "      <td>2019-01-09</td>\n",
       "      <td>2019-02-08</td>\n",
       "      <td>0</td>\n",
       "      <td>23</td>\n",
       "      <td>경제민주화</td>\n",
       "      <td>문정부 공매도폐지하라</td>\n",
       "      <td>개미들 돈털어가는 역적 문재인 공매도세력\\n모두들 한국 증시 살리기위해 공매도 폐지...</td>\n",
       "    </tr>\n",
       "    <tr>\n",
       "      <th>377674</th>\n",
       "      <td>491935</td>\n",
       "      <td>2019-01-09</td>\n",
       "      <td>2019-02-08</td>\n",
       "      <td>0</td>\n",
       "      <td>11</td>\n",
       "      <td>육아/교육</td>\n",
       "      <td>베트남 유학생들에게 10개월째 학비를 돌려주지 않는 서울 ‘**대학’</td>\n",
       "      <td>안녕하세요. 여기는 베트남의 수도 하노이입니다. 최근의 이곳 상황은 베트남 축구대표...</td>\n",
       "    </tr>\n",
       "    <tr>\n",
       "      <th>377722</th>\n",
       "      <td>491998</td>\n",
       "      <td>2019-01-09</td>\n",
       "      <td>2019-02-08</td>\n",
       "      <td>0</td>\n",
       "      <td>1</td>\n",
       "      <td>기타</td>\n",
       "      <td>진실은  뉴스가 아니라  마음과 행동입니다</td>\n",
       "      <td>부동산\\n새해 복 많이 받으세요\\n정말 고생 하시고 수고 많으세요\\n전 부동산 개발...</td>\n",
       "    </tr>\n",
       "  </tbody>\n",
       "</table>\n",
       "</div>"
      ],
      "text/plain": [
       "        article_id      start        end  answered  votes category  \\\n",
       "377603      491848 2019-01-09 2019-02-08         0      5       기타   \n",
       "377634      491885 2019-01-09 2019-02-08         0      5     정치개혁   \n",
       "377662      491918 2019-01-09 2019-02-08         0     23    경제민주화   \n",
       "377674      491935 2019-01-09 2019-02-08         0     11    육아/교육   \n",
       "377722      491998 2019-01-09 2019-02-08         0      1       기타   \n",
       "\n",
       "                                         title  \\\n",
       "377603                   은행 업무시간 연장 및 추가 인원 고용   \n",
       "377634                     국민연금폐지 하지않으면삶이피폐해진다   \n",
       "377662                             문정부 공매도폐지하라   \n",
       "377674  베트남 유학생들에게 10개월째 학비를 돌려주지 않는 서울 ‘**대학’   \n",
       "377722                 진실은  뉴스가 아니라  마음과 행동입니다   \n",
       "\n",
       "                                                  content  \n",
       "377603  은행 업무 시간을 오후 9시까지 연장해 직장인들도 편리하게 이용할 수 있도록 제안합...  \n",
       "377634  35년이 지나면 월급의 30%정도를. 국민연금보험료로 내야합니다.\\n계산해보세요\\n...  \n",
       "377662  개미들 돈털어가는 역적 문재인 공매도세력\\n모두들 한국 증시 살리기위해 공매도 폐지...  \n",
       "377674  안녕하세요. 여기는 베트남의 수도 하노이입니다. 최근의 이곳 상황은 베트남 축구대표...  \n",
       "377722  부동산\\n새해 복 많이 받으세요\\n정말 고생 하시고 수고 많으세요\\n전 부동산 개발...  "
      ]
     },
     "execution_count": 7,
     "metadata": {},
     "output_type": "execute_result"
    }
   ],
   "source": [
    "finance.tail()"
   ]
  },
  {
   "cell_type": "markdown",
   "metadata": {},
   "source": [
    "# 일부 텍스트 데이터 보기\n",
    "* 어떤 데이터에 대한 전처리가 필요할지 봅니다."
   ]
  },
  {
   "cell_type": "code",
   "execution_count": 8,
   "metadata": {},
   "outputs": [],
   "source": [
    "# 샘플로 보고 싶은 인덱스의 번호를 넣어주세요.\n",
    "sample_index = 192190"
   ]
  },
  {
   "cell_type": "code",
   "execution_count": 9,
   "metadata": {},
   "outputs": [
    {
     "data": {
      "text/plain": [
       "'2009년도 탄생 적폐제도(?) 신속(조기)집행 폐지를 간절히 청원합니다.'"
      ]
     },
     "execution_count": 9,
     "metadata": {},
     "output_type": "execute_result"
    }
   ],
   "source": [
    "sample_title = finance['title'][sample_index]\n",
    "sample_title"
   ]
  },
  {
   "cell_type": "code",
   "execution_count": 10,
   "metadata": {},
   "outputs": [
    {
     "data": {
      "text/plain": [
       "\"**  존경하옵는 문재인대통령님께\\\\n저는 중국원양자원이라는 KOSPI상장사의 소액 주주입니다. 중국원양자원(이하 중원)은 이번 재회계감사에서 의견거절이라는 감사인 판단이 내려져 꿈에도 생각못한 상장폐지를 목전에 두고 있습니다.\\\\n상장폐지가되면 국내에 상장하여 천문학적인 금액을 취득하여 회사의 규모를 키우고 개인자산을 불린 후 자신의 지분도  다 팔아서 이득을 챙긴 중국인 장화리 사장은 정리매매때 휴지조각의 비용으로 자신의 지분을 다시 사들이고 대주주로서의 지위를 다시 획득하여 온전히 자신의 기업으로 만들수 있습니다.\\\\n결국 한국 국민들의 피땀어린 투자금으로 중국인 사장의 부를 채워주지만 이에 대해 한국의 금융당국 및 상장과 운영의 주체인 거래소는 누구도 이에대한 책임없이 이를 그냥 덮어버리고만 말것입니다.\\\\n이로인해 약 2만 5천의 국내소액주주는 피눈물을 흘리며 고통속에 살게 될 것입니다.\\\\n주식투자는 개인의 판단하에 이루어지는 것이나 투자에 대한 개인의 책임을 묻기전에 그 과정은 규정과 상식에 맞게 공정하고 정의로워야 할 것입니다. 이는 존경하는 문대통령님의 말씀이라 가슴깊이 새기고 있었으나 현재 우리나라의 금융 시스템, 특히 거래소와 회계감사는 그렇지 못한 것 같습니다.\\\\n이렇게 생각하게된 이유는 이번 회계감사의 주된 의견거절의 이유 때문입니다\\\\n이번 신한회계법인의 추측적이고 터무니없는 의견거절로 전재산이 한순간에 물거품으로 사라질 위기에 처한 본인을 비롯한 많은 사람들이 죽음이라는 극단적인 선택앞에 내몰려져 억울함과 원통함에 피눈물을 흘리고 있습니다. .\\\\n기업의 사업성이나 계속 존속여부를 점검하는 감사자인 회계법인은 오직 밝혀진 사실과 그에 따른 증거만을 근거로 공정하게 기업의 존속여부에 대한 의견을 내야하고 유추할 경우에도 당연히 관련 법이나 판례에 근거하여야 합니다.\\\\n그러나 신한회계법인은 법또는 제도권으로 확정되지 않은 추정사항을 의견거절의'결정적 이유'로 명시하였는바 이는 감사자의 '의견거절'에 따른 참혹한 결과로 볼때 25000명의 국민들과 그\""
      ]
     },
     "execution_count": 10,
     "metadata": {},
     "output_type": "execute_result"
    }
   ],
   "source": [
    "sample_content = finance['content'][7]\n",
    "sample_content[:1000]"
   ]
  },
  {
   "cell_type": "code",
   "execution_count": 11,
   "metadata": {},
   "outputs": [
    {
     "data": {
      "text/plain": [
       "'2009년도 탄생 적폐제도(?) 신속(조기)집행 폐지를 간절히 청원합니다.\\\\n국민의 일원으로써, 일선지자체의 공무원으로써,\\\\n2009년도부터 실시되어 현재까지 시행중인 적폐 제도, 신속(조기,균형) 집행의 폐지를 청원합니다.\\\\n2008년 리먼사태로 세계 금융위기가 발생하였다는 이유로 2009년도에 시작된 조기집행...\\\\n(지극히 제 개인적인 생각입니다다만. 지나고 나서 돌아보니, 솔직히 그것 때문에 시작했다고 생각이 들지 않습니다.)\\\\n어찌되었든, 현재까지 10년동안 그 제도같지 않은 제도가 이름만 달리하면서(조기→균형→신속) 시행되고 있는 것으로 보아,\\\\n우리 국가는 매년을 급박한 경제위기속에서 신속(조기)집행으로 버티어 내고 있는 중인 것으로 보입니다.\\\\n또한, 해당 제도 시행의 근거로 제시되는 「상반기 어려운 고용상황 및 거시경제 불안요인 등에 대응」에 따르면, 우리 국가는 금방이라도 부도가 날 지경인 것 같습니다.\\\\n현재 우리 대한민국은 정말 그러한 상황인가 되묻고 싶습니다.\\\\n지난 10년동안 각종 폐해와 문제점이 지적되고 있음에도, 도대체 어떤 이유로 현재까지 시행이 되고 있는지 이유를 찾을 수가 없습니다.\\\\n각종 언론매체 등을 통해 제기된 부작용을 나열하면,\\\\n“단기간 과다한 공사발주로 부실 설계 우려”,\\\\n“지자체 이자 수입 감소와 재정 압박 초래”,\\\\n“발주 후 설계변경이나 중복 집행 등의 예산낭비”,\\\\n“공사가 단기간에 집중되면서 공사현장에서 인건비나 자재비가 급등”,\\\\n“획일적 조기집행의 추진은 지방재정 안정성을 저해”,\\\\n“중앙정부의 예산조기집행은 지방자치와 지방재정 건전성 문제에 위배”\\\\n등의 문제점이 전문가, 지자체장, 지방의원, 공무원 등에 의해 지속적으로 제기되어 왔습니다.\\\\n또한 행정안전부에서도 이미 그 폐해, 문제점을 인지하고 있습니다.\\\\n-2018년도 행정안전부 지방재정 신속집행 추진계획 3페이지\\\\n○자치단체, 지방의회, 공무원 단체 등에서 신속집행에 대한 문제점* 등을 들어 지속적으로 개선 요구\\\\n①이자수입 대폭 감소\\\\n②상반'"
      ]
     },
     "execution_count": 11,
     "metadata": {},
     "output_type": "execute_result"
    }
   ],
   "source": [
    "sample_content = finance['content'][sample_index]\n",
    "sample_content[:1000]"
   ]
  },
  {
   "cell_type": "markdown",
   "metadata": {},
   "source": [
    "# 텍스트 데이터 전처리 \n",
    "기계가 텍스트를 이해할 수 있도록 텍스트를 정제해 줍니다.\n",
    "\n",
    "신호와 소음을 구분합니다. 아웃라이어데이터로 인한 오버피팅을 방지합니다.\n",
    "\n",
    "\n",
    "## 텍스트 데이터 전처리 이해하기\n",
    "\n",
    "(출처 : [트위터 한국어 형태소 분석기](https://github.com/twitter/twitter-korean-text))\n",
    "\n",
    "**정규화 normalization (입니닼ㅋㅋ -> 입니다 ㅋㅋ, 샤릉해 -> 사랑해)**\n",
    "\n",
    "* 한국어를 처리하는 예시입니닼ㅋㅋㅋㅋㅋ -> 한국어를 처리하는 예시입니다 ㅋㅋ\n",
    "\n",
    "**토큰화 tokenization**\n",
    "\n",
    "* 한국어를 처리하는 예시입니다 ㅋㅋ -> 한국어Noun, 를Josa, 처리Noun, 하는Verb, 예시Noun, 입Adjective, 니다Eomi ㅋㅋKoreanParticle\n",
    "\n",
    "**어근화 stemming (입니다 -> 이다)**\n",
    "\n",
    "* 한국어를 처리하는 예시입니다 ㅋㅋ -> 한국어Noun, 를Josa, 처리Noun, 하다Verb, 예시Noun, 이다Adjective, ㅋㅋKoreanParticle\n",
    "\n",
    "\n",
    "**어구 추출 phrase extraction** \n",
    "\n",
    "* 한국어를 처리하는 예시입니다 ㅋㅋ -> 한국어, 처리, 예시, 처리하는 예시\n",
    "\n",
    "Introductory Presentation: [Google Slides](https://docs.google.com/presentation/d/10CZj8ry03oCk_Jqw879HFELzOLjJZ0EOi4KJbtRSIeU/)\n",
    "\n",
    "# 불용어 Stopwords\n",
    "\n",
    "* word2vec으로 금융관련 키워드로 가장 빈번하게 등장하는 단어를 추출해 보니 다음과 같은 단어들이 나왔습니다다.\n",
    "* 한국어 불용어는 정리된 라이브러리는 없는 편입니다. 상황에 따라 필요한 단어가 있을 수도 있고 불용어가 문맥에 따라 의미를 필요로 할때도 있기 때문입니다. \n",
    "\n",
    "['수', '있는', '있습니다', '그', '년', '합니다', '하는', '및', '제', '할', '하고', '더', '대한', '한', '그리고', '월', '저는', '없는', '것입니다', '등', '일', '많은', '이런', '것은', '왜', '같은', '없습니다', '위해', '한다']"
   ]
  },
  {
   "cell_type": "code",
   "execution_count": 12,
   "metadata": {},
   "outputs": [],
   "source": [
    "def preprocessing(text):\n",
    "    # 개행문자 제거\n",
    "    text = re.sub('\\\\\\\\n', ' ', text)\n",
    "    # 특수문자 제거\n",
    "    # 특수문자나 이모티콘 등은 때로는 의미를 갖기도 하지만 여기에서는 제거했습니다.\n",
    "    # text = re.sub('[?.,;:|\\)*~`’!^\\-_+<>@\\#$%&-=#}※]', '', text)\n",
    "    # 한글, 영문, 숫자만 남기고 모두 제거하도록 합니다.\n",
    "    # text = re.sub('[^가-힣ㄱ-ㅎㅏ-ㅣa-zA-Z0-9]', ' ', text)\n",
    "    # 한글, 영문만 남기고 모두 제거하도록 합니다.\n",
    "    text = re.sub('[^가-힣ㄱ-ㅎㅏ-ㅣa-zA-Z]', ' ', text)\n",
    "    # 공백이 여러개 있는 것을 하나로 줄여준다.\n",
    "    text = re.sub(' +', ' ', text)\n",
    "    return text"
   ]
  },
  {
   "cell_type": "code",
   "execution_count": 13,
   "metadata": {},
   "outputs": [],
   "source": [
    "def remove_stopwords(text):\n",
    "    stops = ['수', '있는', '있습니다', '그', '년도', '에', '합니다', \n",
    "             '하는', '및', '제', '할', '하고', '더', '대한', '한', \n",
    "             '그리고', '월', '저는', '없는', '것입니다', '등', '일', \n",
    "             '많은', '이런', '것은', '왜', '같은', \n",
    "             '없습니다', '위해', '한다']\n",
    "    # Stopwords 불용어 제거\n",
    "    meaningful_words = [w for w in text if not w in stops]\n",
    "    return ''.join(meaningful_words)"
   ]
  },
  {
   "cell_type": "code",
   "execution_count": 14,
   "metadata": {},
   "outputs": [
    {
     "data": {
      "text/plain": [
       "' 년도 탄생 적폐제도 신속 조기 집행 폐지를 간절히 청원합니다 국민의 일원으로써 일선지자체의 공무원으로써 년도부터 실시되어 현재까지 시행중인 적폐 제도 신속 조기 균형 집행의 폐지를 청원합니다 년 리먼사태로 세계 금융위기가 발생하였다는 이유로 년도에 시작된 조기집행 지극히 제 개인적인 생각입니다다만 지나고 나서 돌아보니 솔직히 그것 때문에 시작했다고 생각이 들지 않습니다 어찌되었든 현재까지 년동안 그 제도같지 않은 제도가 이름만 달리하면서 조기 균형 신속 시행되고 있는 것으로 보아 우리 국가는 매년을 급박한 경제위기속에서 신속 조기 집행으로 버티어 내고 있는 중인 것으로 보입니다 또한 해당 제도 시행의 근거로 제시되는 상반기 어려운 고용상황 및 거시경제 불안요인 등에 대응 에 따르면 우리 국가는 금방이라도 부도가 날 지경인 것 같습니다 현재 우리 대한민국은 정말 그러한 상황인가 되묻고 싶습니다 지난 년동안 각종 폐해와 문제점이 지적되고 있음에도 도대체 어떤 이유로 현재까지 시행이 되고 있는지 이유를 찾을 수가 없습니다 각종 언론매체 등을 통해 제기된 부작용을 나열하면 단기간 과다한 공사발주로 부실 설계 우려 지자체 이자 수입 감소와 재정 압박 초래 발주 후 설계변경이나 중복 집행 등의 예산낭비 공사가 단기간에 집중되면서 공사현장에서 인건비나 자재비가 급등 획일적 조기집행의 추진은 지방재정 안정성을 저해 중앙정부의 예산조기집행은 지방자치와 지방재정 건전성 문제에 위배 등의 문제점이 전문가 지자체장 지방의원 공무원 등에 의해 지속적으로 제기되어 왔습니다 또한 행정안전부에서도 이미 그 폐해 문제점을 인지하고 있습니다 년도 행정안전부 지방재정 신속집행 추진계획 페이지 자치단체 지방의회 공무원 단체 등에서 신속집행에 대한 문제점 등을 들어 지속적으로 개선 요구 이자수입 대폭 감소 상반기 공사집중으로 부실시공 우려 공사자재 품귀현상 발생 지역경제 활성화 파급효과 미미 무리한 실적경쟁으로 막대한 행정력 낭비 제도의 성과 분석과 평가 없이 매년 반복 시행 등 국회 년 국정감'"
      ]
     },
     "execution_count": 14,
     "metadata": {},
     "output_type": "execute_result"
    }
   ],
   "source": [
    "# 샘플을 하나 가져와 전처리를 적용해 봅니다.\n",
    "sample_content = preprocessing(sample_content)\n",
    "sample_content[:1000]"
   ]
  },
  {
   "cell_type": "code",
   "execution_count": 15,
   "metadata": {},
   "outputs": [
    {
     "data": {
      "text/plain": [
       "' 년도 탄생 적폐도 신속 조기 집행 폐지를 간절히 청원합니다 국민의 원으로써 선지자체의 공무원으로써 년도부터 실시되어 현재까지 시행중인 적폐 도 신속 조기 균형 집행의 폐지를 청원합니다 년 리먼사태로 세계 금융위기가 발생하였다는 이유로 년도 시작된 조기집행 지극히  개인적인 생각입니다다만 지나고 나서 돌아보니 솔직히 것 때문 시작했다고 생각이 들지 않습니다 어찌되었든 현재까지 년동안  도같지 않은 도가 이름만 달리하면서 조기 균형 신속 시행되고 있는 것으로 보아 우리 국가는 매년을 급박 경위기속서 신속 조기 집행으로 버티어 내고 있는 중인 것으로 보입니다 또 해당 도 시행의 근거로 시되는 상반기 어려운 고용상황  거시경 불안요인  대응  따르면 우리 국가는 금방이라도 부도가 날 지경인 것 같습니다 현재 우리 대민국은 정말 러 상황인가 되묻고 싶습니다 지난 년동안 각종 폐해와 문점이 지적되고 있음도 도대체 어떤 이유로 현재까지 시행이 되고 있는지 이유를 찾을 가 없습니다 각종 언론매체 을 통해 기된 부작용을 나열하면 단기간 과다 공사발주로 부실 설계 우려 지자체 이자 입 감소와 재정 압박 초래 발주 후 설계변경이나 중복 집행 의 예산낭비 공사가 단기간 집중되면서 공사현장서 인건비나 자재비가 급 획적 조기집행의 추진은 지방재정 안정성을 저해 중앙정부의 예산조기집행은 지방자치와 지방재정 건전성 문 위배 의 문점이 전문가 지자체장 지방의원 공무원  의해 지속적으로 기되어 왔습니다 또 행정안전부서도 이미  폐해 문점을 인지하고 있습니다 년도 행정안전부 지방재정 신속집행 추진계획 페이지 자치단체 지방의회 공무원 단체 서 신속집행 대 문점 을 들어 지속적으로 개선 요구 이자입 대폭 감소 상반기 공사집중으로 부실시공 우려 공사자재 품귀현상 발생 지역경 활성화 파급효과 미미 무리 실적경쟁으로 막대 행정력 낭비 도의 성과 분석과 평가 없이 매년 반복 시행  국회 년 국정감사 년 국정감사 년 예결위 부별심사 시도 도개선 필요성 을 지적 선 지자체서 근무하는 공무원으로써 위 문점 '"
      ]
     },
     "execution_count": 15,
     "metadata": {},
     "output_type": "execute_result"
    }
   ],
   "source": [
    "# 샘플텍스트를 가져와 불용어를 제거해 봅니다. \n",
    "stop_content = remove_stopwords(sample_content)\n",
    "stop_content[:1000]"
   ]
  },
  {
   "cell_type": "code",
   "execution_count": 16,
   "metadata": {},
   "outputs": [
    {
     "name": "stdout",
     "output_type": "stream",
     "text": [
      "CPU times: user 5 s, sys: 184 ms, total: 5.18 s\n",
      "Wall time: 5.8 s\n"
     ]
    },
    {
     "name": "stderr",
     "output_type": "stream",
     "text": [
      "/Users/corazzon/codes/jupyter/lib/python3.6/site-packages/ipykernel_launcher.py:1: SettingWithCopyWarning: \n",
      "A value is trying to be set on a copy of a slice from a DataFrame.\n",
      "Try using .loc[row_indexer,col_indexer] = value instead\n",
      "\n",
      "See the caveats in the documentation: http://pandas.pydata.org/pandas-docs/stable/indexing.html#indexing-view-versus-copy\n",
      "  \"\"\"Entry point for launching an IPython kernel.\n"
     ]
    },
    {
     "data": {
      "text/plain": [
       "(19866,)"
      ]
     },
     "execution_count": 16,
     "metadata": {},
     "output_type": "execute_result"
    }
   ],
   "source": [
    "# %time을 찍어주면 해당 코드를 실행할 때 걸리는 시간을 출력해 줍니다\n",
    "%time finance['content_preprocessing'] = finance['content'].apply(preprocessing)\n",
    "sentences = finance['content_preprocessing']\n",
    "sentences.shape"
   ]
  },
  {
   "cell_type": "code",
   "execution_count": 17,
   "metadata": {},
   "outputs": [
    {
     "data": {
      "text/plain": [
       "7       존경하옵는 문재인대통령님께 저는 중국원양자원이라는 KOSPI상장사의 소액 주주입니...\n",
       "11     존경하는 대통령님께 코스피 주식종목 중국 원양자원은 현재 계속되는 장 대표이사의 기...\n",
       "54      지장물관련 국토부의 해석 기존 건축물의 철거 공사에 관한 사항의 범위는 전기 가스...\n",
       "68     존경하는 문제인 대통령님께 먼저 어렵고 힘든 국정운영을 이끄시느라 노고가 많으십니다...\n",
       "100    안녕하십니까 최근 뉴스에 주목을 못 받는 뉴스가 있습니다 아시아경제tv의 포스코 비...\n",
       "Name: content_preprocessing, dtype: object"
      ]
     },
     "execution_count": 17,
     "metadata": {},
     "output_type": "execute_result"
    }
   ],
   "source": [
    "sentences.head()"
   ]
  },
  {
   "cell_type": "markdown",
   "metadata": {},
   "source": [
    "# BOW(bag of words)\n",
    "* 가장 간단하지만 효과적이라 널리쓰이는 방법\n",
    "* 장, 문단, 문장, 서식과 같은 입력 텍스트의 구조를 제외하고 각 단어가 이 말뭉치에 얼마나 많이 나타나는지만 헤아립니다.\n",
    "* 구조와 상관없이 단어의 출현횟수만 세기 때문에 텍스트를 담는 가방(bag)으로 생각할 수 있습니다.\n",
    "* BOW는 단어의 순서가 완전히 무시 된다는 단점이 있다. 예를 들어 의미가 완전히 반대인 두 문장이 있다고 합니다.\n",
    "    - `it's bad, not good at all.` \n",
    "    - `it's good, not bad at all.` \n",
    "* 위 두 문장은 의미가 전혀 반대지만 완전히 동일하게 반환됩니다.\n",
    "* 이를 보완하기 위해 n-gram을 사용하는 데 BOW는 하나의 토큰을 사용하지만 n-gram은 n개의 토큰을 사용할 수 있도록 합니다.\n",
    "* min_df는 문서에 특정 단어가 최소 몇 번 이상 문서에 등장하는 단어를 가방에 담겠다는 의미입니다.\n",
    "\n",
    "* [Bag-of-words model - Wikipedia](https://en.wikipedia.org/wiki/Bag-of-words_model)"
   ]
  },
  {
   "cell_type": "markdown",
   "metadata": {},
   "source": [
    "# 사이킷런의 CountVectorizer를 통해 벡터화\n",
    "* 미리 전처리 해둔 텍스트 데이터로 벡터화 합니다.\n",
    "* 모두 소문자로 변환시키기 때문에 영어의 경우 good, Good, gOod이 모두 같은 특성이 됩니다.\n",
    "* 의미없는 특성을 많이 생성하기 때문에 적어도 두 번이상 문서에 나타난 토큰만을 사용한다."
   ]
  },
  {
   "cell_type": "code",
   "execution_count": 18,
   "metadata": {},
   "outputs": [
    {
     "data": {
      "text/plain": [
       "CountVectorizer(analyzer='word', binary=False, decode_error='strict',\n",
       "        dtype=<class 'numpy.int64'>, encoding='utf-8', input='content',\n",
       "        lowercase=True, max_df=1.0, max_features=1000, min_df=2,\n",
       "        ngram_range=(1, 3), preprocessor=None, stop_words=None,\n",
       "        strip_accents=None, token_pattern='(?u)\\\\b\\\\w\\\\w+\\\\b',\n",
       "        tokenizer=None, vocabulary=None)"
      ]
     },
     "execution_count": 18,
     "metadata": {},
     "output_type": "execute_result"
    }
   ],
   "source": [
    "from sklearn.feature_extraction.text import CountVectorizer\n",
    "\n",
    "vectorizer = CountVectorizer(analyzer = 'word', # 캐릭터 단위로 벡터화 할 수도 있습니다.\n",
    "                             tokenizer = None, # 토크나이저를 따로 지정해 줄 수도 있습니다.\n",
    "                             preprocessor = None, # 전처리 도구\n",
    "                             stop_words = None, # 불용어 nltk등의 도구를 사용할 수도 있습니다.\n",
    "                             min_df = 2, # 토큰이 나타날 최소 문서 개수로 오타나 자주 나오지 않는 특수한 전문용어 제거에 좋다. \n",
    "                             ngram_range=(1, 3), # BOW의 단위를 1~3개로 지정합니다.\n",
    "                             max_features = 1000 # 만들 피처의 수, 단어의 수가 된다.\n",
    "                            )\n",
    "vectorizer"
   ]
  },
  {
   "cell_type": "code",
   "execution_count": 19,
   "metadata": {},
   "outputs": [
    {
     "name": "stdout",
     "output_type": "stream",
     "text": [
      "CPU times: user 1min 23s, sys: 5.43 s, total: 1min 28s\n",
      "Wall time: 1min 35s\n"
     ]
    }
   ],
   "source": [
    "%%time \n",
    "feature_vector = vectorizer.fit_transform(finance['content_preprocessing'])\n",
    "feature_vector.shape"
   ]
  },
  {
   "cell_type": "code",
   "execution_count": 20,
   "metadata": {},
   "outputs": [
    {
     "name": "stdout",
     "output_type": "stream",
     "text": [
      "1000\n"
     ]
    },
    {
     "data": {
      "text/plain": [
       "['articleview',\n",
       " 'articleview html',\n",
       " 'articleview html idxno',\n",
       " 'co',\n",
       " 'co kr',\n",
       " 'co kr news',\n",
       " 'com',\n",
       " 'html',\n",
       " 'html idxno',\n",
       " 'http']"
      ]
     },
     "execution_count": 20,
     "metadata": {},
     "output_type": "execute_result"
    }
   ],
   "source": [
    "vocab = vectorizer.get_feature_names()\n",
    "print(len(vocab))\n",
    "vocab[:10]"
   ]
  },
  {
   "cell_type": "code",
   "execution_count": 21,
   "metadata": {},
   "outputs": [
    {
     "data": {
      "text/html": [
       "<div>\n",
       "<style scoped>\n",
       "    .dataframe tbody tr th:only-of-type {\n",
       "        vertical-align: middle;\n",
       "    }\n",
       "\n",
       "    .dataframe tbody tr th {\n",
       "        vertical-align: top;\n",
       "    }\n",
       "\n",
       "    .dataframe thead th {\n",
       "        text-align: right;\n",
       "    }\n",
       "</style>\n",
       "<table border=\"1\" class=\"dataframe\">\n",
       "  <thead>\n",
       "    <tr style=\"text-align: right;\">\n",
       "      <th></th>\n",
       "      <th>articleview</th>\n",
       "      <th>articleview html</th>\n",
       "      <th>articleview html idxno</th>\n",
       "      <th>co</th>\n",
       "      <th>co kr</th>\n",
       "      <th>co kr news</th>\n",
       "      <th>com</th>\n",
       "      <th>html</th>\n",
       "      <th>html idxno</th>\n",
       "      <th>http</th>\n",
       "      <th>...</th>\n",
       "      <th>회사는</th>\n",
       "      <th>회사를</th>\n",
       "      <th>회사에</th>\n",
       "      <th>회사의</th>\n",
       "      <th>회장</th>\n",
       "      <th>훨씬</th>\n",
       "      <th>희망을</th>\n",
       "      <th>힘든</th>\n",
       "      <th>힘들게</th>\n",
       "      <th>힘을</th>\n",
       "    </tr>\n",
       "  </thead>\n",
       "  <tbody>\n",
       "    <tr>\n",
       "      <th>0</th>\n",
       "      <td>911</td>\n",
       "      <td>842</td>\n",
       "      <td>840</td>\n",
       "      <td>1343</td>\n",
       "      <td>1309</td>\n",
       "      <td>826</td>\n",
       "      <td>1590</td>\n",
       "      <td>1218</td>\n",
       "      <td>840</td>\n",
       "      <td>2323</td>\n",
       "      <td>...</td>\n",
       "      <td>533</td>\n",
       "      <td>600</td>\n",
       "      <td>546</td>\n",
       "      <td>779</td>\n",
       "      <td>453</td>\n",
       "      <td>534</td>\n",
       "      <td>583</td>\n",
       "      <td>745</td>\n",
       "      <td>722</td>\n",
       "      <td>475</td>\n",
       "    </tr>\n",
       "  </tbody>\n",
       "</table>\n",
       "<p>1 rows × 1000 columns</p>\n",
       "</div>"
      ],
      "text/plain": [
       "   articleview  articleview html  articleview html idxno    co  co kr  \\\n",
       "0          911               842                     840  1343   1309   \n",
       "\n",
       "   co kr news   com  html  html idxno  http ...   회사는  회사를  회사에  회사의   회장  \\\n",
       "0         826  1590  1218         840  2323 ...   533  600  546  779  453   \n",
       "\n",
       "    훨씬  희망을   힘든  힘들게   힘을  \n",
       "0  534  583  745  722  475  \n",
       "\n",
       "[1 rows x 1000 columns]"
      ]
     },
     "execution_count": 21,
     "metadata": {},
     "output_type": "execute_result"
    }
   ],
   "source": [
    "# 벡터화 된 피처를 확인해 봄\n",
    "# Bag of words 에 몇 개의 단어가 들어있는지 확인\n",
    "dist = np.sum(feature_vector, axis=0)\n",
    "    \n",
    "# for tag, count in zip(vocab, dist):\n",
    "#     print(count, tag)\n",
    "    \n",
    "pd.DataFrame(dist, columns=vocab)"
   ]
  },
  {
   "cell_type": "code",
   "execution_count": 22,
   "metadata": {},
   "outputs": [
    {
     "data": {
      "text/html": [
       "<div>\n",
       "<style scoped>\n",
       "    .dataframe tbody tr th:only-of-type {\n",
       "        vertical-align: middle;\n",
       "    }\n",
       "\n",
       "    .dataframe tbody tr th {\n",
       "        vertical-align: top;\n",
       "    }\n",
       "\n",
       "    .dataframe thead th {\n",
       "        text-align: right;\n",
       "    }\n",
       "</style>\n",
       "<table border=\"1\" class=\"dataframe\">\n",
       "  <thead>\n",
       "    <tr style=\"text-align: right;\">\n",
       "      <th></th>\n",
       "      <th>articleview</th>\n",
       "      <th>articleview html</th>\n",
       "      <th>articleview html idxno</th>\n",
       "      <th>co</th>\n",
       "      <th>co kr</th>\n",
       "      <th>co kr news</th>\n",
       "      <th>com</th>\n",
       "      <th>html</th>\n",
       "      <th>html idxno</th>\n",
       "      <th>http</th>\n",
       "      <th>...</th>\n",
       "      <th>회사는</th>\n",
       "      <th>회사를</th>\n",
       "      <th>회사에</th>\n",
       "      <th>회사의</th>\n",
       "      <th>회장</th>\n",
       "      <th>훨씬</th>\n",
       "      <th>희망을</th>\n",
       "      <th>힘든</th>\n",
       "      <th>힘들게</th>\n",
       "      <th>힘을</th>\n",
       "    </tr>\n",
       "  </thead>\n",
       "  <tbody>\n",
       "    <tr>\n",
       "      <th>0</th>\n",
       "      <td>0</td>\n",
       "      <td>0</td>\n",
       "      <td>0</td>\n",
       "      <td>0</td>\n",
       "      <td>0</td>\n",
       "      <td>0</td>\n",
       "      <td>0</td>\n",
       "      <td>0</td>\n",
       "      <td>0</td>\n",
       "      <td>0</td>\n",
       "      <td>...</td>\n",
       "      <td>1</td>\n",
       "      <td>0</td>\n",
       "      <td>1</td>\n",
       "      <td>7</td>\n",
       "      <td>0</td>\n",
       "      <td>1</td>\n",
       "      <td>1</td>\n",
       "      <td>0</td>\n",
       "      <td>0</td>\n",
       "      <td>0</td>\n",
       "    </tr>\n",
       "    <tr>\n",
       "      <th>1</th>\n",
       "      <td>0</td>\n",
       "      <td>0</td>\n",
       "      <td>0</td>\n",
       "      <td>0</td>\n",
       "      <td>0</td>\n",
       "      <td>0</td>\n",
       "      <td>0</td>\n",
       "      <td>0</td>\n",
       "      <td>0</td>\n",
       "      <td>0</td>\n",
       "      <td>...</td>\n",
       "      <td>1</td>\n",
       "      <td>0</td>\n",
       "      <td>0</td>\n",
       "      <td>0</td>\n",
       "      <td>0</td>\n",
       "      <td>0</td>\n",
       "      <td>0</td>\n",
       "      <td>0</td>\n",
       "      <td>0</td>\n",
       "      <td>0</td>\n",
       "    </tr>\n",
       "    <tr>\n",
       "      <th>2</th>\n",
       "      <td>0</td>\n",
       "      <td>0</td>\n",
       "      <td>0</td>\n",
       "      <td>0</td>\n",
       "      <td>0</td>\n",
       "      <td>0</td>\n",
       "      <td>0</td>\n",
       "      <td>0</td>\n",
       "      <td>0</td>\n",
       "      <td>0</td>\n",
       "      <td>...</td>\n",
       "      <td>0</td>\n",
       "      <td>0</td>\n",
       "      <td>0</td>\n",
       "      <td>0</td>\n",
       "      <td>0</td>\n",
       "      <td>0</td>\n",
       "      <td>0</td>\n",
       "      <td>0</td>\n",
       "      <td>0</td>\n",
       "      <td>0</td>\n",
       "    </tr>\n",
       "    <tr>\n",
       "      <th>3</th>\n",
       "      <td>0</td>\n",
       "      <td>0</td>\n",
       "      <td>0</td>\n",
       "      <td>0</td>\n",
       "      <td>0</td>\n",
       "      <td>0</td>\n",
       "      <td>0</td>\n",
       "      <td>0</td>\n",
       "      <td>0</td>\n",
       "      <td>0</td>\n",
       "      <td>...</td>\n",
       "      <td>1</td>\n",
       "      <td>1</td>\n",
       "      <td>0</td>\n",
       "      <td>1</td>\n",
       "      <td>0</td>\n",
       "      <td>0</td>\n",
       "      <td>0</td>\n",
       "      <td>1</td>\n",
       "      <td>1</td>\n",
       "      <td>0</td>\n",
       "    </tr>\n",
       "    <tr>\n",
       "      <th>4</th>\n",
       "      <td>0</td>\n",
       "      <td>0</td>\n",
       "      <td>0</td>\n",
       "      <td>0</td>\n",
       "      <td>0</td>\n",
       "      <td>0</td>\n",
       "      <td>0</td>\n",
       "      <td>0</td>\n",
       "      <td>0</td>\n",
       "      <td>0</td>\n",
       "      <td>...</td>\n",
       "      <td>0</td>\n",
       "      <td>0</td>\n",
       "      <td>0</td>\n",
       "      <td>0</td>\n",
       "      <td>0</td>\n",
       "      <td>0</td>\n",
       "      <td>0</td>\n",
       "      <td>0</td>\n",
       "      <td>0</td>\n",
       "      <td>0</td>\n",
       "    </tr>\n",
       "  </tbody>\n",
       "</table>\n",
       "<p>5 rows × 1000 columns</p>\n",
       "</div>"
      ],
      "text/plain": [
       "   articleview  articleview html  articleview html idxno  co  co kr  \\\n",
       "0            0                 0                       0   0      0   \n",
       "1            0                 0                       0   0      0   \n",
       "2            0                 0                       0   0      0   \n",
       "3            0                 0                       0   0      0   \n",
       "4            0                 0                       0   0      0   \n",
       "\n",
       "   co kr news  com  html  html idxno  http ...  회사는  회사를  회사에  회사의  회장  훨씬  \\\n",
       "0           0    0     0           0     0 ...    1    0    1    7   0   1   \n",
       "1           0    0     0           0     0 ...    1    0    0    0   0   0   \n",
       "2           0    0     0           0     0 ...    0    0    0    0   0   0   \n",
       "3           0    0     0           0     0 ...    1    1    0    1   0   0   \n",
       "4           0    0     0           0     0 ...    0    0    0    0   0   0   \n",
       "\n",
       "   희망을  힘든  힘들게  힘을  \n",
       "0    1   0    0   0  \n",
       "1    0   0    0   0  \n",
       "2    0   0    0   0  \n",
       "3    0   1    1   0  \n",
       "4    0   0    0   0  \n",
       "\n",
       "[5 rows x 1000 columns]"
      ]
     },
     "execution_count": 22,
     "metadata": {},
     "output_type": "execute_result"
    }
   ],
   "source": [
    "# 각 row에서 전체 단어가방에 있는 어휘에서 등장하는 단어에 대한 one-hot-vector\n",
    "pd.DataFrame(feature_vector[:10].toarray(), columns=vocab).head()"
   ]
  },
  {
   "cell_type": "markdown",
   "metadata": {},
   "source": [
    "## TF-IDF\n",
    "TF(단어 빈도, term frequency)는 특정한 단어가 문서 내에 얼마나 자주 등장하는지를 나타내는 값으로, 이 값이 높을수록 문서에서 중요하다고 생각할 수 있다. 하지만 단어 자체가 문서군 내에서 자주 사용되는 경우, 이것은 그 단어가 흔하게 등장한다는 것을 의미한다. 이것을 DF(문서 빈도, document frequency)라고 하며, 이 값의 역수를 IDF(역문서 빈도, inverse document frequency)라고 한다. TF-IDF는 TF와 IDF를 곱한 값이다.\n",
    "\n",
    "IDF 값은 문서군의 성격에 따라 결정된다. 예를 들어 '원자'라는 낱말은 일반적인 문서들 사이에서는 잘 나오지 않기 때문에 IDF 값이 높아지고 문서의 핵심어가 될 수 있지만, 원자에 대한 문서를 모아놓은 문서군의 경우 이 낱말은 상투어가 되어 각 문서들을 세분화하여 구분할 수 있는 다른 낱말들이 높은 가중치를 얻게 된다.\n",
    "\n",
    "역문서 빈도(IDF)는 한 단어가 문서 집합 전체에서 얼마나 공통적으로 나타나는지를 나타내는 값이다. 전체 문서의 수를 해당 단어를 포함한 문서의 수로 나눈 뒤 로그를 취하여 얻을 수 있다.\n",
    "\n",
    "* 출처 : [TF-IDF - 위키백과, 우리 모두의 백과사전](https://ko.wikipedia.org/wiki/TF-IDF)\n",
    "\n",
    "\\begin{equation*}\n",
    "\\text{tfidf}(w, d) = \\text{tf} \\times (\\log\\big(\\frac{N + 1}{N_w + 1}\\big) + 1)\n",
    "\\end{equation*}\n",
    "\n",
    "\n",
    "* 싸이킷런 공식문서 : [4.2. Feature extraction — scikit-learn 0.19.1 documentation](http://scikit-learn.org/stable/modules/feature_extraction.html)"
   ]
  },
  {
   "cell_type": "markdown",
   "metadata": {},
   "source": [
    "### TfidfTransformer()\n",
    "* norm='l2' 각 문서의 피처 벡터를 어떻게 벡터 정규화 할지 정한다. \n",
    "    - L2 : 벡터의 각 원소의 제곱의 합이 1이 되도록 만드는 것이고 기본 값\n",
    "    - L1 : 벡터의 각 원소의 절댓값의 합이 1이 되도록 크기를 조절\n",
    "* smooth_idf=False\n",
    "    - 피처를 만들 때 0으로 나오는 항목에 대해 작은 값을 더해서(스무딩을 해서) 피처를 만들지 아니면 그냥 생성할지를 결정\n",
    "* sublinear_tf=False\n",
    "* use_idf=True\n",
    "    - TF-IDF를 사용해 피처를 만들 것인지 아니면 단어 빈도 자체를 사용할 것인지 여부"
   ]
  },
  {
   "cell_type": "code",
   "execution_count": 23,
   "metadata": {},
   "outputs": [
    {
     "data": {
      "text/plain": [
       "TfidfTransformer(norm='l2', smooth_idf=False, sublinear_tf=False,\n",
       "         use_idf=True)"
      ]
     },
     "execution_count": 23,
     "metadata": {},
     "output_type": "execute_result"
    }
   ],
   "source": [
    "from sklearn.feature_extraction.text import TfidfTransformer\n",
    "transformer = TfidfTransformer(smooth_idf=False)\n",
    "transformer"
   ]
  },
  {
   "cell_type": "code",
   "execution_count": 24,
   "metadata": {},
   "outputs": [
    {
     "name": "stdout",
     "output_type": "stream",
     "text": [
      "CPU times: user 64.7 ms, sys: 10.3 ms, total: 74.9 ms\n",
      "Wall time: 81.3 ms\n"
     ]
    }
   ],
   "source": [
    "%%time \n",
    "feature_tfidf = transformer.fit_transform(feature_vector)\n",
    "feature_tfidf.shape"
   ]
  },
  {
   "cell_type": "code",
   "execution_count": 25,
   "metadata": {},
   "outputs": [
    {
     "data": {
      "text/plain": [
       "<19866x1000 sparse matrix of type '<class 'numpy.float64'>'\n",
       "\twith 793346 stored elements in Compressed Sparse Row format>"
      ]
     },
     "execution_count": 25,
     "metadata": {},
     "output_type": "execute_result"
    }
   ],
   "source": [
    "feature_tfidf"
   ]
  },
  {
   "cell_type": "code",
   "execution_count": 26,
   "metadata": {},
   "outputs": [],
   "source": [
    "# 벡터화 된 피처를 확인해 봄\n",
    "# Bag of words 에 몇 개의 단어가 들어있는지 확인\n",
    "dist = np.sum(feature_tfidf, axis=0)\n",
    "# dist"
   ]
  },
  {
   "cell_type": "code",
   "execution_count": 27,
   "metadata": {},
   "outputs": [
    {
     "name": "stdout",
     "output_type": "stream",
     "text": [
      "[[ 28.25133835  24.48062374  24.46200973  48.6410175   45.37175652\n",
      "   23.65362873  66.48125832  39.15007425  24.46200973  85.7148902\n",
      "   49.55993244  15.8925277   50.87874021  33.46039348  28.6208557\n",
      "   63.34165561  26.63436174  21.96322786  15.8925277   15.8925277\n",
      "   15.8925277   32.00842977  24.47629288  66.05255763  24.48062374\n",
      "   24.48062374  73.06249862  15.8925277   15.8925277   45.11823027\n",
      "   58.43597241  48.88632238  45.73337966  51.52756551  42.00703648\n",
      "   56.90786699 327.27824874  80.82873289  83.88015437 101.02670017\n",
      "   70.43909223  59.16280143 167.158621    58.93574168 180.51646846\n",
      "   84.273947    53.02112701  61.31384946 115.72632403  75.97648948\n",
      "   64.53471847  99.50978056  69.96205528  68.29710503  74.36613553\n",
      "   64.51163757  43.87750042 183.17474304 289.35398754 177.87279349\n",
      "  101.16037039 137.356022    82.69247959  69.16164264  35.73502726\n",
      "  102.16501737  66.62571621  84.97033447 167.96177972  63.71275771\n",
      "  112.49312996  64.24099421  69.28209009 115.24128696  40.14252077\n",
      "  102.59062659  46.8055979  166.19394167 278.39915772 221.73330886\n",
      "  270.52722318  38.07138959  60.46267024 230.68137708  37.22956264\n",
      "   40.37604145  50.87283122 329.90664964  44.68111818  50.84411425\n",
      "   53.05833515  37.67569548  42.87576712 177.76499224  46.26355041\n",
      "  190.14904586  69.51810315  37.93983751 189.30809779  97.90994606\n",
      "   71.11821335  55.61200187  53.58567097 198.93817979  35.88239443\n",
      "   40.93934617  45.69040524  43.5141389  554.4758621   89.59827283\n",
      "   99.926416    92.22298168 222.17363354 103.40757985  82.75099821\n",
      "   78.71143845 121.85728644  56.58998937 149.09963181  48.78730995\n",
      "   41.78678799  65.95655186  66.17129953  31.89613684 128.80093966\n",
      "  123.76396951  51.05196961  81.57876467  87.24310757 128.65306853\n",
      "  216.46860521 158.59760545  84.37010082 125.72187832  94.88976853\n",
      "  131.57103652 181.80982363  78.48656835 261.90378296  69.84938246\n",
      "   70.8646368   87.73203809 191.48289433 263.3867694  179.49497694\n",
      "   61.53089696  90.34981534  89.24125826  72.45341072  48.49248953\n",
      "   73.759327    68.1443041  206.84374173  80.23085743 104.88797179\n",
      "   54.7512539   50.74866006  58.21498332  76.41215708 189.24813268\n",
      "   54.55962861 178.35584319  54.34103092  79.40475511  36.0514399\n",
      "  158.26386162 245.34949189 136.91392657 167.65658115  51.89482665\n",
      "   42.77937425 404.7473432   45.38907263  50.17439019  55.09627018\n",
      "   91.83341716  44.39424206 127.32301351 110.49371578  80.12364964\n",
      "   54.42263434 149.63714855  82.74152082  93.07761836  78.25388092\n",
      "   33.75002401  86.10577031  48.3280636   63.70111933  90.61645841\n",
      "   55.80935916  90.69285304  78.56324202  86.89737581  53.10364455\n",
      "   50.69858675  49.75681752  76.91374222 110.01172527  72.81945186\n",
      "  144.74243948 127.45646994  85.65918402  79.29711998  72.622301\n",
      "   47.6859548   51.59969931  59.97182711  49.2345194  139.04824571\n",
      "   83.28290381  55.38728395  40.61459794  45.22660548  59.91932214\n",
      "   45.67041482 354.90981221  96.23155392  76.56437262 112.56615737\n",
      "   59.91356179  67.37273221  61.92173886  52.87983314  63.97708126\n",
      "   96.02695264  60.70397853 135.40547575  55.07967714  60.24718013\n",
      "   37.24260637 240.00247039  52.47500588 258.9794173   48.80059455\n",
      "   55.53843546  41.34874153  47.54260383  33.65773223  34.90932336\n",
      "   52.23949594 125.61948678 102.89200413 220.99897422  42.22212099\n",
      "   83.7721886   89.34454408  55.79101636  54.85245261  45.49042791\n",
      "   80.60619334 193.69166646 200.79360958 101.20955853 105.61376434\n",
      "  202.92587797  41.60534551  64.29559142  99.70210629 436.08098642\n",
      "  282.55144451  65.60430436  53.59074692 120.39649155  61.6700902\n",
      "  227.48646128  92.06650559  67.10461593  48.44574414 101.4648918\n",
      "  102.85511121 142.35137634  59.82968566  72.33337283  53.08629666\n",
      "   92.39066442  60.6531686  288.63989474 172.03895003  44.88005558\n",
      "   80.20350136 146.09693236 166.41692073  90.59943022 164.65103096\n",
      "   61.83797623  46.69882442 145.56517287 131.56538448 155.37555392\n",
      "   70.87798961 193.06274991  53.5926746   83.4933177   49.34427761\n",
      "   48.35214143  77.07752962  51.13156426  69.84873027  86.05124432\n",
      "   55.82303331  62.39545096  37.06019088 108.07012742  87.83073657\n",
      "   55.65228821 134.12615531  81.61658571  46.30427674  99.93914163\n",
      "  249.5354749   50.39911731  80.19492263 164.29140015 291.54518249\n",
      "  115.38418704 116.34687257  61.70121135  88.65218796  60.48064663\n",
      "   75.6002001   85.82081041 192.10295742  82.76148827 238.33893003\n",
      "   74.79371683  55.13252027 130.66026303 329.01873413 268.55947093\n",
      "   94.46578844  89.31645988  83.80226546 137.46935756  59.41562787\n",
      "   48.20661586  49.26453881  42.57025405  71.69856823  91.89791005\n",
      "   60.49533576  77.86780639 114.75886168  62.6063413   54.55080119\n",
      "  231.64016127  59.59947476 295.18252975  61.53100222  79.0165684\n",
      "   95.80966438  50.29384297  91.11285493 162.11197939 108.67221495\n",
      "   93.16177007  32.57820242 173.75322291  46.57776764 101.54055369\n",
      "   51.03882405  63.19975167 247.54063169  54.93138269  85.7143384\n",
      "  181.06155161  95.24712752  87.04334158  51.74313917 173.45594681\n",
      "  101.43791765  43.24262948  54.33014483  72.14638417  59.61719602\n",
      "   55.84405788  41.63054856  76.74162735  90.2046194  349.09759148\n",
      "  175.45138606  75.54194888 134.93207456 154.51773458  40.68608925\n",
      "  160.96205501  98.92494489 119.73113275  59.85515657  57.17289014\n",
      "   73.93035142 103.2463883  108.47437406  86.97774185  39.61821672\n",
      "   41.96987214  51.88187772  62.83952149  39.76289809  42.92113065\n",
      "   33.22509762  73.11669052  31.77453301  53.80754346  82.26847079\n",
      "   58.49568853  42.37019199  36.69960211 181.25590776  71.58004751\n",
      "   81.34385892 100.60885457 151.19584357  54.91814573  63.11397352\n",
      "   38.44944711  53.23345838  62.53440833  63.65146884  45.86247738\n",
      "   49.84070127  69.6883021   43.3535462  185.93778249  39.99253066\n",
      "  355.04389799  48.6191704   98.99357013  12.35608107 195.42173454\n",
      "  102.45046158  57.72980753  57.18681749  61.70470219  43.95813259\n",
      "   55.3997559   74.36764891  52.05514276 106.27591226 115.74939499\n",
      "   87.2754364   55.47024055  46.02203523  82.45149498  48.2943764\n",
      "   60.78063997  16.41608044 104.20260302  45.90736858  43.98752711\n",
      "   52.30828075  84.23825982  58.49422078  45.53797025  61.56377816\n",
      "   77.3054983   58.73958007 106.47163574  89.15013178  50.58092683\n",
      "   87.46632776 111.51891736  43.5304062  169.07384251 105.42254738\n",
      "   58.6651305  176.19884848  67.91459366  55.07323361  74.58901077\n",
      "   49.38851066  67.04217751  58.54132722  64.43819961 113.66937281\n",
      "   11.77531375  56.33249787 108.49566792  68.11818147 163.10043235\n",
      "   51.09301158  70.57242227  50.57531947  60.45031198  36.65033918\n",
      "   52.68347719  60.82379826  56.58944802  69.82081243  76.69124697\n",
      "  115.31403797  81.31671042  84.66945709  74.23745797  87.40221983\n",
      "   55.80043773 312.69299501  58.15268563  44.80182487  73.59728218\n",
      "  123.84399368 101.94207605  73.41490476  98.91626088  70.74412369\n",
      "  110.41991581  61.53300329  80.54673811 148.32777387  66.64501004\n",
      "  147.45913603  44.77749759  69.40613408  41.83259184  86.05218829\n",
      "   73.02750371  83.28123221  33.85675008  81.50904165 124.42699449\n",
      "   38.14910948  50.40126316  47.96081689  81.07532286  89.38154154\n",
      "   80.73996539  98.73509819  58.82780265  76.24504296  68.46354454\n",
      "   57.96976007  95.0000834   78.16564422  86.80970532  58.38328992\n",
      "   70.4127376   43.65256806  54.39151136  73.35416872  51.66469719\n",
      "   59.52794203  67.81739743 110.64476958  53.11224774  46.56488746\n",
      "   48.17475369  70.67675795 151.18182985  72.92885995 237.11656502\n",
      "   60.28181334 123.42095387 211.52558339  89.65386096 115.54063527\n",
      "  116.17444231 181.55273973  39.63935668  57.66519441  67.34793868\n",
      "  111.94572861  94.94537935  65.3719298   61.03316891 117.94727514\n",
      "   78.41834314  94.91728517 230.373246    53.21060754  42.46615644\n",
      "  125.38028127  56.45085086  75.22584577 120.69940454  54.78384801\n",
      "   68.80443877  96.50005777  54.41554359  58.02764982 225.97992034\n",
      "  171.7868282   58.15172702  44.317839    69.86188667  53.4066924\n",
      "  176.76993424  73.33871733  58.85358795  80.87679982 135.98065979\n",
      "   68.14945134  38.82964805 180.96185497  67.21239113  51.87984563\n",
      "   91.42011649 114.16611902 105.17735282  62.46398172 132.44715359\n",
      "  245.6606102  109.27771032  60.85348434  54.19420454  48.80256236\n",
      "   92.3480152   39.81093016  41.33632023 167.95532912 120.60090372\n",
      "   58.29761777 194.4279668  366.66322399  53.97744658 168.93770058\n",
      "  115.44192763  89.18405506  51.35356581 321.90711954 107.29836002\n",
      "   70.56984875  55.53928874  44.94556415  42.98205656  51.70704054\n",
      "   51.20992175 208.36639927  35.2638193  102.02583068  42.66807536\n",
      "   42.21820308  84.16899488  49.04438592  81.99442998  39.40504736\n",
      "   74.85678177 155.50788511  49.22744707  46.13447419 117.97010627\n",
      "  142.46175675  57.1288135   76.12832782  83.39824486  44.91588931\n",
      "   47.15827327 110.81904534 124.38411892 211.51988517  79.49336071\n",
      "  177.89917199  76.01482669  55.03741521  73.49471099  51.71582915\n",
      "   58.44890244  55.15841947  49.19564746  63.50019088  76.88687802\n",
      "  274.50858269 321.99465712 121.26464392  59.96298633 118.58029791\n",
      "  246.52695332 127.65318305 119.03659674  63.65782191  45.94574053\n",
      "   23.18839594  65.3698013   79.01244398 130.54794779  72.24464692\n",
      "   74.00035913 225.41662644 137.5758554   45.28450143  45.62751118\n",
      "   67.1755718   62.88879122 169.2592704  418.21572803 278.89963976\n",
      "  177.59118707  69.37923782 197.80075029 189.92596348  68.46505938\n",
      "  194.63478817  59.82262929  40.66615829 126.46211604  43.79384963\n",
      "   59.93444272  51.15119008  83.9541785   83.394898   107.97174277\n",
      "   49.58823127 114.90452218  88.20445262  79.5791156   46.69432573\n",
      "  187.2372206  108.012746    52.94558814  86.73777283 113.86540896\n",
      "   75.02218952  81.54524592 121.37304996 166.15709409  54.81135269\n",
      "  115.79016876  34.7738568   84.25027141 127.16076414  48.87631716\n",
      "   50.38009597 137.80501365 123.23418741  58.16570795 133.57814073\n",
      "   56.51134322  49.62169927  55.60111008 300.70667624  41.22036054\n",
      "  130.41483685 203.19822685  42.74203477 702.94075075 198.679724\n",
      "  102.89937894 332.83530805 168.81345749 135.42970976  71.26583272\n",
      "   42.94529735 201.01201772  77.21474604 799.61491558 118.95478868\n",
      "   97.48352396  80.21307909  79.61003657  62.6053135   74.34491735\n",
      "  106.93331956  79.0203797  111.00273252  51.2759455   51.70965418\n",
      "   71.94654872 115.34899537  48.53991352  50.99354916  51.14129715\n",
      "   62.42704312  60.36925842  52.17202285  43.62282808  77.17876642\n",
      "   40.35068475  36.9088937   54.30107298  53.31310883  75.41988115\n",
      "   43.09672457 102.34559166  79.95729604 432.47349255  82.38325154\n",
      "   50.6657085   58.20920357  53.88640851 117.86425021  50.97385783\n",
      "  150.734057    69.64904323  47.00371334  50.92120473  69.88747723\n",
      "   90.78281218  73.49877904  46.91674994 139.75400884  41.67393666\n",
      "   57.40485384 102.71325117  38.63881354  59.19054593  69.67428243\n",
      "   55.7075804   56.10469353  48.44380982  70.33060974  52.53470056\n",
      "   40.42559149 379.69237023  60.97860103 223.65198714 244.57088782\n",
      "  244.62550656  51.66447531  57.08068948 164.16808804  59.49477644\n",
      "  195.27744506  99.04749782  65.50693919 113.81688911  63.29346008\n",
      "  162.54013519  82.15511193  43.72487688  40.00377435 309.19914628\n",
      "  174.68241516  89.55447294 117.20625287 281.32519131  40.16135116\n",
      "   70.31746132  66.07094579  68.59266646  89.29460018  57.39404136\n",
      "   67.38322471 108.66612546 139.3696049   75.49027103  73.75151735\n",
      "   85.20468016  94.74476932 202.42644792 106.19708973  99.0255643\n",
      "   73.49199656 345.79043902 150.70367592 206.48200115  57.78318463\n",
      "   87.34336908  99.07916052  43.07491033 104.00296078  49.13146997\n",
      "   65.2292692   57.96285964  43.46796375  64.00277469  69.94655015\n",
      "   27.93617719 384.02917744  90.95298152  76.07681773  99.50766495\n",
      "   72.96776017  52.31584676 148.27314814  45.14825793  47.15461849\n",
      "   36.71514881  60.25192934  59.35039696 119.80923825 136.32209555\n",
      "   36.62059297  89.62482238  58.71130206 148.39432116  79.44348778\n",
      "  101.94725005  77.79058438  42.47266616  60.70023737  59.494907\n",
      "   57.90270661  64.45528499  59.44649886  79.83505473 115.08525433\n",
      "  114.3326141   69.37111403 152.31160536 145.87756078  42.8522736\n",
      "   52.19342763  58.87680904  78.57694009  92.24337296  45.86289756\n",
      "   59.81683127 105.97509756  51.3564463   71.43228422  54.75132831\n",
      "   63.87021194 200.29013944  48.26664223  90.76074457  53.22591037\n",
      "  117.41161608 124.11851091  63.41279712  84.04132966 150.31318373\n",
      "   51.50212814  51.01611898  72.40743661  80.30239663 144.99114269\n",
      "   74.33949356  43.09811682  55.06541762  70.57869494 198.38036742\n",
      "   52.26269311  62.52390414  47.12585723  95.43573244  97.35121099\n",
      "   87.98804587 465.45468284  55.17058994  96.51416672  55.90698073\n",
      "  111.14153157 464.67837676 164.29989324  70.93487671  91.54150415\n",
      "   40.99985842  37.34946537  90.34033962 103.68642508 181.09519343\n",
      "  123.70820742 193.817802    45.94375727 119.03940489  43.20493469\n",
      "  223.96285805  41.19708128 290.3633848  121.85070409  49.14658364\n",
      "   61.96970383 256.29918033 147.89394407  86.02720463  67.5647448\n",
      "  118.38762451 104.71824665 109.55698703  79.94432808 695.63732504\n",
      "   75.77469664  41.77308473 107.40135937 131.63851865 192.43639726\n",
      "  177.24560041  53.96472857  63.81388523 156.07874735  47.14606289\n",
      "   80.33800252  58.23888537  39.07413779 149.67267339  44.15328747\n",
      "   42.75669302  45.42069305  53.12770701 334.61132113  60.8797533\n",
      "   44.87431764  79.26405262  65.68536085  46.37100696  45.88315512\n",
      "   48.59360422  69.98601093   3.12451012 113.77089836  80.29537953\n",
      "   53.92356198  62.03071983  60.25762262  66.00347506  33.30038036\n",
      "   46.98588153  68.01748566  77.08297809  82.62476044  52.87401669]] articleview\n"
     ]
    },
    {
     "data": {
      "text/html": [
       "<div>\n",
       "<style scoped>\n",
       "    .dataframe tbody tr th:only-of-type {\n",
       "        vertical-align: middle;\n",
       "    }\n",
       "\n",
       "    .dataframe tbody tr th {\n",
       "        vertical-align: top;\n",
       "    }\n",
       "\n",
       "    .dataframe thead th {\n",
       "        text-align: right;\n",
       "    }\n",
       "</style>\n",
       "<table border=\"1\" class=\"dataframe\">\n",
       "  <thead>\n",
       "    <tr style=\"text-align: right;\">\n",
       "      <th></th>\n",
       "      <th>articleview</th>\n",
       "      <th>articleview html</th>\n",
       "      <th>articleview html idxno</th>\n",
       "      <th>co</th>\n",
       "      <th>co kr</th>\n",
       "      <th>co kr news</th>\n",
       "      <th>com</th>\n",
       "      <th>html</th>\n",
       "      <th>html idxno</th>\n",
       "      <th>http</th>\n",
       "      <th>...</th>\n",
       "      <th>회사는</th>\n",
       "      <th>회사를</th>\n",
       "      <th>회사에</th>\n",
       "      <th>회사의</th>\n",
       "      <th>회장</th>\n",
       "      <th>훨씬</th>\n",
       "      <th>희망을</th>\n",
       "      <th>힘든</th>\n",
       "      <th>힘들게</th>\n",
       "      <th>힘을</th>\n",
       "    </tr>\n",
       "  </thead>\n",
       "  <tbody>\n",
       "    <tr>\n",
       "      <th>0</th>\n",
       "      <td>28.251338</td>\n",
       "      <td>24.480624</td>\n",
       "      <td>24.46201</td>\n",
       "      <td>48.641017</td>\n",
       "      <td>45.371757</td>\n",
       "      <td>23.653629</td>\n",
       "      <td>66.481258</td>\n",
       "      <td>39.150074</td>\n",
       "      <td>24.46201</td>\n",
       "      <td>85.71489</td>\n",
       "      <td>...</td>\n",
       "      <td>53.923562</td>\n",
       "      <td>62.03072</td>\n",
       "      <td>60.257623</td>\n",
       "      <td>66.003475</td>\n",
       "      <td>33.30038</td>\n",
       "      <td>46.985882</td>\n",
       "      <td>68.017486</td>\n",
       "      <td>77.082978</td>\n",
       "      <td>82.62476</td>\n",
       "      <td>52.874017</td>\n",
       "    </tr>\n",
       "  </tbody>\n",
       "</table>\n",
       "<p>1 rows × 1000 columns</p>\n",
       "</div>"
      ],
      "text/plain": [
       "   articleview  articleview html  articleview html idxno         co  \\\n",
       "0    28.251338         24.480624                24.46201  48.641017   \n",
       "\n",
       "       co kr  co kr news        com       html  html idxno      http  \\\n",
       "0  45.371757   23.653629  66.481258  39.150074    24.46201  85.71489   \n",
       "\n",
       "     ...            회사는       회사를        회사에        회사의        회장         훨씬  \\\n",
       "0    ...      53.923562  62.03072  60.257623  66.003475  33.30038  46.985882   \n",
       "\n",
       "         희망을         힘든       힘들게         힘을  \n",
       "0  68.017486  77.082978  82.62476  52.874017  \n",
       "\n",
       "[1 rows x 1000 columns]"
      ]
     },
     "execution_count": 27,
     "metadata": {},
     "output_type": "execute_result"
    }
   ],
   "source": [
    "# 단어와 함께 볼 수 있도록    \n",
    "for tag, count in zip(vocab, dist):\n",
    "    print(count, tag)\n",
    "    \n",
    "pd.DataFrame(dist, columns=vocab)"
   ]
  },
  {
   "cell_type": "code",
   "execution_count": 28,
   "metadata": {},
   "outputs": [
    {
     "data": {
      "text/html": [
       "<div>\n",
       "<style scoped>\n",
       "    .dataframe tbody tr th:only-of-type {\n",
       "        vertical-align: middle;\n",
       "    }\n",
       "\n",
       "    .dataframe tbody tr th {\n",
       "        vertical-align: top;\n",
       "    }\n",
       "\n",
       "    .dataframe thead th {\n",
       "        text-align: right;\n",
       "    }\n",
       "</style>\n",
       "<table border=\"1\" class=\"dataframe\">\n",
       "  <thead>\n",
       "    <tr style=\"text-align: right;\">\n",
       "      <th></th>\n",
       "      <th>articleview</th>\n",
       "      <th>articleview html</th>\n",
       "      <th>articleview html idxno</th>\n",
       "      <th>co</th>\n",
       "      <th>co kr</th>\n",
       "      <th>co kr news</th>\n",
       "      <th>com</th>\n",
       "      <th>html</th>\n",
       "      <th>html idxno</th>\n",
       "      <th>http</th>\n",
       "      <th>...</th>\n",
       "      <th>회사는</th>\n",
       "      <th>회사를</th>\n",
       "      <th>회사에</th>\n",
       "      <th>회사의</th>\n",
       "      <th>회장</th>\n",
       "      <th>훨씬</th>\n",
       "      <th>희망을</th>\n",
       "      <th>힘든</th>\n",
       "      <th>힘들게</th>\n",
       "      <th>힘을</th>\n",
       "    </tr>\n",
       "  </thead>\n",
       "  <tbody>\n",
       "    <tr>\n",
       "      <th>0</th>\n",
       "      <td>0.0</td>\n",
       "      <td>0.0</td>\n",
       "      <td>0.0</td>\n",
       "      <td>0.0</td>\n",
       "      <td>0.0</td>\n",
       "      <td>0.0</td>\n",
       "      <td>0.0</td>\n",
       "      <td>0.0</td>\n",
       "      <td>0.0</td>\n",
       "      <td>0.0</td>\n",
       "      <td>...</td>\n",
       "      <td>0.042665</td>\n",
       "      <td>0.000000</td>\n",
       "      <td>0.041555</td>\n",
       "      <td>0.273172</td>\n",
       "      <td>0.0</td>\n",
       "      <td>0.040804</td>\n",
       "      <td>0.039747</td>\n",
       "      <td>0.000000</td>\n",
       "      <td>0.000000</td>\n",
       "      <td>0.0</td>\n",
       "    </tr>\n",
       "    <tr>\n",
       "      <th>1</th>\n",
       "      <td>0.0</td>\n",
       "      <td>0.0</td>\n",
       "      <td>0.0</td>\n",
       "      <td>0.0</td>\n",
       "      <td>0.0</td>\n",
       "      <td>0.0</td>\n",
       "      <td>0.0</td>\n",
       "      <td>0.0</td>\n",
       "      <td>0.0</td>\n",
       "      <td>0.0</td>\n",
       "      <td>...</td>\n",
       "      <td>0.181909</td>\n",
       "      <td>0.000000</td>\n",
       "      <td>0.000000</td>\n",
       "      <td>0.000000</td>\n",
       "      <td>0.0</td>\n",
       "      <td>0.000000</td>\n",
       "      <td>0.000000</td>\n",
       "      <td>0.000000</td>\n",
       "      <td>0.000000</td>\n",
       "      <td>0.0</td>\n",
       "    </tr>\n",
       "    <tr>\n",
       "      <th>2</th>\n",
       "      <td>0.0</td>\n",
       "      <td>0.0</td>\n",
       "      <td>0.0</td>\n",
       "      <td>0.0</td>\n",
       "      <td>0.0</td>\n",
       "      <td>0.0</td>\n",
       "      <td>0.0</td>\n",
       "      <td>0.0</td>\n",
       "      <td>0.0</td>\n",
       "      <td>0.0</td>\n",
       "      <td>...</td>\n",
       "      <td>0.000000</td>\n",
       "      <td>0.000000</td>\n",
       "      <td>0.000000</td>\n",
       "      <td>0.000000</td>\n",
       "      <td>0.0</td>\n",
       "      <td>0.000000</td>\n",
       "      <td>0.000000</td>\n",
       "      <td>0.000000</td>\n",
       "      <td>0.000000</td>\n",
       "      <td>0.0</td>\n",
       "    </tr>\n",
       "    <tr>\n",
       "      <th>3</th>\n",
       "      <td>0.0</td>\n",
       "      <td>0.0</td>\n",
       "      <td>0.0</td>\n",
       "      <td>0.0</td>\n",
       "      <td>0.0</td>\n",
       "      <td>0.0</td>\n",
       "      <td>0.0</td>\n",
       "      <td>0.0</td>\n",
       "      <td>0.0</td>\n",
       "      <td>0.0</td>\n",
       "      <td>...</td>\n",
       "      <td>0.075922</td>\n",
       "      <td>0.072577</td>\n",
       "      <td>0.000000</td>\n",
       "      <td>0.069444</td>\n",
       "      <td>0.0</td>\n",
       "      <td>0.000000</td>\n",
       "      <td>0.000000</td>\n",
       "      <td>0.066433</td>\n",
       "      <td>0.068521</td>\n",
       "      <td>0.0</td>\n",
       "    </tr>\n",
       "    <tr>\n",
       "      <th>4</th>\n",
       "      <td>0.0</td>\n",
       "      <td>0.0</td>\n",
       "      <td>0.0</td>\n",
       "      <td>0.0</td>\n",
       "      <td>0.0</td>\n",
       "      <td>0.0</td>\n",
       "      <td>0.0</td>\n",
       "      <td>0.0</td>\n",
       "      <td>0.0</td>\n",
       "      <td>0.0</td>\n",
       "      <td>...</td>\n",
       "      <td>0.000000</td>\n",
       "      <td>0.000000</td>\n",
       "      <td>0.000000</td>\n",
       "      <td>0.000000</td>\n",
       "      <td>0.0</td>\n",
       "      <td>0.000000</td>\n",
       "      <td>0.000000</td>\n",
       "      <td>0.000000</td>\n",
       "      <td>0.000000</td>\n",
       "      <td>0.0</td>\n",
       "    </tr>\n",
       "  </tbody>\n",
       "</table>\n",
       "<p>5 rows × 1000 columns</p>\n",
       "</div>"
      ],
      "text/plain": [
       "   articleview  articleview html  articleview html idxno   co  co kr  \\\n",
       "0          0.0               0.0                     0.0  0.0    0.0   \n",
       "1          0.0               0.0                     0.0  0.0    0.0   \n",
       "2          0.0               0.0                     0.0  0.0    0.0   \n",
       "3          0.0               0.0                     0.0  0.0    0.0   \n",
       "4          0.0               0.0                     0.0  0.0    0.0   \n",
       "\n",
       "   co kr news  com  html  html idxno  http ...        회사는       회사를       회사에  \\\n",
       "0         0.0  0.0   0.0         0.0   0.0 ...   0.042665  0.000000  0.041555   \n",
       "1         0.0  0.0   0.0         0.0   0.0 ...   0.181909  0.000000  0.000000   \n",
       "2         0.0  0.0   0.0         0.0   0.0 ...   0.000000  0.000000  0.000000   \n",
       "3         0.0  0.0   0.0         0.0   0.0 ...   0.075922  0.072577  0.000000   \n",
       "4         0.0  0.0   0.0         0.0   0.0 ...   0.000000  0.000000  0.000000   \n",
       "\n",
       "        회사의   회장        훨씬       희망을        힘든       힘들게   힘을  \n",
       "0  0.273172  0.0  0.040804  0.039747  0.000000  0.000000  0.0  \n",
       "1  0.000000  0.0  0.000000  0.000000  0.000000  0.000000  0.0  \n",
       "2  0.000000  0.0  0.000000  0.000000  0.000000  0.000000  0.0  \n",
       "3  0.069444  0.0  0.000000  0.000000  0.066433  0.068521  0.0  \n",
       "4  0.000000  0.0  0.000000  0.000000  0.000000  0.000000  0.0  \n",
       "\n",
       "[5 rows x 1000 columns]"
      ]
     },
     "execution_count": 28,
     "metadata": {},
     "output_type": "execute_result"
    }
   ],
   "source": [
    "# 각 row에서 전체 단어가방에 있는 어휘에서 등장하는 단어에 대한 one-hot-vector에 TF-IDF 가중치 반영\n",
    "tfidf_df = pd.DataFrame(feature_tfidf[:10].toarray(), columns=vocab)\n",
    "tfidf_df.head() "
   ]
  },
  {
   "cell_type": "code",
   "execution_count": 29,
   "metadata": {},
   "outputs": [
    {
     "data": {
      "text/plain": [
       "0    0.000000\n",
       "1    0.000000\n",
       "2    0.000000\n",
       "3    0.066433\n",
       "4    0.000000\n",
       "5    0.000000\n",
       "6    0.000000\n",
       "7    0.000000\n",
       "8    0.000000\n",
       "9    0.000000\n",
       "Name: 힘든, dtype: float64"
      ]
     },
     "execution_count": 29,
     "metadata": {},
     "output_type": "execute_result"
    }
   ],
   "source": [
    "# 특정 단어의 가중치\n",
    "tfidf_df['힘든']"
   ]
  },
  {
   "cell_type": "code",
   "execution_count": 38,
   "metadata": {},
   "outputs": [
    {
     "data": {
      "text/plain": [
       "한국의       0.040369\n",
       "한다        0.000000\n",
       "한다고       0.061589\n",
       "한다는       0.000000\n",
       "한다면       0.000000\n",
       "한번        0.000000\n",
       "할수        0.000000\n",
       "함께        0.032310\n",
       "합니까       0.000000\n",
       "합니다       0.037015\n",
       "항상        0.000000\n",
       "해결        0.000000\n",
       "해당        0.000000\n",
       "해도        0.000000\n",
       "해서        0.000000\n",
       "해야        0.000000\n",
       "해야 합니다    0.000000\n",
       "해외        0.000000\n",
       "해주세요      0.000000\n",
       "했고        0.000000\n",
       "했는데       0.000000\n",
       "했다        0.000000\n",
       "했던        0.040079\n",
       "했습니다      0.000000\n",
       "했지만       0.000000\n",
       "행위를       0.000000\n",
       "향후        0.000000\n",
       "현실입니다     0.000000\n",
       "현재        0.095100\n",
       "현재의       0.000000\n",
       "현행        0.000000\n",
       "혜택을       0.000000\n",
       "혹은        0.000000\n",
       "혼자        0.000000\n",
       "화폐        0.000000\n",
       "확인        0.000000\n",
       "활성화       0.000000\n",
       "황우석       0.000000\n",
       "회사        0.181455\n",
       "회사가       0.076660\n",
       "회사는       0.042665\n",
       "회사를       0.000000\n",
       "회사에       0.041555\n",
       "회사의       0.273172\n",
       "회장        0.000000\n",
       "훨씬        0.040804\n",
       "희망을       0.039747\n",
       "힘든        0.000000\n",
       "힘들게       0.000000\n",
       "힘을        0.000000\n",
       "Name: 0, dtype: float64"
      ]
     },
     "execution_count": 38,
     "metadata": {},
     "output_type": "execute_result"
    }
   ],
   "source": [
    "# 특정 row에서 가중치가 적용된 값을 본다.\n",
    "tfidf_df.iloc[0][-50:]"
   ]
  },
  {
   "cell_type": "code",
   "execution_count": null,
   "metadata": {},
   "outputs": [],
   "source": []
  }
 ],
 "metadata": {
  "kernelspec": {
   "display_name": "Python 3",
   "language": "python",
   "name": "python3"
  },
  "language_info": {
   "codemirror_mode": {
    "name": "ipython",
    "version": 3
   },
   "file_extension": ".py",
   "mimetype": "text/x-python",
   "name": "python",
   "nbconvert_exporter": "python",
   "pygments_lexer": "ipython3",
   "version": "3.6.1"
  },
  "toc": {
   "base_numbering": 1,
   "nav_menu": {},
   "number_sections": true,
   "sideBar": true,
   "skip_h1_title": false,
   "title_cell": "Table of Contents",
   "title_sidebar": "Contents",
   "toc_cell": false,
   "toc_position": {},
   "toc_section_display": true,
   "toc_window_display": false
  }
 },
 "nbformat": 4,
 "nbformat_minor": 2
}
