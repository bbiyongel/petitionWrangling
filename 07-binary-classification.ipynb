{
 "cells": [
  {
   "cell_type": "markdown",
   "metadata": {},
   "source": [
    "# 국민청원 데이터로 이진 분류하기"
   ]
  },
  {
   "cell_type": "markdown",
   "metadata": {},
   "source": [
    "* 예제로 응답여부를 0과 1로 예측합니다.\n",
    "* 응답여부 외에도 청원의 카테고리를 예측하는 분류를 해볼 수도 있을것 같아요. \n",
    "* 이 예제를 참고하여 응답여부외에 청원내용으로 평균 이상의 투표를 받을 것인지 여부를 예측해 보면 좋겠습니다."
   ]
  },
  {
   "cell_type": "code",
   "execution_count": 1,
   "metadata": {},
   "outputs": [
    {
     "name": "stdout",
     "output_type": "stream",
     "text": [
      "0.21.0\n",
      "1.14.0\n"
     ]
    }
   ],
   "source": [
    "import pandas as pd\n",
    "import numpy as np\n",
    "import re\n",
    "print(pd.__version__)\n",
    "print(np.__version__)"
   ]
  },
  {
   "cell_type": "markdown",
   "metadata": {},
   "source": [
    "# 데이터 로드하기"
   ]
  },
  {
   "cell_type": "code",
   "execution_count": 2,
   "metadata": {},
   "outputs": [
    {
     "data": {
      "text/plain": [
       "(377756, 8)"
      ]
     },
     "execution_count": 2,
     "metadata": {},
     "output_type": "execute_result"
    }
   ],
   "source": [
    "# 크롤링해 온 국민청원 데이터를 판다스를 통해 읽어옵니다.\n",
    "petitions = pd.read_csv('data/petition.csv', parse_dates=['start', 'end'])\n",
    "# 데이터의 크기가 어느정도인지 봅니다.\n",
    "petitions.shape"
   ]
  },
  {
   "cell_type": "code",
   "execution_count": 3,
   "metadata": {},
   "outputs": [
    {
     "data": {
      "text/html": [
       "<div>\n",
       "<style scoped>\n",
       "    .dataframe tbody tr th:only-of-type {\n",
       "        vertical-align: middle;\n",
       "    }\n",
       "\n",
       "    .dataframe tbody tr th {\n",
       "        vertical-align: top;\n",
       "    }\n",
       "\n",
       "    .dataframe thead th {\n",
       "        text-align: right;\n",
       "    }\n",
       "</style>\n",
       "<table border=\"1\" class=\"dataframe\">\n",
       "  <thead>\n",
       "    <tr style=\"text-align: right;\">\n",
       "      <th></th>\n",
       "      <th>article_id</th>\n",
       "      <th>answered</th>\n",
       "      <th>votes</th>\n",
       "    </tr>\n",
       "  </thead>\n",
       "  <tbody>\n",
       "    <tr>\n",
       "      <th>count</th>\n",
       "      <td>377756.000000</td>\n",
       "      <td>377756.000000</td>\n",
       "      <td>3.777560e+05</td>\n",
       "    </tr>\n",
       "    <tr>\n",
       "      <th>mean</th>\n",
       "      <td>239703.455924</td>\n",
       "      <td>0.000077</td>\n",
       "      <td>1.514069e+02</td>\n",
       "    </tr>\n",
       "    <tr>\n",
       "      <th>std</th>\n",
       "      <td>146382.863480</td>\n",
       "      <td>0.008761</td>\n",
       "      <td>4.842551e+03</td>\n",
       "    </tr>\n",
       "    <tr>\n",
       "      <th>min</th>\n",
       "      <td>21.000000</td>\n",
       "      <td>0.000000</td>\n",
       "      <td>0.000000e+00</td>\n",
       "    </tr>\n",
       "    <tr>\n",
       "      <th>25%</th>\n",
       "      <td>108933.750000</td>\n",
       "      <td>0.000000</td>\n",
       "      <td>1.000000e+00</td>\n",
       "    </tr>\n",
       "    <tr>\n",
       "      <th>50%</th>\n",
       "      <td>237637.000000</td>\n",
       "      <td>0.000000</td>\n",
       "      <td>5.000000e+00</td>\n",
       "    </tr>\n",
       "    <tr>\n",
       "      <th>75%</th>\n",
       "      <td>367937.250000</td>\n",
       "      <td>0.000000</td>\n",
       "      <td>1.500000e+01</td>\n",
       "    </tr>\n",
       "    <tr>\n",
       "      <th>max</th>\n",
       "      <td>492043.000000</td>\n",
       "      <td>1.000000</td>\n",
       "      <td>1.192049e+06</td>\n",
       "    </tr>\n",
       "  </tbody>\n",
       "</table>\n",
       "</div>"
      ],
      "text/plain": [
       "          article_id       answered         votes\n",
       "count  377756.000000  377756.000000  3.777560e+05\n",
       "mean   239703.455924       0.000077  1.514069e+02\n",
       "std    146382.863480       0.008761  4.842551e+03\n",
       "min        21.000000       0.000000  0.000000e+00\n",
       "25%    108933.750000       0.000000  1.000000e+00\n",
       "50%    237637.000000       0.000000  5.000000e+00\n",
       "75%    367937.250000       0.000000  1.500000e+01\n",
       "max    492043.000000       1.000000  1.192049e+06"
      ]
     },
     "execution_count": 3,
     "metadata": {},
     "output_type": "execute_result"
    }
   ],
   "source": [
    "petitions.describe()"
   ]
  },
  {
   "cell_type": "code",
   "execution_count": 4,
   "metadata": {},
   "outputs": [
    {
     "data": {
      "text/plain": [
       "(17027, 8)"
      ]
     },
     "execution_count": 4,
     "metadata": {},
     "output_type": "execute_result"
    }
   ],
   "source": [
    "# 전체 데이터 중 투표가 1000건 이상인 데이터를 기준으로 가져옵니다. 아웃라이어 데이터 제거를 위해 20만건 이상 데이터도 제거합니다.\n",
    "petition_remove_outlier = petitions.loc[(petitions['votes'] > 100) & (petitions['votes'] < 10000)]\n",
    "petition_remove_outlier.shape"
   ]
  },
  {
   "cell_type": "code",
   "execution_count": 5,
   "metadata": {},
   "outputs": [],
   "source": [
    "df = petition_remove_outlier.copy()"
   ]
  },
  {
   "cell_type": "code",
   "execution_count": 6,
   "metadata": {},
   "outputs": [
    {
     "data": {
      "text/html": [
       "<div>\n",
       "<style scoped>\n",
       "    .dataframe tbody tr th:only-of-type {\n",
       "        vertical-align: middle;\n",
       "    }\n",
       "\n",
       "    .dataframe tbody tr th {\n",
       "        vertical-align: top;\n",
       "    }\n",
       "\n",
       "    .dataframe thead th {\n",
       "        text-align: right;\n",
       "    }\n",
       "</style>\n",
       "<table border=\"1\" class=\"dataframe\">\n",
       "  <thead>\n",
       "    <tr style=\"text-align: right;\">\n",
       "      <th></th>\n",
       "      <th>article_id</th>\n",
       "      <th>answered</th>\n",
       "      <th>votes</th>\n",
       "    </tr>\n",
       "  </thead>\n",
       "  <tbody>\n",
       "    <tr>\n",
       "      <th>count</th>\n",
       "      <td>17027.000000</td>\n",
       "      <td>17027.0</td>\n",
       "      <td>17027.000000</td>\n",
       "    </tr>\n",
       "    <tr>\n",
       "      <th>mean</th>\n",
       "      <td>264078.316967</td>\n",
       "      <td>0.0</td>\n",
       "      <td>688.654549</td>\n",
       "    </tr>\n",
       "    <tr>\n",
       "      <th>std</th>\n",
       "      <td>130088.137302</td>\n",
       "      <td>0.0</td>\n",
       "      <td>1285.122242</td>\n",
       "    </tr>\n",
       "    <tr>\n",
       "      <th>min</th>\n",
       "      <td>28.000000</td>\n",
       "      <td>0.0</td>\n",
       "      <td>101.000000</td>\n",
       "    </tr>\n",
       "    <tr>\n",
       "      <th>25%</th>\n",
       "      <td>169458.500000</td>\n",
       "      <td>0.0</td>\n",
       "      <td>142.000000</td>\n",
       "    </tr>\n",
       "    <tr>\n",
       "      <th>50%</th>\n",
       "      <td>258974.000000</td>\n",
       "      <td>0.0</td>\n",
       "      <td>228.000000</td>\n",
       "    </tr>\n",
       "    <tr>\n",
       "      <th>75%</th>\n",
       "      <td>382067.500000</td>\n",
       "      <td>0.0</td>\n",
       "      <td>541.000000</td>\n",
       "    </tr>\n",
       "    <tr>\n",
       "      <th>max</th>\n",
       "      <td>492036.000000</td>\n",
       "      <td>0.0</td>\n",
       "      <td>9988.000000</td>\n",
       "    </tr>\n",
       "  </tbody>\n",
       "</table>\n",
       "</div>"
      ],
      "text/plain": [
       "          article_id  answered         votes\n",
       "count   17027.000000   17027.0  17027.000000\n",
       "mean   264078.316967       0.0    688.654549\n",
       "std    130088.137302       0.0   1285.122242\n",
       "min        28.000000       0.0    101.000000\n",
       "25%    169458.500000       0.0    142.000000\n",
       "50%    258974.000000       0.0    228.000000\n",
       "75%    382067.500000       0.0    541.000000\n",
       "max    492036.000000       0.0   9988.000000"
      ]
     },
     "execution_count": 6,
     "metadata": {},
     "output_type": "execute_result"
    }
   ],
   "source": [
    "df.describe()"
   ]
  },
  {
   "cell_type": "markdown",
   "metadata": {},
   "source": [
    "# 이진분류 대상 정하기\n",
    "* 답변 여부에 대해 분류해보는 실습을 해볼까 했지만 표준편차가 너무 크고 모수가 적어 분류 데이터로 적합하지 않습니다."
   ]
  },
  {
   "cell_type": "code",
   "execution_count": 7,
   "metadata": {},
   "outputs": [
    {
     "data": {
      "text/plain": [
       "(0, 8)"
      ]
     },
     "execution_count": 7,
     "metadata": {},
     "output_type": "execute_result"
    }
   ],
   "source": [
    "# 답변대상건이 몇 건인지 봅니다. \n",
    "df.loc[df['answered'] == 1].shape"
   ]
  },
  {
   "cell_type": "code",
   "execution_count": 8,
   "metadata": {},
   "outputs": [
    {
     "data": {
      "text/plain": [
       "<matplotlib.axes._subplots.AxesSubplot at 0x104fdeac8>"
      ]
     },
     "execution_count": 8,
     "metadata": {},
     "output_type": "execute_result"
    },
    {
     "data": {
      "image/png": "[encoded data removed]",
      "text/plain": [
       "<matplotlib.figure.Figure at 0x1115f1d68>"
      ]
     },
     "metadata": {},
     "output_type": "display_data"
    }
   ],
   "source": [
    "%matplotlib inline \n",
    "df['votes'].plot.hist()"
   ]
  },
  {
   "cell_type": "markdown",
   "metadata": {},
   "source": [
    "# 투표수를 평균보다 높게 혹은 적게 받는지 예측해 보기"
   ]
  },
  {
   "cell_type": "code",
   "execution_count": 9,
   "metadata": {},
   "outputs": [],
   "source": [
    "# 기본값을 0으로 세팅\n",
    "df['votes_pos_neg'] = 0"
   ]
  },
  {
   "cell_type": "code",
   "execution_count": 10,
   "metadata": {},
   "outputs": [
    {
     "data": {
      "text/plain": [
       "688.6545486580137"
      ]
     },
     "execution_count": 10,
     "metadata": {},
     "output_type": "execute_result"
    }
   ],
   "source": [
    "# 평균 투표수를 구해 옵니다.\n",
    "votes_mean = df['votes'].mean()\n",
    "votes_mean"
   ]
  },
  {
   "cell_type": "code",
   "execution_count": 11,
   "metadata": {},
   "outputs": [],
   "source": [
    "# 투표수가 평균을 넘으면 1로 다시 세팅합니다.\n",
    "df['votes_pos_neg'] = (df['votes'] > votes_mean) == 1"
   ]
  },
  {
   "cell_type": "code",
   "execution_count": 12,
   "metadata": {},
   "outputs": [],
   "source": [
    "# 타입을 boolean 에서 int로 변경해 줍니다.\n",
    "df['votes_pos_neg'] = df['votes_pos_neg'].astype(int)"
   ]
  },
  {
   "cell_type": "code",
   "execution_count": 13,
   "metadata": {},
   "outputs": [
    {
     "data": {
      "text/html": [
       "<div>\n",
       "<style scoped>\n",
       "    .dataframe tbody tr th:only-of-type {\n",
       "        vertical-align: middle;\n",
       "    }\n",
       "\n",
       "    .dataframe tbody tr th {\n",
       "        vertical-align: top;\n",
       "    }\n",
       "\n",
       "    .dataframe thead th {\n",
       "        text-align: right;\n",
       "    }\n",
       "</style>\n",
       "<table border=\"1\" class=\"dataframe\">\n",
       "  <thead>\n",
       "    <tr style=\"text-align: right;\">\n",
       "      <th></th>\n",
       "      <th>article_id</th>\n",
       "      <th>start</th>\n",
       "      <th>end</th>\n",
       "      <th>answered</th>\n",
       "      <th>votes</th>\n",
       "      <th>category</th>\n",
       "      <th>title</th>\n",
       "      <th>content</th>\n",
       "      <th>votes_pos_neg</th>\n",
       "    </tr>\n",
       "  </thead>\n",
       "  <tbody>\n",
       "    <tr>\n",
       "      <th>7</th>\n",
       "      <td>28</td>\n",
       "      <td>2017-08-19</td>\n",
       "      <td>2017-08-26</td>\n",
       "      <td>0</td>\n",
       "      <td>2137</td>\n",
       "      <td>경제민주화</td>\n",
       "      <td>소액주주를 보호해주십시오</td>\n",
       "      <td>**  존경하옵는 문재인대통령님께\\n저는 중국원양자원이라는 KOSPI상장사의 소액 ...</td>\n",
       "      <td>1</td>\n",
       "    </tr>\n",
       "    <tr>\n",
       "      <th>13</th>\n",
       "      <td>34</td>\n",
       "      <td>2017-08-19</td>\n",
       "      <td>2017-09-18</td>\n",
       "      <td>0</td>\n",
       "      <td>679</td>\n",
       "      <td>기타</td>\n",
       "      <td>『국가유공자 등 예우 및 지원에 관한법률』상「6.25전몰군경 자녀수당」의 불합리한 ...</td>\n",
       "      <td>(현황)\\n우리들 아버지께서는 67여년전 북의 남침으로 조국이 위기에 처했을 때 젊...</td>\n",
       "      <td>0</td>\n",
       "    </tr>\n",
       "    <tr>\n",
       "      <th>16</th>\n",
       "      <td>37</td>\n",
       "      <td>2017-08-19</td>\n",
       "      <td>2017-09-18</td>\n",
       "      <td>0</td>\n",
       "      <td>415</td>\n",
       "      <td>기타</td>\n",
       "      <td>황우석박사님 연구재개 허용 촉구합니다.</td>\n",
       "      <td>국민의 70% 이상이 황우석박사님을 응원하고 지지하고 있습니다.\\n*2007년 1월...</td>\n",
       "      <td>0</td>\n",
       "    </tr>\n",
       "    <tr>\n",
       "      <th>18</th>\n",
       "      <td>40</td>\n",
       "      <td>2017-08-19</td>\n",
       "      <td>2017-09-18</td>\n",
       "      <td>0</td>\n",
       "      <td>218</td>\n",
       "      <td>외교/통일/국방</td>\n",
       "      <td>국가유공자등 예우및 지우너에 관한 법률 시행령 개정</td>\n",
       "      <td>지금부터 67년전 1950년 6.25전쟁때 조국 대한민국이 위태로운 시점에 우리들 ...</td>\n",
       "      <td>0</td>\n",
       "    </tr>\n",
       "    <tr>\n",
       "      <th>19</th>\n",
       "      <td>41</td>\n",
       "      <td>2017-08-19</td>\n",
       "      <td>2017-09-18</td>\n",
       "      <td>0</td>\n",
       "      <td>227</td>\n",
       "      <td>외교/통일/국방</td>\n",
       "      <td>국가유공자등 예우및 지우너에 관한 법률 시행령 개정</td>\n",
       "      <td>지금부터 67년전 1950년 6.25전쟁때 조국 대한민국이 위태로운 시점에 우리들 ...</td>\n",
       "      <td>0</td>\n",
       "    </tr>\n",
       "  </tbody>\n",
       "</table>\n",
       "</div>"
      ],
      "text/plain": [
       "    article_id      start        end  answered  votes  category  \\\n",
       "7           28 2017-08-19 2017-08-26         0   2137     경제민주화   \n",
       "13          34 2017-08-19 2017-09-18         0    679        기타   \n",
       "16          37 2017-08-19 2017-09-18         0    415        기타   \n",
       "18          40 2017-08-19 2017-09-18         0    218  외교/통일/국방   \n",
       "19          41 2017-08-19 2017-09-18         0    227  외교/통일/국방   \n",
       "\n",
       "                                                title  \\\n",
       "7                                       소액주주를 보호해주십시오   \n",
       "13  『국가유공자 등 예우 및 지원에 관한법률』상「6.25전몰군경 자녀수당」의 불합리한 ...   \n",
       "16                              황우석박사님 연구재개 허용 촉구합니다.   \n",
       "18                       국가유공자등 예우및 지우너에 관한 법률 시행령 개정   \n",
       "19                       국가유공자등 예우및 지우너에 관한 법률 시행령 개정   \n",
       "\n",
       "                                              content  votes_pos_neg  \n",
       "7   **  존경하옵는 문재인대통령님께\\n저는 중국원양자원이라는 KOSPI상장사의 소액 ...              1  \n",
       "13  (현황)\\n우리들 아버지께서는 67여년전 북의 남침으로 조국이 위기에 처했을 때 젊...              0  \n",
       "16  국민의 70% 이상이 황우석박사님을 응원하고 지지하고 있습니다.\\n*2007년 1월...              0  \n",
       "18  지금부터 67년전 1950년 6.25전쟁때 조국 대한민국이 위태로운 시점에 우리들 ...              0  \n",
       "19  지금부터 67년전 1950년 6.25전쟁때 조국 대한민국이 위태로운 시점에 우리들 ...              0  "
      ]
     },
     "execution_count": 13,
     "metadata": {},
     "output_type": "execute_result"
    }
   ],
   "source": [
    "df.head()"
   ]
  },
  {
   "cell_type": "code",
   "execution_count": 14,
   "metadata": {},
   "outputs": [],
   "source": [
    "# 샘플로 보고 싶은 인덱스의 번호를 넣어주세요.\n",
    "sample_index = 38"
   ]
  },
  {
   "cell_type": "code",
   "execution_count": 15,
   "metadata": {},
   "outputs": [
    {
     "data": {
      "text/plain": [
       "'영어회화전문강사제도는 유지되어야합니다.'"
      ]
     },
     "execution_count": 15,
     "metadata": {},
     "output_type": "execute_result"
    }
   ],
   "source": [
    "sample_title = df['title'][sample_index]\n",
    "sample_title"
   ]
  },
  {
   "cell_type": "code",
   "execution_count": 16,
   "metadata": {},
   "outputs": [
    {
     "data": {
      "text/plain": [
       "'1. 영전강의고용안정을 원합니다\\\\n2.1년단위계약직으로 임신 출산육아 매우 곤란합니다\\\\n3. 성과급 호봉인정 상여금 급식비지원 전혀없으며 연봉인상 또한 없습니다\\\\n4.인권위의 무기직으로 전환 권고받았습니다\\\\n5.공공부문 비정규직 없애는건 문정부의 공약이며 이에따라 영전강만 제외하는것은 불공평합니다\\\\n저희는 정교사나 정규직을 원하는것이 아닙니다.\\\\n이 일을 계속 하길 희망할 뿐입니다.  문재인대통령님께선 일자리창출을 매우 중요하게 생각하셨습니다.  일자리창출 만큼 중요한것이 일자리 유지입니다.  창출만 하고 유지가 되지 않는다면 그저  형식적인 정책일 뿐입니다. 하루빨리 결과가 나와  안정된 마음으로 일하고 싶습니다.  감사합니다.'"
      ]
     },
     "execution_count": 16,
     "metadata": {},
     "output_type": "execute_result"
    }
   ],
   "source": [
    "sample_content = petitions['content'][sample_index]\n",
    "sample_content"
   ]
  },
  {
   "cell_type": "markdown",
   "metadata": {},
   "source": [
    "# 전처리 하기 "
   ]
  },
  {
   "cell_type": "code",
   "execution_count": 17,
   "metadata": {},
   "outputs": [],
   "source": [
    "def preprocessing(text):\n",
    "    # 개행문자 제거\n",
    "    text = re.sub('\\\\\\\\n', ' ', text)\n",
    "    # 특수문자 제거\n",
    "    # 특수문자나 이모티콘 등은 때로는 의미를 갖기도 하지만 여기에서는 제거했습니다.\n",
    "    # text = re.sub('[?.,;:|\\)*~`’!^\\-_+<>@\\#$%&-=#}※]', '', text)\n",
    "    # 한글, 영문, 숫자만 남기고 모두 제거하도록 합니다.\n",
    "    # text = re.sub('[^가-힣ㄱ-ㅎㅏ-ㅣa-zA-Z0-9]', ' ', text)\n",
    "    # 한글, 영문만 남기고 모두 제거하도록 합니다.\n",
    "    text = re.sub('[^가-힣ㄱ-ㅎㅏ-ㅣa-zA-Z]', ' ', text)\n",
    "    # 중복으로 생성된 공백값을 제거합니다.\n",
    "    text = re.sub(' +', ' ', text)\n",
    "    return text"
   ]
  },
  {
   "cell_type": "code",
   "execution_count": 18,
   "metadata": {},
   "outputs": [],
   "source": [
    "# 불용어 제거\n",
    "def remove_stopwords(text):\n",
    "    tokens = text.split(' ')\n",
    "    stops = ['안녕', '있습니다', '그', '년도', '안녕하세요', '하는', '및', '제', '할', '하고', '더', '대한', '한', '그리고', '월', '저는', '없는', '입니다', '등', '일', '많은', '이런', '것은', '왜','같은', '같습니다', '없습니다', '위해', '한다']\n",
    "    meaningful_words = [w for w in tokens if not w in stops]\n",
    "    return ' '.join(meaningful_words)"
   ]
  },
  {
   "cell_type": "code",
   "execution_count": 19,
   "metadata": {},
   "outputs": [],
   "source": [
    "# 샘플데이터에 적용\n",
    "pre_sample_content = preprocessing(sample_content)"
   ]
  },
  {
   "cell_type": "code",
   "execution_count": 20,
   "metadata": {},
   "outputs": [],
   "source": [
    "pre_sample_content = remove_stopwords(pre_sample_content)"
   ]
  },
  {
   "cell_type": "code",
   "execution_count": 21,
   "metadata": {},
   "outputs": [
    {
     "name": "stdout",
     "output_type": "stream",
     "text": [
      "CPU times: user 2.52 s, sys: 43.5 ms, total: 2.56 s\n",
      "Wall time: 2.68 s\n"
     ]
    }
   ],
   "source": [
    "%time df['content_preprocessing'] = df['content'].apply(preprocessing)"
   ]
  },
  {
   "cell_type": "code",
   "execution_count": 22,
   "metadata": {},
   "outputs": [
    {
     "name": "stdout",
     "output_type": "stream",
     "text": [
      "CPU times: user 2.19 s, sys: 50.8 ms, total: 2.24 s\n",
      "Wall time: 2.55 s\n"
     ]
    }
   ],
   "source": [
    "%time df['content_preprocessing2'] = df['content_preprocessing'].apply(remove_stopwords)"
   ]
  },
  {
   "cell_type": "markdown",
   "metadata": {},
   "source": [
    "# 학습세트와 테스트세트 만들기\n",
    "* 학습세트와 테스트세트를 7:3의 비율로 나눠 줍니다."
   ]
  },
  {
   "cell_type": "code",
   "execution_count": 23,
   "metadata": {},
   "outputs": [],
   "source": [
    "df = df.reindex()"
   ]
  },
  {
   "cell_type": "code",
   "execution_count": 24,
   "metadata": {},
   "outputs": [
    {
     "data": {
      "text/plain": [
       "(17027, 11)"
      ]
     },
     "execution_count": 24,
     "metadata": {},
     "output_type": "execute_result"
    }
   ],
   "source": [
    "df.shape"
   ]
  },
  {
   "cell_type": "code",
   "execution_count": 25,
   "metadata": {},
   "outputs": [
    {
     "data": {
      "text/plain": [
       "11918"
      ]
     },
     "execution_count": 25,
     "metadata": {},
     "output_type": "execute_result"
    }
   ],
   "source": [
    "split_count = int(df.shape[0] * 0.7)\n",
    "split_count"
   ]
  },
  {
   "cell_type": "code",
   "execution_count": 26,
   "metadata": {},
   "outputs": [
    {
     "data": {
      "text/plain": [
       "(11918, 11)"
      ]
     },
     "execution_count": 26,
     "metadata": {},
     "output_type": "execute_result"
    }
   ],
   "source": [
    "df_train = df[:split_count].copy()\n",
    "df_train.shape"
   ]
  },
  {
   "cell_type": "code",
   "execution_count": 27,
   "metadata": {},
   "outputs": [
    {
     "data": {
      "text/html": [
       "<div>\n",
       "<style scoped>\n",
       "    .dataframe tbody tr th:only-of-type {\n",
       "        vertical-align: middle;\n",
       "    }\n",
       "\n",
       "    .dataframe tbody tr th {\n",
       "        vertical-align: top;\n",
       "    }\n",
       "\n",
       "    .dataframe thead th {\n",
       "        text-align: right;\n",
       "    }\n",
       "</style>\n",
       "<table border=\"1\" class=\"dataframe\">\n",
       "  <thead>\n",
       "    <tr style=\"text-align: right;\">\n",
       "      <th></th>\n",
       "      <th>article_id</th>\n",
       "      <th>start</th>\n",
       "      <th>end</th>\n",
       "      <th>answered</th>\n",
       "      <th>votes</th>\n",
       "      <th>category</th>\n",
       "      <th>title</th>\n",
       "      <th>content</th>\n",
       "      <th>votes_pos_neg</th>\n",
       "      <th>content_preprocessing</th>\n",
       "      <th>content_preprocessing2</th>\n",
       "    </tr>\n",
       "  </thead>\n",
       "  <tbody>\n",
       "    <tr>\n",
       "      <th>7</th>\n",
       "      <td>28</td>\n",
       "      <td>2017-08-19</td>\n",
       "      <td>2017-08-26</td>\n",
       "      <td>0</td>\n",
       "      <td>2137</td>\n",
       "      <td>경제민주화</td>\n",
       "      <td>소액주주를 보호해주십시오</td>\n",
       "      <td>**  존경하옵는 문재인대통령님께\\n저는 중국원양자원이라는 KOSPI상장사의 소액 ...</td>\n",
       "      <td>1</td>\n",
       "      <td>존경하옵는 문재인대통령님께 저는 중국원양자원이라는 KOSPI상장사의 소액 주주입니...</td>\n",
       "      <td>존경하옵는 문재인대통령님께 중국원양자원이라는 KOSPI상장사의 소액 주주입니다 중...</td>\n",
       "    </tr>\n",
       "    <tr>\n",
       "      <th>13</th>\n",
       "      <td>34</td>\n",
       "      <td>2017-08-19</td>\n",
       "      <td>2017-09-18</td>\n",
       "      <td>0</td>\n",
       "      <td>679</td>\n",
       "      <td>기타</td>\n",
       "      <td>『국가유공자 등 예우 및 지원에 관한법률』상「6.25전몰군경 자녀수당」의 불합리한 ...</td>\n",
       "      <td>(현황)\\n우리들 아버지께서는 67여년전 북의 남침으로 조국이 위기에 처했을 때 젊...</td>\n",
       "      <td>0</td>\n",
       "      <td>현황 우리들 아버지께서는 여년전 북의 남침으로 조국이 위기에 처했을 때 젊은 목숨...</td>\n",
       "      <td>현황 우리들 아버지께서는 여년전 북의 남침으로 조국이 위기에 처했을 때 젊은 목숨...</td>\n",
       "    </tr>\n",
       "    <tr>\n",
       "      <th>16</th>\n",
       "      <td>37</td>\n",
       "      <td>2017-08-19</td>\n",
       "      <td>2017-09-18</td>\n",
       "      <td>0</td>\n",
       "      <td>415</td>\n",
       "      <td>기타</td>\n",
       "      <td>황우석박사님 연구재개 허용 촉구합니다.</td>\n",
       "      <td>국민의 70% 이상이 황우석박사님을 응원하고 지지하고 있습니다.\\n*2007년 1월...</td>\n",
       "      <td>0</td>\n",
       "      <td>국민의 이상이 황우석박사님을 응원하고 지지하고 있습니다 년 월 중앙일보 여론조 국민...</td>\n",
       "      <td>국민의 이상이 황우석박사님을 응원하고 지지하고 년 중앙일보 여론조 국민 여론조사 황...</td>\n",
       "    </tr>\n",
       "    <tr>\n",
       "      <th>18</th>\n",
       "      <td>40</td>\n",
       "      <td>2017-08-19</td>\n",
       "      <td>2017-09-18</td>\n",
       "      <td>0</td>\n",
       "      <td>218</td>\n",
       "      <td>외교/통일/국방</td>\n",
       "      <td>국가유공자등 예우및 지우너에 관한 법률 시행령 개정</td>\n",
       "      <td>지금부터 67년전 1950년 6.25전쟁때 조국 대한민국이 위태로운 시점에 우리들 ...</td>\n",
       "      <td>0</td>\n",
       "      <td>지금부터 년전 년 전쟁때 조국 대한민국이 위태로운 시점에 우리들 아버님께서는 조국의...</td>\n",
       "      <td>지금부터 년전 년 전쟁때 조국 대한민국이 위태로운 시점에 우리들 아버님께서는 조국의...</td>\n",
       "    </tr>\n",
       "    <tr>\n",
       "      <th>19</th>\n",
       "      <td>41</td>\n",
       "      <td>2017-08-19</td>\n",
       "      <td>2017-09-18</td>\n",
       "      <td>0</td>\n",
       "      <td>227</td>\n",
       "      <td>외교/통일/국방</td>\n",
       "      <td>국가유공자등 예우및 지우너에 관한 법률 시행령 개정</td>\n",
       "      <td>지금부터 67년전 1950년 6.25전쟁때 조국 대한민국이 위태로운 시점에 우리들 ...</td>\n",
       "      <td>0</td>\n",
       "      <td>지금부터 년전 년 전쟁때 조국 대한민국이 위태로운 시점에 우리들 아버님께서는 조국의...</td>\n",
       "      <td>지금부터 년전 년 전쟁때 조국 대한민국이 위태로운 시점에 우리들 아버님께서는 조국의...</td>\n",
       "    </tr>\n",
       "  </tbody>\n",
       "</table>\n",
       "</div>"
      ],
      "text/plain": [
       "    article_id      start        end  answered  votes  category  \\\n",
       "7           28 2017-08-19 2017-08-26         0   2137     경제민주화   \n",
       "13          34 2017-08-19 2017-09-18         0    679        기타   \n",
       "16          37 2017-08-19 2017-09-18         0    415        기타   \n",
       "18          40 2017-08-19 2017-09-18         0    218  외교/통일/국방   \n",
       "19          41 2017-08-19 2017-09-18         0    227  외교/통일/국방   \n",
       "\n",
       "                                                title  \\\n",
       "7                                       소액주주를 보호해주십시오   \n",
       "13  『국가유공자 등 예우 및 지원에 관한법률』상「6.25전몰군경 자녀수당」의 불합리한 ...   \n",
       "16                              황우석박사님 연구재개 허용 촉구합니다.   \n",
       "18                       국가유공자등 예우및 지우너에 관한 법률 시행령 개정   \n",
       "19                       국가유공자등 예우및 지우너에 관한 법률 시행령 개정   \n",
       "\n",
       "                                              content  votes_pos_neg  \\\n",
       "7   **  존경하옵는 문재인대통령님께\\n저는 중국원양자원이라는 KOSPI상장사의 소액 ...              1   \n",
       "13  (현황)\\n우리들 아버지께서는 67여년전 북의 남침으로 조국이 위기에 처했을 때 젊...              0   \n",
       "16  국민의 70% 이상이 황우석박사님을 응원하고 지지하고 있습니다.\\n*2007년 1월...              0   \n",
       "18  지금부터 67년전 1950년 6.25전쟁때 조국 대한민국이 위태로운 시점에 우리들 ...              0   \n",
       "19  지금부터 67년전 1950년 6.25전쟁때 조국 대한민국이 위태로운 시점에 우리들 ...              0   \n",
       "\n",
       "                                content_preprocessing  \\\n",
       "7    존경하옵는 문재인대통령님께 저는 중국원양자원이라는 KOSPI상장사의 소액 주주입니...   \n",
       "13   현황 우리들 아버지께서는 여년전 북의 남침으로 조국이 위기에 처했을 때 젊은 목숨...   \n",
       "16  국민의 이상이 황우석박사님을 응원하고 지지하고 있습니다 년 월 중앙일보 여론조 국민...   \n",
       "18  지금부터 년전 년 전쟁때 조국 대한민국이 위태로운 시점에 우리들 아버님께서는 조국의...   \n",
       "19  지금부터 년전 년 전쟁때 조국 대한민국이 위태로운 시점에 우리들 아버님께서는 조국의...   \n",
       "\n",
       "                               content_preprocessing2  \n",
       "7    존경하옵는 문재인대통령님께 중국원양자원이라는 KOSPI상장사의 소액 주주입니다 중...  \n",
       "13   현황 우리들 아버지께서는 여년전 북의 남침으로 조국이 위기에 처했을 때 젊은 목숨...  \n",
       "16  국민의 이상이 황우석박사님을 응원하고 지지하고 년 중앙일보 여론조 국민 여론조사 황...  \n",
       "18  지금부터 년전 년 전쟁때 조국 대한민국이 위태로운 시점에 우리들 아버님께서는 조국의...  \n",
       "19  지금부터 년전 년 전쟁때 조국 대한민국이 위태로운 시점에 우리들 아버님께서는 조국의...  "
      ]
     },
     "execution_count": 27,
     "metadata": {},
     "output_type": "execute_result"
    }
   ],
   "source": [
    "df_train.head()"
   ]
  },
  {
   "cell_type": "code",
   "execution_count": 28,
   "metadata": {},
   "outputs": [
    {
     "data": {
      "text/plain": [
       "(2467, 11)"
      ]
     },
     "execution_count": 28,
     "metadata": {},
     "output_type": "execute_result"
    }
   ],
   "source": [
    "# 학습 세트에서 투표수가 평균보다 많은 건\n",
    "df_train.loc[df_train['votes_pos_neg'] == 1].shape"
   ]
  },
  {
   "cell_type": "code",
   "execution_count": 29,
   "metadata": {},
   "outputs": [
    {
     "data": {
      "text/plain": [
       "(5109, 11)"
      ]
     },
     "execution_count": 29,
     "metadata": {},
     "output_type": "execute_result"
    }
   ],
   "source": [
    "df_test = df[split_count:].copy()\n",
    "df_test.shape"
   ]
  },
  {
   "cell_type": "code",
   "execution_count": 30,
   "metadata": {},
   "outputs": [
    {
     "data": {
      "text/html": [
       "<div>\n",
       "<style scoped>\n",
       "    .dataframe tbody tr th:only-of-type {\n",
       "        vertical-align: middle;\n",
       "    }\n",
       "\n",
       "    .dataframe tbody tr th {\n",
       "        vertical-align: top;\n",
       "    }\n",
       "\n",
       "    .dataframe thead th {\n",
       "        text-align: right;\n",
       "    }\n",
       "</style>\n",
       "<table border=\"1\" class=\"dataframe\">\n",
       "  <thead>\n",
       "    <tr style=\"text-align: right;\">\n",
       "      <th></th>\n",
       "      <th>article_id</th>\n",
       "      <th>start</th>\n",
       "      <th>end</th>\n",
       "      <th>answered</th>\n",
       "      <th>votes</th>\n",
       "      <th>category</th>\n",
       "      <th>title</th>\n",
       "      <th>content</th>\n",
       "      <th>votes_pos_neg</th>\n",
       "      <th>content_preprocessing</th>\n",
       "      <th>content_preprocessing2</th>\n",
       "    </tr>\n",
       "  </thead>\n",
       "  <tbody>\n",
       "    <tr>\n",
       "      <th>266455</th>\n",
       "      <td>346112</td>\n",
       "      <td>2018-08-18</td>\n",
       "      <td>2018-09-17</td>\n",
       "      <td>0</td>\n",
       "      <td>262</td>\n",
       "      <td>보건복지</td>\n",
       "      <td>★★【국민연금 폐지】★★ 눈에 잘띄게 재업!! 꼭 동의합니다. 눌러주세요!!</td>\n",
       "      <td>안녕하십니까? 친애하는 문재인 대통령님!\\n몇칠전 뉴스에서 문재인 대통령님께서 국민...</td>\n",
       "      <td>0</td>\n",
       "      <td>안녕하십니까 친애하는 문재인 대통령님 몇칠전 뉴스에서 문재인 대통령님께서 국민연금 ...</td>\n",
       "      <td>안녕하십니까 친애하는 문재인 대통령님 몇칠전 뉴스에서 문재인 대통령님께서 국민연금 ...</td>\n",
       "    </tr>\n",
       "    <tr>\n",
       "      <th>266465</th>\n",
       "      <td>346124</td>\n",
       "      <td>2018-08-18</td>\n",
       "      <td>2018-09-17</td>\n",
       "      <td>0</td>\n",
       "      <td>156</td>\n",
       "      <td>정치개혁</td>\n",
       "      <td>안민석이 발의한 다문화 교육 지원법안 반대하는 국민여론들... 한국인 차별 외국계특...</td>\n",
       "      <td>국회사이트입법예고에 올라온 한국인차별하고 다문화에게만 각종 특혜조공하는 매국반민족 ...</td>\n",
       "      <td>0</td>\n",
       "      <td>국회사이트입법예고에 올라온 한국인차별하고 다문화에게만 각종 특혜조공하는 매국반민족 ...</td>\n",
       "      <td>국회사이트입법예고에 올라온 한국인차별하고 다문화에게만 각종 특혜조공하는 매국반민족 ...</td>\n",
       "    </tr>\n",
       "    <tr>\n",
       "      <th>266533</th>\n",
       "      <td>346222</td>\n",
       "      <td>2018-08-18</td>\n",
       "      <td>2018-09-17</td>\n",
       "      <td>0</td>\n",
       "      <td>231</td>\n",
       "      <td>교통/건축/국토</td>\n",
       "      <td>거제도-부산을 연결하는 거가대교 통행료 너무 비쌉니다.</td>\n",
       "      <td>안녕하세요.\\n거제도에서 일하고 있는 직장인 입니다.\\n다름이 아니라 거제도와 부산...</td>\n",
       "      <td>0</td>\n",
       "      <td>안녕하세요 거제도에서 일하고 있는 직장인 입니다 다름이 아니라 거제도와 부산을 연결...</td>\n",
       "      <td>거제도에서 일하고 있는 직장인 다름이 아니라 거제도와 부산을 연결하는거가대교 통행료...</td>\n",
       "    </tr>\n",
       "    <tr>\n",
       "      <th>266540</th>\n",
       "      <td>346230</td>\n",
       "      <td>2018-08-18</td>\n",
       "      <td>2018-09-17</td>\n",
       "      <td>0</td>\n",
       "      <td>219</td>\n",
       "      <td>육아/교육</td>\n",
       "      <td>초,중,고 학생들을 지켜주세요</td>\n",
       "      <td>안녕하세요 고등학교 3학년 학생입니다.\\n다름이 아니라 며칠전 친구가 사교육 받는다...</td>\n",
       "      <td>0</td>\n",
       "      <td>안녕하세요 고등학교 학년 학생입니다 다름이 아니라 며칠전 친구가 사교육 받는다는 이...</td>\n",
       "      <td>고등학교 학년 학생입니다 다름이 아니라 며칠전 친구가 사교육 받는다는 이유로 담임선...</td>\n",
       "    </tr>\n",
       "    <tr>\n",
       "      <th>266566</th>\n",
       "      <td>346274</td>\n",
       "      <td>2018-08-18</td>\n",
       "      <td>2018-09-17</td>\n",
       "      <td>0</td>\n",
       "      <td>4205</td>\n",
       "      <td>기타</td>\n",
       "      <td>새누리당 매크로 특검원합니다</td>\n",
       "      <td>이미 뉴스에 조작혐의 나온바 있는\\n새누리당 매크로 특검 요청합니다\\n대한민국의 모...</td>\n",
       "      <td>1</td>\n",
       "      <td>이미 뉴스에 조작혐의 나온바 있는 새누리당 매크로 특검 요청합니다 대한민국의 모든 ...</td>\n",
       "      <td>이미 뉴스에 조작혐의 나온바 있는 새누리당 매크로 특검 요청합니다 대한민국의 모든 ...</td>\n",
       "    </tr>\n",
       "  </tbody>\n",
       "</table>\n",
       "</div>"
      ],
      "text/plain": [
       "        article_id      start        end  answered  votes  category  \\\n",
       "266455      346112 2018-08-18 2018-09-17         0    262      보건복지   \n",
       "266465      346124 2018-08-18 2018-09-17         0    156      정치개혁   \n",
       "266533      346222 2018-08-18 2018-09-17         0    231  교통/건축/국토   \n",
       "266540      346230 2018-08-18 2018-09-17         0    219     육아/교육   \n",
       "266566      346274 2018-08-18 2018-09-17         0   4205        기타   \n",
       "\n",
       "                                                    title  \\\n",
       "266455         ★★【국민연금 폐지】★★ 눈에 잘띄게 재업!! 꼭 동의합니다. 눌러주세요!!   \n",
       "266465  안민석이 발의한 다문화 교육 지원법안 반대하는 국민여론들... 한국인 차별 외국계특...   \n",
       "266533                     거제도-부산을 연결하는 거가대교 통행료 너무 비쌉니다.   \n",
       "266540                                   초,중,고 학생들을 지켜주세요   \n",
       "266566                                    새누리당 매크로 특검원합니다   \n",
       "\n",
       "                                                  content  votes_pos_neg  \\\n",
       "266455  안녕하십니까? 친애하는 문재인 대통령님!\\n몇칠전 뉴스에서 문재인 대통령님께서 국민...              0   \n",
       "266465  국회사이트입법예고에 올라온 한국인차별하고 다문화에게만 각종 특혜조공하는 매국반민족 ...              0   \n",
       "266533  안녕하세요.\\n거제도에서 일하고 있는 직장인 입니다.\\n다름이 아니라 거제도와 부산...              0   \n",
       "266540  안녕하세요 고등학교 3학년 학생입니다.\\n다름이 아니라 며칠전 친구가 사교육 받는다...              0   \n",
       "266566  이미 뉴스에 조작혐의 나온바 있는\\n새누리당 매크로 특검 요청합니다\\n대한민국의 모...              1   \n",
       "\n",
       "                                    content_preprocessing  \\\n",
       "266455  안녕하십니까 친애하는 문재인 대통령님 몇칠전 뉴스에서 문재인 대통령님께서 국민연금 ...   \n",
       "266465  국회사이트입법예고에 올라온 한국인차별하고 다문화에게만 각종 특혜조공하는 매국반민족 ...   \n",
       "266533  안녕하세요 거제도에서 일하고 있는 직장인 입니다 다름이 아니라 거제도와 부산을 연결...   \n",
       "266540  안녕하세요 고등학교 학년 학생입니다 다름이 아니라 며칠전 친구가 사교육 받는다는 이...   \n",
       "266566  이미 뉴스에 조작혐의 나온바 있는 새누리당 매크로 특검 요청합니다 대한민국의 모든 ...   \n",
       "\n",
       "                                   content_preprocessing2  \n",
       "266455  안녕하십니까 친애하는 문재인 대통령님 몇칠전 뉴스에서 문재인 대통령님께서 국민연금 ...  \n",
       "266465  국회사이트입법예고에 올라온 한국인차별하고 다문화에게만 각종 특혜조공하는 매국반민족 ...  \n",
       "266533  거제도에서 일하고 있는 직장인 다름이 아니라 거제도와 부산을 연결하는거가대교 통행료...  \n",
       "266540  고등학교 학년 학생입니다 다름이 아니라 며칠전 친구가 사교육 받는다는 이유로 담임선...  \n",
       "266566  이미 뉴스에 조작혐의 나온바 있는 새누리당 매크로 특검 요청합니다 대한민국의 모든 ...  "
      ]
     },
     "execution_count": 30,
     "metadata": {},
     "output_type": "execute_result"
    }
   ],
   "source": [
    "df_test.head()"
   ]
  },
  {
   "cell_type": "code",
   "execution_count": 31,
   "metadata": {},
   "outputs": [
    {
     "data": {
      "text/plain": [
       "(1067, 11)"
      ]
     },
     "execution_count": 31,
     "metadata": {},
     "output_type": "execute_result"
    }
   ],
   "source": [
    "# 테스트 세트에서 투표수가 평균보다 많은 건\n",
    "df_test.loc[df_test['votes_pos_neg'] == 1].shape"
   ]
  },
  {
   "cell_type": "markdown",
   "metadata": {},
   "source": [
    "# 단어 벡터화 하기\n",
    "## BOW(bag of words)\n",
    "* 가장 간단하지만 효과적이라 널리쓰이는 방법\n",
    "* 장, 문단, 문장, 서식과 같은 입력 텍스트의 구조를 제외하고 각 단어가 이 말뭉치에 얼마나 많이 나타나는지만 헤아립니다.\n",
    "* 구조와 상관없이 단어의 출현횟수만 세기 때문에 텍스트를 담는 가방(bag)으로 생각할 수 있습니다.\n",
    "* BOW는 단어의 순서가 완전히 무시 된다는 단점이 있다. 예를 들어 의미가 완전히 반대인 두 문장이 있다고 합니다.\n",
    "    - `it's bad, not good at all.` \n",
    "    - `it's good, not bad at all.` \n",
    "* 위 두 문장은 의미가 전혀 반대지만 완전히 동일하게 반환됩니다.\n",
    "* 이를 보완하기 위해 n-gram을 사용하는 데 BOW는 하나의 토큰을 사용하지만 n-gram은 n개의 토큰을 사용할 수 있도록 합니다.\n",
    "* min_df는 문서에 특정 단어가 최소 몇 번 이상 문서에 등장하는 단어를 가방에 담겠다는 의미입니다.\n",
    "\n",
    "* [Bag-of-words model - Wikipedia](https://en.wikipedia.org/wiki/Bag-of-words_model)\n",
    "\n",
    "## 사이킷런의 CountVectorizer를 통해 벡터화\n",
    "* 미리 전처리 해둔 텍스트 데이터로 벡터화 합니다.\n",
    "* 모두 소문자로 변환시키기 때문에 영어의 경우 good, Good, gOod이 모두 같은 특성이 됩니다.\n",
    "* 의미없는 특성을 많이 생성하기 때문에 적어도 두 번이상 문서에 나타난 토큰만을 사용한다."
   ]
  },
  {
   "cell_type": "code",
   "execution_count": 32,
   "metadata": {},
   "outputs": [
    {
     "data": {
      "text/plain": [
       "CountVectorizer(analyzer='word', binary=False, decode_error='strict',\n",
       "        dtype=<class 'numpy.int64'>, encoding='utf-8', input='content',\n",
       "        lowercase=True, max_df=1.0, max_features=2000, min_df=2,\n",
       "        ngram_range=(1, 3), preprocessor=None, stop_words=None,\n",
       "        strip_accents=None, token_pattern='(?u)\\\\b\\\\w\\\\w+\\\\b',\n",
       "        tokenizer=None, vocabulary=None)"
      ]
     },
     "execution_count": 32,
     "metadata": {},
     "output_type": "execute_result"
    }
   ],
   "source": [
    "from sklearn.feature_extraction.text import CountVectorizer\n",
    "\n",
    "vectorizer = CountVectorizer(analyzer = 'word', # 캐릭터 단위로 벡터화 할 수도 있습니다.\n",
    "                             tokenizer = None, # 토크나이저를 따로 지정해 줄 수도 있습니다.\n",
    "                             preprocessor = None, # 전처리 도구\n",
    "                             stop_words = None, # 불용어 nltk등의 도구를 사용할 수도 있습니다.\n",
    "                             min_df = 2, # 토큰이 나타날 최소 문서 개수로 오타나 자주 나오지 않는 특수한 전문용어 제거에 좋다. \n",
    "                             ngram_range=(1, 3), # BOW의 단위를 1~3개로 지정합니다.\n",
    "                             max_features = 2000 # 만들 피처의 수, 단어의 수가 된다.\n",
    "                            )\n",
    "vectorizer"
   ]
  },
  {
   "cell_type": "code",
   "execution_count": 33,
   "metadata": {},
   "outputs": [
    {
     "name": "stdout",
     "output_type": "stream",
     "text": [
      "CPU times: user 25.5 s, sys: 1.03 s, total: 26.6 s\n",
      "Wall time: 26.9 s\n"
     ]
    }
   ],
   "source": [
    "%%time \n",
    "train_feature_vector = vectorizer.fit_transform(df_train['content_preprocessing2'])\n",
    "train_feature_vector.shape"
   ]
  },
  {
   "cell_type": "code",
   "execution_count": 34,
   "metadata": {},
   "outputs": [
    {
     "name": "stdout",
     "output_type": "stream",
     "text": [
      "CPU times: user 14.8 s, sys: 617 ms, total: 15.4 s\n",
      "Wall time: 15.7 s\n"
     ]
    }
   ],
   "source": [
    "%%time \n",
    "test_feature_vector = vectorizer.fit_transform(df_test['content_preprocessing2'])\n",
    "test_feature_vector.shape"
   ]
  },
  {
   "cell_type": "code",
   "execution_count": 35,
   "metadata": {},
   "outputs": [
    {
     "name": "stdout",
     "output_type": "stream",
     "text": [
      "2000\n"
     ]
    },
    {
     "data": {
      "text/plain": [
       "['aid',\n",
       " 'article',\n",
       " 'articleview',\n",
       " 'articleview html',\n",
       " 'articleview html idxno',\n",
       " 'a는',\n",
       " 'cctv',\n",
       " 'cctv를',\n",
       " 'co',\n",
       " 'co kr']"
      ]
     },
     "execution_count": 35,
     "metadata": {},
     "output_type": "execute_result"
    }
   ],
   "source": [
    "vocab = vectorizer.get_feature_names()\n",
    "print(len(vocab))\n",
    "vocab[:10]"
   ]
  },
  {
   "cell_type": "code",
   "execution_count": 36,
   "metadata": {},
   "outputs": [
    {
     "data": {
      "text/html": [
       "<div>\n",
       "<style scoped>\n",
       "    .dataframe tbody tr th:only-of-type {\n",
       "        vertical-align: middle;\n",
       "    }\n",
       "\n",
       "    .dataframe tbody tr th {\n",
       "        vertical-align: top;\n",
       "    }\n",
       "\n",
       "    .dataframe thead th {\n",
       "        text-align: right;\n",
       "    }\n",
       "</style>\n",
       "<table border=\"1\" class=\"dataframe\">\n",
       "  <thead>\n",
       "    <tr style=\"text-align: right;\">\n",
       "      <th></th>\n",
       "      <th>aid</th>\n",
       "      <th>article</th>\n",
       "      <th>articleview</th>\n",
       "      <th>articleview html</th>\n",
       "      <th>articleview html idxno</th>\n",
       "      <th>a는</th>\n",
       "      <th>cctv</th>\n",
       "      <th>cctv를</th>\n",
       "      <th>co</th>\n",
       "      <th>co kr</th>\n",
       "      <th>...</th>\n",
       "      <th>훨씬</th>\n",
       "      <th>희망을</th>\n",
       "      <th>힘든</th>\n",
       "      <th>힘들게</th>\n",
       "      <th>힘들고</th>\n",
       "      <th>힘들어</th>\n",
       "      <th>힘듭니다</th>\n",
       "      <th>힘없는</th>\n",
       "      <th>힘을</th>\n",
       "      <th>힘이</th>\n",
       "    </tr>\n",
       "  </thead>\n",
       "  <tbody>\n",
       "    <tr>\n",
       "      <th>0</th>\n",
       "      <td>220</td>\n",
       "      <td>161</td>\n",
       "      <td>145</td>\n",
       "      <td>122</td>\n",
       "      <td>418</td>\n",
       "      <td>401</td>\n",
       "      <td>173</td>\n",
       "      <td>852</td>\n",
       "      <td>157</td>\n",
       "      <td>146</td>\n",
       "      <td>...</td>\n",
       "      <td>122</td>\n",
       "      <td>231</td>\n",
       "      <td>470</td>\n",
       "      <td>328</td>\n",
       "      <td>127</td>\n",
       "      <td>133</td>\n",
       "      <td>154</td>\n",
       "      <td>188</td>\n",
       "      <td>363</td>\n",
       "      <td>220</td>\n",
       "    </tr>\n",
       "  </tbody>\n",
       "</table>\n",
       "<p>1 rows × 2000 columns</p>\n",
       "</div>"
      ],
      "text/plain": [
       "   aid  article  articleview  articleview html  articleview html idxno   a는  \\\n",
       "0  220      161          145               122                     418  401   \n",
       "\n",
       "   cctv  cctv를   co  co kr ...    훨씬  희망을   힘든  힘들게  힘들고  힘들어  힘듭니다  힘없는   힘을  \\\n",
       "0   173    852  157    146 ...   122  231  470  328  127  133   154  188  363   \n",
       "\n",
       "    힘이  \n",
       "0  220  \n",
       "\n",
       "[1 rows x 2000 columns]"
      ]
     },
     "execution_count": 36,
     "metadata": {},
     "output_type": "execute_result"
    }
   ],
   "source": [
    "dist = np.sum(train_feature_vector, axis=0)\n",
    "\n",
    "pd.DataFrame(dist, columns=vocab)"
   ]
  },
  {
   "cell_type": "markdown",
   "metadata": {},
   "source": [
    "## TF-IDF\n",
    "TF(단어 빈도, term frequency)는 특정한 단어가 문서 내에 얼마나 자주 등장하는지를 나타내는 값으로, 이 값이 높을수록 문서에서 중요하다고 생각할 수 있다. 하지만 단어 자체가 문서군 내에서 자주 사용되는 경우, 이것은 그 단어가 흔하게 등장한다는 것을 의미한다. 이것을 DF(문서 빈도, document frequency)라고 하며, 이 값의 역수를 IDF(역문서 빈도, inverse document frequency)라고 한다. TF-IDF는 TF와 IDF를 곱한 값이다.\n",
    "\n",
    "IDF 값은 문서군의 성격에 따라 결정된다. 예를 들어 '원자'라는 낱말은 일반적인 문서들 사이에서는 잘 나오지 않기 때문에 IDF 값이 높아지고 문서의 핵심어가 될 수 있지만, 원자에 대한 문서를 모아놓은 문서군의 경우 이 낱말은 상투어가 되어 각 문서들을 세분화하여 구분할 수 있는 다른 낱말들이 높은 가중치를 얻게 된다.\n",
    "\n",
    "역문서 빈도(IDF)는 한 단어가 문서 집합 전체에서 얼마나 공통적으로 나타나는지를 나타내는 값이다. 전체 문서의 수를 해당 단어를 포함한 문서의 수로 나눈 뒤 로그를 취하여 얻을 수 있다.\n",
    "\n",
    "* 출처 : [TF-IDF - 위키백과, 우리 모두의 백과사전](https://ko.wikipedia.org/wiki/TF-IDF)\n",
    "\n",
    "\\begin{equation*}\n",
    "\\text{tfidf}(w, d) = \\text{tf} \\times (\\log\\big(\\frac{N + 1}{N_w + 1}\\big) + 1)\n",
    "\\end{equation*}\n",
    "\n",
    "\n",
    "* 싸이킷런 공식문서 : [4.2. Feature extraction — scikit-learn 0.19.1 documentation](http://scikit-learn.org/stable/modules/feature_extraction.html)\n",
    "\n",
    "### TfidfTransformer()\n",
    "* norm='l2' 각 문서의 피처 벡터를 어떻게 벡터 정규화 할지 정한다. \n",
    "    - L2 : 벡터의 각 원소의 제곱의 합이 1이 되도록 만드는 것이고 기본 값\n",
    "    - L1 : 벡터의 각 원소의 절댓값의 합이 1이 되도록 크기를 조절\n",
    "* smooth_idf=False\n",
    "    - 피처를 만들 때 0으로 나오는 항목에 대해 작은 값을 더해서(스무딩을 해서) 피처를 만들지 아니면 그냥 생성할지를 결정\n",
    "* sublinear_tf=False\n",
    "* use_idf=True\n",
    "    - TF-IDF를 사용해 피처를 만들 것인지 아니면 단어 빈도 자체를 사용할 것인지 여부"
   ]
  },
  {
   "cell_type": "code",
   "execution_count": 37,
   "metadata": {},
   "outputs": [
    {
     "data": {
      "text/plain": [
       "TfidfTransformer(norm='l2', smooth_idf=False, sublinear_tf=False,\n",
       "         use_idf=True)"
      ]
     },
     "execution_count": 37,
     "metadata": {},
     "output_type": "execute_result"
    }
   ],
   "source": [
    "from sklearn.feature_extraction.text import TfidfTransformer\n",
    "transformer = TfidfTransformer(smooth_idf=False)\n",
    "transformer"
   ]
  },
  {
   "cell_type": "code",
   "execution_count": 38,
   "metadata": {},
   "outputs": [
    {
     "name": "stdout",
     "output_type": "stream",
     "text": [
      "CPU times: user 32.3 ms, sys: 6.9 ms, total: 39.2 ms\n",
      "Wall time: 38.9 ms\n"
     ]
    }
   ],
   "source": [
    "%%time \n",
    "train_feature_tfidf = transformer.fit_transform(train_feature_vector)\n",
    "train_feature_tfidf.shape"
   ]
  },
  {
   "cell_type": "code",
   "execution_count": 39,
   "metadata": {},
   "outputs": [
    {
     "name": "stdout",
     "output_type": "stream",
     "text": [
      "CPU times: user 18.4 ms, sys: 3.31 ms, total: 21.7 ms\n",
      "Wall time: 19.5 ms\n"
     ]
    }
   ],
   "source": [
    "%%time \n",
    "test_feature_tfidf = transformer.fit_transform(test_feature_vector)\n",
    "test_feature_tfidf.shape"
   ]
  },
  {
   "cell_type": "code",
   "execution_count": 40,
   "metadata": {},
   "outputs": [
    {
     "data": {
      "text/plain": [
       "(5109, 2000)"
      ]
     },
     "execution_count": 40,
     "metadata": {},
     "output_type": "execute_result"
    }
   ],
   "source": [
    "test_feature_tfidf.shape"
   ]
  },
  {
   "cell_type": "markdown",
   "metadata": {},
   "source": [
    "# 랜덤 포레스트로 학습시키기\n",
    "* 공식문서 : http://scikit-learn.org/stable/modules/generated/sklearn.ensemble.RandomForestClassifier.html"
   ]
  },
  {
   "cell_type": "code",
   "execution_count": 41,
   "metadata": {},
   "outputs": [
    {
     "data": {
      "text/plain": [
       "RandomForestClassifier(bootstrap=True, class_weight=None, criterion='gini',\n",
       "            max_depth=None, max_features='auto', max_leaf_nodes=None,\n",
       "            min_impurity_decrease=0.0, min_impurity_split=None,\n",
       "            min_samples_leaf=1, min_samples_split=2,\n",
       "            min_weight_fraction_leaf=0.0, n_estimators=100, n_jobs=-1,\n",
       "            oob_score=False, random_state=2018, verbose=0,\n",
       "            warm_start=False)"
      ]
     },
     "execution_count": 41,
     "metadata": {},
     "output_type": "execute_result"
    }
   ],
   "source": [
    "from sklearn.ensemble import RandomForestClassifier\n",
    "\n",
    "# 랜덤포레스트 분류기를 사용\n",
    "forest = RandomForestClassifier(\n",
    "    n_estimators = 100, n_jobs = -1, random_state=2018)\n",
    "forest"
   ]
  },
  {
   "cell_type": "code",
   "execution_count": 42,
   "metadata": {},
   "outputs": [
    {
     "name": "stdout",
     "output_type": "stream",
     "text": [
      "CPU times: user 25.4 s, sys: 209 ms, total: 25.6 s\n",
      "Wall time: 8.18 s\n"
     ]
    }
   ],
   "source": [
    "# 학습에 사용할 y_label 을 넣어준다.\n",
    "y_label = df_train['votes_pos_neg']\n",
    "%time forest = forest.fit(train_feature_tfidf, y_label)"
   ]
  },
  {
   "cell_type": "markdown",
   "metadata": {},
   "source": [
    "# 평가하기"
   ]
  },
  {
   "cell_type": "code",
   "execution_count": 43,
   "metadata": {},
   "outputs": [
    {
     "data": {
      "text/plain": [
       "array([0.79026846, 0.7852349 , 0.80159396, 0.79227864, 0.77801091])"
      ]
     },
     "execution_count": 43,
     "metadata": {},
     "output_type": "execute_result"
    }
   ],
   "source": [
    "from sklearn.model_selection import KFold\n",
    "from sklearn.model_selection import cross_val_score\n",
    "k_fold = KFold(n_splits=5, shuffle=True, random_state=0)\n",
    "\n",
    "scoring = 'accuracy'\n",
    "score = cross_val_score(forest, train_feature_tfidf, y_label, cv=k_fold, n_jobs=-1, scoring=scoring)\n",
    "score"
   ]
  },
  {
   "cell_type": "code",
   "execution_count": 44,
   "metadata": {},
   "outputs": [
    {
     "data": {
      "text/plain": [
       "78.95"
      ]
     },
     "execution_count": 44,
     "metadata": {},
     "output_type": "execute_result"
    }
   ],
   "source": [
    "round(np.mean(score)*100,2)"
   ]
  },
  {
   "cell_type": "markdown",
   "metadata": {},
   "source": [
    "# 예측"
   ]
  },
  {
   "cell_type": "code",
   "execution_count": 45,
   "metadata": {},
   "outputs": [
    {
     "data": {
      "text/plain": [
       "array([0, 0, 0, 0, 0, 0, 0, 0, 0, 0])"
      ]
     },
     "execution_count": 45,
     "metadata": {},
     "output_type": "execute_result"
    }
   ],
   "source": [
    "# 테스트 데이터를 넣고 예측한다.\n",
    "y_pred = forest.predict(test_feature_tfidf)\n",
    "y_pred[:10]"
   ]
  },
  {
   "cell_type": "code",
   "execution_count": 46,
   "metadata": {},
   "outputs": [
    {
     "data": {
      "text/plain": [
       "(5109,)"
      ]
     },
     "execution_count": 46,
     "metadata": {},
     "output_type": "execute_result"
    }
   ],
   "source": [
    "y_pred.shape"
   ]
  },
  {
   "cell_type": "code",
   "execution_count": 47,
   "metadata": {},
   "outputs": [
    {
     "data": {
      "text/html": [
       "<div>\n",
       "<style scoped>\n",
       "    .dataframe tbody tr th:only-of-type {\n",
       "        vertical-align: middle;\n",
       "    }\n",
       "\n",
       "    .dataframe tbody tr th {\n",
       "        vertical-align: top;\n",
       "    }\n",
       "\n",
       "    .dataframe thead th {\n",
       "        text-align: right;\n",
       "    }\n",
       "</style>\n",
       "<table border=\"1\" class=\"dataframe\">\n",
       "  <thead>\n",
       "    <tr style=\"text-align: right;\">\n",
       "      <th></th>\n",
       "      <th>votes_pos_neg_pred</th>\n",
       "    </tr>\n",
       "  </thead>\n",
       "  <tbody>\n",
       "    <tr>\n",
       "      <th>0</th>\n",
       "      <td>0</td>\n",
       "    </tr>\n",
       "    <tr>\n",
       "      <th>1</th>\n",
       "      <td>0</td>\n",
       "    </tr>\n",
       "    <tr>\n",
       "      <th>2</th>\n",
       "      <td>0</td>\n",
       "    </tr>\n",
       "    <tr>\n",
       "      <th>3</th>\n",
       "      <td>0</td>\n",
       "    </tr>\n",
       "    <tr>\n",
       "      <th>4</th>\n",
       "      <td>0</td>\n",
       "    </tr>\n",
       "  </tbody>\n",
       "</table>\n",
       "</div>"
      ],
      "text/plain": [
       "   votes_pos_neg_pred\n",
       "0                   0\n",
       "1                   0\n",
       "2                   0\n",
       "3                   0\n",
       "4                   0"
      ]
     },
     "execution_count": 47,
     "metadata": {},
     "output_type": "execute_result"
    }
   ],
   "source": [
    "# 예측 결과를 저장하기 위해 데이터프레임에 담아 준다.\n",
    "output = pd.DataFrame(data={'votes_pos_neg_pred':y_pred})\n",
    "output.head()"
   ]
  },
  {
   "cell_type": "code",
   "execution_count": 48,
   "metadata": {},
   "outputs": [
    {
     "data": {
      "text/plain": [
       "0    5095\n",
       "1      14\n",
       "Name: votes_pos_neg_pred, dtype: int64"
      ]
     },
     "execution_count": 48,
     "metadata": {},
     "output_type": "execute_result"
    }
   ],
   "source": [
    "# 0과 1이 어떻게 집계 되었는지 확인한다.\n",
    "# 실제 데이터에는 답변 대상 건이 있는데 없는 것으로 예측되었다.\n",
    "output['votes_pos_neg_pred'].value_counts()"
   ]
  },
  {
   "cell_type": "code",
   "execution_count": 49,
   "metadata": {},
   "outputs": [],
   "source": [
    "df_test['votes_pos_neg_pred'] = y_pred"
   ]
  },
  {
   "cell_type": "code",
   "execution_count": 50,
   "metadata": {},
   "outputs": [
    {
     "data": {
      "text/html": [
       "<div>\n",
       "<style scoped>\n",
       "    .dataframe tbody tr th:only-of-type {\n",
       "        vertical-align: middle;\n",
       "    }\n",
       "\n",
       "    .dataframe tbody tr th {\n",
       "        vertical-align: top;\n",
       "    }\n",
       "\n",
       "    .dataframe thead th {\n",
       "        text-align: right;\n",
       "    }\n",
       "</style>\n",
       "<table border=\"1\" class=\"dataframe\">\n",
       "  <thead>\n",
       "    <tr style=\"text-align: right;\">\n",
       "      <th></th>\n",
       "      <th>article_id</th>\n",
       "      <th>start</th>\n",
       "      <th>end</th>\n",
       "      <th>answered</th>\n",
       "      <th>votes</th>\n",
       "      <th>category</th>\n",
       "      <th>title</th>\n",
       "      <th>content</th>\n",
       "      <th>votes_pos_neg</th>\n",
       "      <th>content_preprocessing</th>\n",
       "      <th>content_preprocessing2</th>\n",
       "      <th>votes_pos_neg_pred</th>\n",
       "      <th>pred_diff</th>\n",
       "    </tr>\n",
       "  </thead>\n",
       "  <tbody>\n",
       "    <tr>\n",
       "      <th>266455</th>\n",
       "      <td>346112</td>\n",
       "      <td>2018-08-18</td>\n",
       "      <td>2018-09-17</td>\n",
       "      <td>0</td>\n",
       "      <td>262</td>\n",
       "      <td>보건복지</td>\n",
       "      <td>★★【국민연금 폐지】★★ 눈에 잘띄게 재업!! 꼭 동의합니다. 눌러주세요!!</td>\n",
       "      <td>안녕하십니까? 친애하는 문재인 대통령님!\\n몇칠전 뉴스에서 문재인 대통령님께서 국민...</td>\n",
       "      <td>0</td>\n",
       "      <td>안녕하십니까 친애하는 문재인 대통령님 몇칠전 뉴스에서 문재인 대통령님께서 국민연금 ...</td>\n",
       "      <td>안녕하십니까 친애하는 문재인 대통령님 몇칠전 뉴스에서 문재인 대통령님께서 국민연금 ...</td>\n",
       "      <td>0</td>\n",
       "      <td>0</td>\n",
       "    </tr>\n",
       "    <tr>\n",
       "      <th>266465</th>\n",
       "      <td>346124</td>\n",
       "      <td>2018-08-18</td>\n",
       "      <td>2018-09-17</td>\n",
       "      <td>0</td>\n",
       "      <td>156</td>\n",
       "      <td>정치개혁</td>\n",
       "      <td>안민석이 발의한 다문화 교육 지원법안 반대하는 국민여론들... 한국인 차별 외국계특...</td>\n",
       "      <td>국회사이트입법예고에 올라온 한국인차별하고 다문화에게만 각종 특혜조공하는 매국반민족 ...</td>\n",
       "      <td>0</td>\n",
       "      <td>국회사이트입법예고에 올라온 한국인차별하고 다문화에게만 각종 특혜조공하는 매국반민족 ...</td>\n",
       "      <td>국회사이트입법예고에 올라온 한국인차별하고 다문화에게만 각종 특혜조공하는 매국반민족 ...</td>\n",
       "      <td>0</td>\n",
       "      <td>0</td>\n",
       "    </tr>\n",
       "    <tr>\n",
       "      <th>266533</th>\n",
       "      <td>346222</td>\n",
       "      <td>2018-08-18</td>\n",
       "      <td>2018-09-17</td>\n",
       "      <td>0</td>\n",
       "      <td>231</td>\n",
       "      <td>교통/건축/국토</td>\n",
       "      <td>거제도-부산을 연결하는 거가대교 통행료 너무 비쌉니다.</td>\n",
       "      <td>안녕하세요.\\n거제도에서 일하고 있는 직장인 입니다.\\n다름이 아니라 거제도와 부산...</td>\n",
       "      <td>0</td>\n",
       "      <td>안녕하세요 거제도에서 일하고 있는 직장인 입니다 다름이 아니라 거제도와 부산을 연결...</td>\n",
       "      <td>거제도에서 일하고 있는 직장인 다름이 아니라 거제도와 부산을 연결하는거가대교 통행료...</td>\n",
       "      <td>0</td>\n",
       "      <td>0</td>\n",
       "    </tr>\n",
       "    <tr>\n",
       "      <th>266540</th>\n",
       "      <td>346230</td>\n",
       "      <td>2018-08-18</td>\n",
       "      <td>2018-09-17</td>\n",
       "      <td>0</td>\n",
       "      <td>219</td>\n",
       "      <td>육아/교육</td>\n",
       "      <td>초,중,고 학생들을 지켜주세요</td>\n",
       "      <td>안녕하세요 고등학교 3학년 학생입니다.\\n다름이 아니라 며칠전 친구가 사교육 받는다...</td>\n",
       "      <td>0</td>\n",
       "      <td>안녕하세요 고등학교 학년 학생입니다 다름이 아니라 며칠전 친구가 사교육 받는다는 이...</td>\n",
       "      <td>고등학교 학년 학생입니다 다름이 아니라 며칠전 친구가 사교육 받는다는 이유로 담임선...</td>\n",
       "      <td>0</td>\n",
       "      <td>0</td>\n",
       "    </tr>\n",
       "    <tr>\n",
       "      <th>266566</th>\n",
       "      <td>346274</td>\n",
       "      <td>2018-08-18</td>\n",
       "      <td>2018-09-17</td>\n",
       "      <td>0</td>\n",
       "      <td>4205</td>\n",
       "      <td>기타</td>\n",
       "      <td>새누리당 매크로 특검원합니다</td>\n",
       "      <td>이미 뉴스에 조작혐의 나온바 있는\\n새누리당 매크로 특검 요청합니다\\n대한민국의 모...</td>\n",
       "      <td>1</td>\n",
       "      <td>이미 뉴스에 조작혐의 나온바 있는 새누리당 매크로 특검 요청합니다 대한민국의 모든 ...</td>\n",
       "      <td>이미 뉴스에 조작혐의 나온바 있는 새누리당 매크로 특검 요청합니다 대한민국의 모든 ...</td>\n",
       "      <td>0</td>\n",
       "      <td>1</td>\n",
       "    </tr>\n",
       "  </tbody>\n",
       "</table>\n",
       "</div>"
      ],
      "text/plain": [
       "        article_id      start        end  answered  votes  category  \\\n",
       "266455      346112 2018-08-18 2018-09-17         0    262      보건복지   \n",
       "266465      346124 2018-08-18 2018-09-17         0    156      정치개혁   \n",
       "266533      346222 2018-08-18 2018-09-17         0    231  교통/건축/국토   \n",
       "266540      346230 2018-08-18 2018-09-17         0    219     육아/교육   \n",
       "266566      346274 2018-08-18 2018-09-17         0   4205        기타   \n",
       "\n",
       "                                                    title  \\\n",
       "266455         ★★【국민연금 폐지】★★ 눈에 잘띄게 재업!! 꼭 동의합니다. 눌러주세요!!   \n",
       "266465  안민석이 발의한 다문화 교육 지원법안 반대하는 국민여론들... 한국인 차별 외국계특...   \n",
       "266533                     거제도-부산을 연결하는 거가대교 통행료 너무 비쌉니다.   \n",
       "266540                                   초,중,고 학생들을 지켜주세요   \n",
       "266566                                    새누리당 매크로 특검원합니다   \n",
       "\n",
       "                                                  content  votes_pos_neg  \\\n",
       "266455  안녕하십니까? 친애하는 문재인 대통령님!\\n몇칠전 뉴스에서 문재인 대통령님께서 국민...              0   \n",
       "266465  국회사이트입법예고에 올라온 한국인차별하고 다문화에게만 각종 특혜조공하는 매국반민족 ...              0   \n",
       "266533  안녕하세요.\\n거제도에서 일하고 있는 직장인 입니다.\\n다름이 아니라 거제도와 부산...              0   \n",
       "266540  안녕하세요 고등학교 3학년 학생입니다.\\n다름이 아니라 며칠전 친구가 사교육 받는다...              0   \n",
       "266566  이미 뉴스에 조작혐의 나온바 있는\\n새누리당 매크로 특검 요청합니다\\n대한민국의 모...              1   \n",
       "\n",
       "                                    content_preprocessing  \\\n",
       "266455  안녕하십니까 친애하는 문재인 대통령님 몇칠전 뉴스에서 문재인 대통령님께서 국민연금 ...   \n",
       "266465  국회사이트입법예고에 올라온 한국인차별하고 다문화에게만 각종 특혜조공하는 매국반민족 ...   \n",
       "266533  안녕하세요 거제도에서 일하고 있는 직장인 입니다 다름이 아니라 거제도와 부산을 연결...   \n",
       "266540  안녕하세요 고등학교 학년 학생입니다 다름이 아니라 며칠전 친구가 사교육 받는다는 이...   \n",
       "266566  이미 뉴스에 조작혐의 나온바 있는 새누리당 매크로 특검 요청합니다 대한민국의 모든 ...   \n",
       "\n",
       "                                   content_preprocessing2  votes_pos_neg_pred  \\\n",
       "266455  안녕하십니까 친애하는 문재인 대통령님 몇칠전 뉴스에서 문재인 대통령님께서 국민연금 ...                   0   \n",
       "266465  국회사이트입법예고에 올라온 한국인차별하고 다문화에게만 각종 특혜조공하는 매국반민족 ...                   0   \n",
       "266533  거제도에서 일하고 있는 직장인 다름이 아니라 거제도와 부산을 연결하는거가대교 통행료...                   0   \n",
       "266540  고등학교 학년 학생입니다 다름이 아니라 며칠전 친구가 사교육 받는다는 이유로 담임선...                   0   \n",
       "266566  이미 뉴스에 조작혐의 나온바 있는 새누리당 매크로 특검 요청합니다 대한민국의 모든 ...                   0   \n",
       "\n",
       "        pred_diff  \n",
       "266455          0  \n",
       "266465          0  \n",
       "266533          0  \n",
       "266540          0  \n",
       "266566          1  "
      ]
     },
     "execution_count": 50,
     "metadata": {},
     "output_type": "execute_result"
    }
   ],
   "source": [
    "df_test['pred_diff'] = np.abs(df_test['votes_pos_neg'] - df_test['votes_pos_neg_pred'])\n",
    "df_test.head()"
   ]
  },
  {
   "cell_type": "code",
   "execution_count": 51,
   "metadata": {},
   "outputs": [
    {
     "data": {
      "text/plain": [
       "0    4030\n",
       "1    1079\n",
       "Name: pred_diff, dtype: int64"
      ]
     },
     "execution_count": 51,
     "metadata": {},
     "output_type": "execute_result"
    }
   ],
   "source": [
    "pred_diff = df_test['pred_diff'].value_counts()\n",
    "pred_diff"
   ]
  },
  {
   "cell_type": "code",
   "execution_count": 52,
   "metadata": {},
   "outputs": [
    {
     "name": "stdout",
     "output_type": "stream",
     "text": [
      "전체 5109건의 데이터 중 4030건 예측\n"
     ]
    }
   ],
   "source": [
    "print('전체 {}건의 데이터 중 {}건 예측'.format(y_pred.shape[0], pred_diff[0]))"
   ]
  },
  {
   "cell_type": "code",
   "execution_count": 53,
   "metadata": {},
   "outputs": [
    {
     "name": "stdout",
     "output_type": "stream",
     "text": [
      "예측 비율 78.88040712468194\n"
     ]
    }
   ],
   "source": [
    "acc = ( pred_diff[0] / y_pred.shape[0] ) *100 \n",
    "print('예측 비율 {}'.format(acc))"
   ]
  },
  {
   "cell_type": "code",
   "execution_count": null,
   "metadata": {},
   "outputs": [],
   "source": []
  }
 ],
 "metadata": {
  "kernelspec": {
   "display_name": "Python 3",
   "language": "python",
   "name": "python3"
  },
  "language_info": {
   "codemirror_mode": {
    "name": "ipython",
    "version": 3
   },
   "file_extension": ".py",
   "mimetype": "text/x-python",
   "name": "python",
   "nbconvert_exporter": "python",
   "pygments_lexer": "ipython3",
   "version": "3.6.1"
  },
  "toc": {
   "base_numbering": 1,
   "nav_menu": {},
   "number_sections": true,
   "sideBar": true,
   "skip_h1_title": false,
   "title_cell": "Table of Contents",
   "title_sidebar": "Contents",
   "toc_cell": false,
   "toc_position": {},
   "toc_section_display": true,
   "toc_window_display": false
  }
 },
 "nbformat": 4,
 "nbformat_minor": 2
}
